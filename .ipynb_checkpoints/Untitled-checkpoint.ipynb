{
 "cells": [
  {
   "cell_type": "code",
   "execution_count": 2,
   "id": "563c6edf-9a2e-4507-8786-0706538566da",
   "metadata": {
    "editable": true,
    "slideshow": {
     "slide_type": ""
    },
    "tags": []
   },
   "outputs": [],
   "source": [
    "import pandas as pd\n",
    "from ntscraper import Nitter\n",
    "import os\n",
    "import re \n",
    "#from NLPyPort.FullPipeline import *\n",
    "import spacy as spy\n",
    "import sys\n",
    "from gensim import corpora\n",
    "import gensim as gs\n",
    "#nltk.download('floresta')"
   ]
  },
  {
   "cell_type": "code",
   "execution_count": null,
   "id": "1812fe40-3dea-471c-9a43-61f145d82d3e",
   "metadata": {
    "scrolled": true
   },
   "outputs": [
    {
     "name": "stderr",
     "output_type": "stream",
     "text": [
      "Testing instances:  34%|████████▎               | 11/32 [00:44<01:55,  5.48s/it]"
     ]
    }
   ],
   "source": [
    "scrap = Nitter()\n"
   ]
  },
  {
   "cell_type": "code",
   "execution_count": null,
   "id": "5859c465-6dc2-40c9-b5b7-f3acf92d302d",
   "metadata": {},
   "outputs": [],
   "source": [
    "def search_bully(terms, ano):\n",
    "    final_tweets = []\n",
    "    bully = scrap.get_tweets(terms, mode=\"term\", number=1000, language=\"pt\",since=f\"{ano}-01-01\", until=f\"{ano}-12-31\")\n",
    "    print(\"Termos pequisados:\"+terms+\"\\n\"+\"Ano pesquisado:\"+f\"{ano}\")\n",
    "    for twt in bully['tweets']:\n",
    "        print(twt['text']+\"\\n\"+\"\\n\")\n",
    "        thetwt = [twt['text'], ano]\n",
    "        final_tweets.append(thetwt)\n",
    "        print(\"-------Proximo twt---------\")\n",
    "    csvtweets = pd.DataFrame(final_tweets, columns=['tweets', 'ano'])\n",
    "    csvtweets.to_csv(f\"{terms}tweets{ano}.csv\")\n",
    "\n",
    "        "
   ]
  },
  {
   "cell_type": "code",
   "execution_count": null,
   "id": "7751d90d-ed77-4f7b-b073-7917f2f31957",
   "metadata": {},
   "outputs": [],
   "source": [
    "#Não funcionou muito bem\n",
    "'''\n",
    "def search_bully2():\n",
    "    final_tweets = []\n",
    "    ano = 2015\n",
    "    terms = ['bully trabalho',\"Bullying trabalho\",\"assedio trabalho\",\n",
    "            'bully emprego', 'Bullying emprego', 'bullyng emprego', 'assedio emprego',\n",
    "            'assedio callcenter', 'Bullying callcenter', 'assedio telemarketing', \n",
    "            'Bullying telemarketing']\n",
    "    for term in terms:\n",
    "        while ano <= 2018:\n",
    "            bully = scrap.get_tweets(term, mode=\"term\", number=10000, language=\"pt\",since=f\"{ano}-01-01\", until=f\"{ano}-12-31\")\n",
    "            for twt in bully['tweets']:\n",
    "                print(twt['text']+\"\\n\"+\"\\n\")\n",
    "                thetwt = [twt['text'], ano]\n",
    "                final_tweets.append(thetwt)\n",
    "                print(\"-------Proximo twt---------\")\n",
    "            csvtweets = pd.DataFrame(final_tweets, columns=['tweets', 'ano'])\n",
    "            ano = ano + 1\n",
    "         csvtweets.to_csv(f\"{term}tweets.csv\")\n",
    "'''\n",
    "                                     \n",
    "        \n",
    "                "
   ]
  },
  {
   "cell_type": "code",
   "execution_count": null,
   "id": "236ee592-973c-4c2a-b453-f86aade5efa6",
   "metadata": {
    "scrolled": true
   },
   "outputs": [],
   "source": [
    "#search_bully2() / Segunda Tentativa / Não funcionou muito bem"
   ]
  },
  {
   "cell_type": "code",
   "execution_count": null,
   "id": "b62cb926-5484-41cd-95ac-99e2ab24fea3",
   "metadata": {
    "scrolled": true
   },
   "outputs": [],
   "source": [
    "search_bully('bully trabalho', 2015) #Terceira Tentativa"
   ]
  },
  {
   "cell_type": "code",
   "execution_count": null,
   "id": "c9686ca1-bfc5-43dd-8681-ac77737343ea",
   "metadata": {
    "scrolled": true
   },
   "outputs": [],
   "source": [
    "search_bully('bully trabalho', 2016)#Terceira Tentativa"
   ]
  },
  {
   "cell_type": "code",
   "execution_count": null,
   "id": "c38b9dcf-bba3-44c0-8888-ebf40267b6f0",
   "metadata": {
    "scrolled": true
   },
   "outputs": [],
   "source": [
    "search_bully('bully trabalho', 2017)#Terceira Tentativa"
   ]
  },
  {
   "cell_type": "code",
   "execution_count": null,
   "id": "7ac36669-5692-4453-9d08-88f7fcdb0de1",
   "metadata": {
    "scrolled": true
   },
   "outputs": [],
   "source": [
    "search_bully('bully trabalho', 2018)#Terceira Tentativa"
   ]
  },
  {
   "cell_type": "code",
   "execution_count": null,
   "id": "9a35af00-3a76-451d-a872-1f8b4fc861ab",
   "metadata": {
    "scrolled": true
   },
   "outputs": [],
   "source": [
    "search_bully('Bullying trabalho', 2015)#Terceira Tentativa"
   ]
  },
  {
   "cell_type": "code",
   "execution_count": null,
   "id": "60dbd787-c882-4d87-a207-50ef66262b57",
   "metadata": {
    "scrolled": true
   },
   "outputs": [],
   "source": [
    "search_bully('Bullying trabalho', 2016)#Terceira Tentativa"
   ]
  },
  {
   "cell_type": "code",
   "execution_count": null,
   "id": "99bcab92-415a-4a8f-ae64-4cf01ab38df0",
   "metadata": {
    "scrolled": true
   },
   "outputs": [],
   "source": [
    "search_bully('Bullying trabalho', 2017)#Terceira Tentativa"
   ]
  },
  {
   "cell_type": "code",
   "execution_count": null,
   "id": "e30e82b3-8a03-4313-beb6-d6b622c111bc",
   "metadata": {
    "scrolled": true
   },
   "outputs": [],
   "source": [
    "search_bully('Bullying trabalho', 2018)#Terceira Tentativa"
   ]
  },
  {
   "cell_type": "code",
   "execution_count": null,
   "id": "cb2bee4f-a10a-46a4-bea5-b11df706e55e",
   "metadata": {},
   "outputs": [],
   "source": [
    "search_bully('assedio trabalho', 2015)#Terceira Tentativa"
   ]
  },
  {
   "cell_type": "code",
   "execution_count": null,
   "id": "5119dee4-c499-4f8d-9406-47a34ec50691",
   "metadata": {},
   "outputs": [],
   "source": [
    "search_bully('assedio trabalho', 2016)#Terceira Tentativa"
   ]
  },
  {
   "cell_type": "code",
   "execution_count": null,
   "id": "330c5480-4083-49c1-a0a7-4525704111b9",
   "metadata": {},
   "outputs": [],
   "source": [
    "search_bully('assedio trabalho', 2017)#Terceira Tentativa"
   ]
  },
  {
   "cell_type": "code",
   "execution_count": null,
   "id": "d61b02f1-2c19-4251-b36b-244e23583fdf",
   "metadata": {},
   "outputs": [],
   "source": [
    "search_bully('assedio trabalho', 2018)#Terceira Tentativa"
   ]
  },
  {
   "cell_type": "code",
   "execution_count": null,
   "id": "5a76d33b-6d42-4661-acd0-73b8def99dc9",
   "metadata": {},
   "outputs": [],
   "source": [
    "search_bully('bully emprego', 2015)#Terceira Tentativa"
   ]
  },
  {
   "cell_type": "code",
   "execution_count": null,
   "id": "c122823b-c458-4fa9-99bc-859b0bc6274f",
   "metadata": {},
   "outputs": [],
   "source": [
    "search_bully('bully emprego', 2016)#Terceira Tentativa"
   ]
  },
  {
   "cell_type": "code",
   "execution_count": null,
   "id": "5fb37e98-4f2d-49b6-b159-100fb0edd91a",
   "metadata": {},
   "outputs": [],
   "source": [
    "search_bully('bully emprego', 2017)#Terceira Tentativa"
   ]
  },
  {
   "cell_type": "code",
   "execution_count": null,
   "id": "ade85b9e-f7f1-416a-a832-ddf004266ba6",
   "metadata": {},
   "outputs": [],
   "source": [
    "search_bully('bully emprego', 2018)#Terceira Tentativa"
   ]
  },
  {
   "cell_type": "code",
   "execution_count": null,
   "id": "9d53636b-0524-4c89-96b6-c400fecd29fc",
   "metadata": {},
   "outputs": [],
   "source": [
    "search_bully('Bullying emprego', 2015)#Terceira Tentativa"
   ]
  },
  {
   "cell_type": "code",
   "execution_count": null,
   "id": "67c6b398-89a6-4af5-ae68-1c5ce9fde039",
   "metadata": {},
   "outputs": [],
   "source": [
    "search_bully('Bullying emprego', 2016)#Terceira Tentativa"
   ]
  },
  {
   "cell_type": "code",
   "execution_count": null,
   "id": "dc941a5e-81e2-42bf-9660-14d1a1d011a9",
   "metadata": {},
   "outputs": [],
   "source": [
    "search_bully('Bullying emprego', 2017)#Terceira Tentativa"
   ]
  },
  {
   "cell_type": "code",
   "execution_count": null,
   "id": "c678e4f1-95e9-4fc2-ae0c-c6cf6b4f7ca4",
   "metadata": {},
   "outputs": [],
   "source": [
    "search_bully('Bullying emprego', 2018)#Terceira Tentativa"
   ]
  },
  {
   "cell_type": "code",
   "execution_count": null,
   "id": "d3005aef-814a-47eb-ba06-e5ac36d861fc",
   "metadata": {},
   "outputs": [],
   "source": [
    "search_bully('bullyng emprego', 2015)#Terceira Tentativa"
   ]
  },
  {
   "cell_type": "code",
   "execution_count": null,
   "id": "4c23cba7-9532-464b-802d-fd21cef5c48f",
   "metadata": {},
   "outputs": [],
   "source": [
    "search_bully('bullyng emprego', 2016)#Terceira Tentativa"
   ]
  },
  {
   "cell_type": "code",
   "execution_count": null,
   "id": "e09f77a8-ff80-4951-970c-6f062ebda53d",
   "metadata": {},
   "outputs": [],
   "source": [
    "search_bully('bullyng emprego', 2017)#Terceira Tentativa"
   ]
  },
  {
   "cell_type": "code",
   "execution_count": null,
   "id": "15293206-0a2a-4f3e-88e9-7da5a1a918d0",
   "metadata": {},
   "outputs": [],
   "source": [
    "search_bully('bullyng emprego', 2018)#Terceira Tentativa"
   ]
  },
  {
   "cell_type": "code",
   "execution_count": null,
   "id": "4011cd53-3525-4f3f-8f6c-5a9557388617",
   "metadata": {
    "scrolled": true
   },
   "outputs": [],
   "source": [
    "search_bully('assedio emprego', 2015)#Terceira Tentativa"
   ]
  },
  {
   "cell_type": "code",
   "execution_count": null,
   "id": "c412cd4f-e7d5-45f7-ad66-6a7df6e01cdd",
   "metadata": {},
   "outputs": [],
   "source": [
    "search_bully('assedio emprego', 2016)#Terceira Tentativa"
   ]
  },
  {
   "cell_type": "code",
   "execution_count": null,
   "id": "c9c6019d-e106-485f-8d6b-99eb9b619a6d",
   "metadata": {},
   "outputs": [],
   "source": [
    "search_bully('assedio emprego', 2017)#Terceira Tentativa"
   ]
  },
  {
   "cell_type": "code",
   "execution_count": null,
   "id": "1c975f52-3916-4510-aae9-da5fd7c75288",
   "metadata": {},
   "outputs": [],
   "source": [
    "search_bully('assedio emprego', 2018)#Terceira Tentativa"
   ]
  },
  {
   "cell_type": "code",
   "execution_count": null,
   "id": "0950e78a-68af-4aa1-bcc6-00f3652a30e7",
   "metadata": {},
   "outputs": [],
   "source": [
    "search_bully('assedio callcenter', 2015)#Terceira Tentativa"
   ]
  },
  {
   "cell_type": "code",
   "execution_count": null,
   "id": "a865c3ea-8be4-466c-9eed-7a839848e617",
   "metadata": {},
   "outputs": [],
   "source": [
    "search_bully('assedio callcenter', 2016)#Terceira Tentativa"
   ]
  },
  {
   "cell_type": "code",
   "execution_count": null,
   "id": "e52a8818-1948-4fe8-841a-57674c6733b3",
   "metadata": {},
   "outputs": [],
   "source": [
    "search_bully('assedio callcenter', 2017)#Terceira Tentativa"
   ]
  },
  {
   "cell_type": "code",
   "execution_count": null,
   "id": "4895853a-a55b-47cf-ac6c-b22a0ce3db28",
   "metadata": {},
   "outputs": [],
   "source": [
    "search_bully('assedio callcenter', 2018)#Terceira Tentativa"
   ]
  },
  {
   "cell_type": "code",
   "execution_count": null,
   "id": "e920e05e-b16b-4f1a-9dda-5eb02ed0de19",
   "metadata": {},
   "outputs": [],
   "source": [
    "search_bully('Bullying callcenter', 2015)#Terceira Tentativa"
   ]
  },
  {
   "cell_type": "code",
   "execution_count": null,
   "id": "ec1ae4af-82b6-4353-98b3-98933b889b96",
   "metadata": {},
   "outputs": [],
   "source": [
    "search_bully('Bullying callcenter', 2016)#Terceira Tentativa"
   ]
  },
  {
   "cell_type": "code",
   "execution_count": null,
   "id": "8f1dc104-b182-4b76-9793-020b896843a2",
   "metadata": {},
   "outputs": [],
   "source": [
    "search_bully('Bullying callcenter', 2017)#Terceira Tentativa"
   ]
  },
  {
   "cell_type": "code",
   "execution_count": null,
   "id": "56f31894-0de2-441f-92a5-10c20bd33544",
   "metadata": {},
   "outputs": [],
   "source": [
    "search_bully('Bullying callcenter', 2018)#Terceira Tentativa"
   ]
  },
  {
   "cell_type": "code",
   "execution_count": null,
   "id": "551ce819-164a-4fd9-8f2d-349422788537",
   "metadata": {},
   "outputs": [],
   "source": [
    "search_bully('assedio telemarketing', 2015)#Terceira Tentativa"
   ]
  },
  {
   "cell_type": "code",
   "execution_count": null,
   "id": "238d5ced-8514-4fc2-b141-6f6d7c5d1c23",
   "metadata": {},
   "outputs": [],
   "source": [
    "search_bully('assedio telemarketing', 2016)#Terceira Tentativa"
   ]
  },
  {
   "cell_type": "code",
   "execution_count": null,
   "id": "3902d3ab-ee55-4b65-ab16-889b0da76a27",
   "metadata": {},
   "outputs": [],
   "source": [
    "search_bully('assedio telemarketing', 2017)#Terceira Tentativa"
   ]
  },
  {
   "cell_type": "code",
   "execution_count": null,
   "id": "d18ca268-51ec-41ea-9d08-0f9f9e451711",
   "metadata": {},
   "outputs": [],
   "source": [
    "search_bully('assedio telemarketing', 2018)#Terceira Tentativa"
   ]
  },
  {
   "cell_type": "code",
   "execution_count": null,
   "id": "67ca23b1-cfc2-4d4b-95ec-edc34b6e3a90",
   "metadata": {},
   "outputs": [],
   "source": [
    "search_bully('Bullying telemarketing', 2015)#Terceira Tentativa"
   ]
  },
  {
   "cell_type": "code",
   "execution_count": null,
   "id": "c2c17ca3-1daf-4458-8ed0-10eff604dfc0",
   "metadata": {},
   "outputs": [],
   "source": [
    "search_bully('Bullying telemarketing', 2016)#Terceira Tentativa"
   ]
  },
  {
   "cell_type": "code",
   "execution_count": null,
   "id": "da08e8ec-68a3-4112-ad26-87d75704f1bc",
   "metadata": {},
   "outputs": [],
   "source": [
    "search_bully('Bullying telemarketing', 2017)#Terceira Tentativa"
   ]
  },
  {
   "cell_type": "code",
   "execution_count": null,
   "id": "b5896128-9781-4f8f-b47f-b4c0408dd525",
   "metadata": {
    "jupyter": {
     "source_hidden": true
    }
   },
   "outputs": [],
   "source": [
    "search_bully('Bullying telemarketing', 2018)#Terceira Tentativa"
   ]
  },
  {
   "cell_type": "code",
   "execution_count": 3,
   "id": "7ecf9a02-a8f6-40b5-ab46-5df20e9924ea",
   "metadata": {},
   "outputs": [
    {
     "name": "stdout",
     "output_type": "stream",
     "text": [
      "                   Termos  2015  2016  2017  2018\n",
      "0          assedioemprego   138     0   295   457\n",
      "1        Bullyingtrabalho  1080   803   738  1192\n",
      "2         assediotrabalho  2300   744  3343     0\n",
      "3       assediocallcenter     0     1     0     0\n",
      "4   Bullyingtelemarketing     4     1     1     2\n",
      "5            bullyemprego     3     3     0     5\n",
      "6    assediotelemarketing    71    28    32    29\n",
      "7        bullytrabalhocsv    26    21    47    61\n",
      "8      Bullyingcallcenter     1     0     1     0\n",
      "9         bullyempregocsv     1     4     6     0\n",
      "10       Bullyingremprego    60    33    55   105\n"
     ]
    }
   ],
   "source": [
    "def pandasRead(folder):\n",
    "    read = pd.read_csv(folder)\n",
    "    return len(read)\n",
    "def coletaDeTweets():\n",
    "    directory = './'\n",
    "    folders = []\n",
    "    folder2015=[]\n",
    "    folder2016=[]\n",
    "    folder2017=[]\n",
    "    folder2018=[]\n",
    "\n",
    "    for filename in os.listdir(directory):\n",
    "        if filename != \".git\" and filename != \"main.py\" and filename != \".ipynb_checkpoints\" and filename != \"Untitled.ipynb\" and filename != \"documentacaoErros\" and filename != \"Primeiratentativa\" and filename != \"Segundatentativa\":\n",
    "            folders.append(filename)\n",
    "    for csvfolder in folders:\n",
    "        for csvs in os.listdir(csvfolder):\n",
    "            if csvs != \".ipynb_checkpoints\" and csvs != \".obsidian\" and csvs !=\"Erros.md\":\n",
    "                pass\n",
    "            if csvs[-5] == '5':\n",
    "                folder2015.append(pandasRead(\"./\"+csvfolder+\"/\"+csvs))\n",
    "            elif csvs[-5] == '6':\n",
    "                folder2016.append(pandasRead(\"./\"+csvfolder+\"/\"+csvs))\n",
    "            elif csvs[-5] == '7':\n",
    "                folder2017.append(pandasRead(\"./\"+csvfolder+\"/\"+csvs))\n",
    "            elif csvs[-5] == '8':\n",
    "                folder2018.append(pandasRead(\"./\"+csvfolder+\"/\"+csvs))\n",
    "    termosFrame = pd.DataFrame({\"Termos\":folders, \"2015\":folder2015, \"2016\":folder2016,\n",
    "                               \"2017\":folder2017,\"2018\":folder2018,})\n",
    "    print(termosFrame)\n",
    "    \n",
    "coletaDeTweets()"
   ]
  },
  {
   "cell_type": "code",
   "execution_count": 4,
   "id": "87e42f0c-7779-4c54-a6d3-16a756128912",
   "metadata": {},
   "outputs": [
    {
     "name": "stdout",
     "output_type": "stream",
     "text": [
      "tweets menores que 5: 2\n",
      "links removidos: 943\n",
      "hashtags removidos: 1277\n",
      "caracteres não alfanuméricos removidos: 3196\n",
      "citacoes removidas: 821\n"
     ]
    }
   ],
   "source": [
    "#Tratamento de caracteres\n",
    "directory = \"./\"\n",
    "tweets=[]\n",
    "tweetsToLower=[]\n",
    "def lerFolder():\n",
    "    for filename in os.listdir(directory):\n",
    "        if filename != \".git\" and filename != \"main.py\" and filename != \".ipynb_checkpoints\" and filename != \"Untitled.ipynb\" and filename != \"documentacaoErros\" and filename != \"Primeiratentativa\" and filename != \"Segundatentativa\":\n",
    "          for csv in os.listdir(filename):\n",
    "               if csv != \".ipynb_checkpoints\" and csv != \".obsidian\" and csv !=\"Erros.md\":\n",
    "                    newCsv = pd.read_csv(\"./\"+filename+\"/\"+csv)\n",
    "                    tweets.append(newCsv['tweets'])\n",
    "\n",
    "def letrasMinusculas():\n",
    "    for array in tweets:\n",
    "        for twt in array:\n",
    "            if type(twt) == float:\n",
    "                pass\n",
    "            else:\n",
    "                tweetsToLower.append(twt.lower())\n",
    "\n",
    "def removerTweetsPoucosCaracteres(lista=tweetsToLower):\n",
    "    tweetsMenores = 0\n",
    "    for item in lista:\n",
    "        if (len(item) < 5):\n",
    "            tweetsMenores += 1\n",
    "            lista.remove(item)\n",
    "    print(\"tweets menores que 5: \"+str(tweetsMenores))\n",
    "\n",
    "def removerLinkQuotesHashtags():  \n",
    "    contadorLinks = 0\n",
    "    contadorHashTags = 0\n",
    "    contadorCaracteres = 0\n",
    "    contadorCitacoes = 0\n",
    "    #Remove links nas seguintes estruturas:\n",
    "    #https://subdom.dom.com.countrycode/urlstr\n",
    "    #https://subdom.dom.com/urlstr\n",
    "    #https://subdom.dom/urlstr\n",
    "    for item in range(len(tweetsToLower)):\n",
    "        if len(re.findall(\"https://[a-zA-Z0-9]+[.][a-zA-Z0-9]+[.][a-zA-Z0-9]+[.][a-zA-Z0-9]+[/[a-zA-Z0-9]+]*\", tweetsToLower[item])) > 0:\n",
    "            tweetsToLower[item]=re.sub(\"https://[a-zA-Z0-9]+[.][a-zA-Z0-9]+[.][a-zA-Z0-9]+[.][a-zA-Z0-9]+[/[a-zA-Z0-9]+]*\",\"\", tweetsToLower[item])\n",
    "            #print(tweetsToLower[item])\n",
    "            contadorLinks += 1\n",
    "        if len(re.findall(\"https://[a-zA-Z0-9]+[.][a-zA-Z0-9]+[.][a-zA-Z0-9]+[/[a-zA-Z0-9]+]*\", tweetsToLower[item])) > 0:\n",
    "            tweetsToLower[item]=re.sub(\"https://[a-zA-Z0-9]+[.][a-zA-Z0-9]+[.][a-zA-Z0-9]+[/[a-zA-Z0-9]+]*\",\"\", tweetsToLower[item])\n",
    "            #print(tweetsToLower[item])\n",
    "            contadorLinks += 1\n",
    "        if len(re.findall(\"https://[a-zA-Z0-9]+[.][a-zA-Z0-9]+[/[a-zA-Z0-9]+]*\", tweetsToLower[item])) > 0:\n",
    "            tweetsToLower[item]=re.sub(\"https://[a-zA-Z0-9]+[.][a-zA-Z0-9]+[/[a-zA-Z0-9]+]*\",\"\", tweetsToLower[item])\n",
    "            contadorLinks += 1\n",
    "            #print(tweetsToLower[item])\n",
    "    \n",
    "    #Remove # no inicio e final de palavras\n",
    "    for item in range(len(tweetsToLower)):\n",
    "        if len(re.findall(\"#[a-zA-Z0-9]+\", tweetsToLower[item])) > 0: \n",
    "            #print(re.findall(\"#[a-zA-Z0-9]+\", tweetsToLower[item]))\n",
    "            tweetsToLower[item] = re.sub(\"#[a-zA-Z0-9]+\", \"\", tweetsToLower[item])\n",
    "            contadorHashTags += 1\n",
    "        if len(re.findall(\"[a-zA-Z0-9]+#\", tweetsToLower[item])) > 0:\n",
    "            #print(re.findall(\"[a-zA-Z0-9]+#\", tweetsToLower[item])):\n",
    "            tweetsToLower[item] = re.sub(\"[a-zA-Z0-9]+#\", \"\", tweetsToLower[item])\n",
    "            contadorHashTags += 1\n",
    "            \n",
    "    #Remove caracteres não alfanuméricos, no inicio, meio e fim de sentenças\n",
    "    for item in range(len(tweetsToLower)):\n",
    "        if len(re.findall(\"[a-zA-Z0-9]+[@:!$%&*+=|]+[a-zA-Z0-9]+\", tweetsToLower[item])) > 0:\n",
    "            contadorCaracteres += 1\n",
    "            for iter in re.findall(\"[a-zA-Z0-9]+[@:!$%&*+=|]+[a-zA-Z0-9]+\", tweetsToLower[item]):\n",
    "                tweetsToLower[item] = re.sub(\"[a-zA-Z0-9]+[@:!$%&*+=|]+[a-zA-Z0-9]+\",\"\", iter)\n",
    "                \n",
    "        if len(re.findall(\"[:!$%&*+=|]+[a-zA-Z0-9]+\", tweetsToLower[item])) > 0:\n",
    "            contadorCaracteres += 1\n",
    "            #print(re.findall(\"[@:!$%&*+=|][a-zA-Z0-9]+\", tweetsToLower[item]))\n",
    "            for iter in re.findall(\"[:!$%&*+=|]+[a-zA-Z0-9]+\", tweetsToLower[item]):\n",
    "                tweetsToLower[item] = re.sub(\"[:!$%&*+=|]+[a-zA-Z0-9]+\",\"\", iter)\n",
    "                \n",
    "        if len(re.findall(\"[a-zA-Z0-9]+[@:!$%&*+=|]\", tweetsToLower[item])) > 0:\n",
    "            contadorCaracteres += 1\n",
    "            #print(re.findall(\"[a-zA-Z0-9]+[@:!$%&*+=|]\", tweetsToLower[item]))\n",
    "            for iter in re.findall(\"[a-zA-Z0-9]+[@:!$%&*+=|]\", tweetsToLower[item]):\n",
    "                tweetsToLower[item] = re.sub(\"[a-zA-Z0-9]+[@:!$%&*+=|]\",\"\", iter)\n",
    "\n",
    "    #Remove citações de usuários\n",
    "    for item in range(len(tweetsToLower)):\n",
    "        if len(re.findall(\"[@]+[a-zA-Z0-9]+\", tweetsToLower[item])) > 0:\n",
    "            contadorCitacoes += 1\n",
    "            #print(re.findall(\"[@:!$%&*+=|][a-zA-Z0-9]+\", tweetsToLower[item]))\n",
    "            for iter in re.findall(\"[@]+[a-zA-Z0-9]+\", tweetsToLower[item]):\n",
    "                tweetsToLower[item] = re.sub(\"[@]+[a-zA-Z0-9]+\",\"\", iter)\n",
    "    print(\"links removidos: \"+ str(contadorLinks))\n",
    "    print(\"hashtags removidos: \"+ str(contadorHashTags))\n",
    "    print(\"caracteres não alfanuméricos removidos: \"+ str(contadorCaracteres))\n",
    "    print(\"citacoes removidas: \"+ str(contadorCitacoes))\n",
    "def tratarCaracteresEPalavras():\n",
    "    letrasMinusculas()\n",
    "    removerTweetsPoucosCaracteres()\n",
    "    removerLinkQuotesHashtags()\n",
    "    #print(tweetsToLower)\n",
    "lerFolder()\n",
    "tratarCaracteresEPalavras()\n"
   ]
  },
  {
   "cell_type": "code",
   "execution_count": 5,
   "id": "83529350-2b92-45b0-a0f7-431f8dafd9f6",
   "metadata": {},
   "outputs": [],
   "source": [
    "#Tokenização\n",
    "tweetsTokens = []\n",
    "\n",
    "#Crias os tokens\n",
    "def criarTokens():\n",
    "    for item in tweetsToLower:\n",
    "        tweetsTokens.append(item.split())\n",
    "\n",
    "#ELiminar tokens pequenos com menos de 3 de comprimento\n",
    "def eliminarTokensEPequenos():\n",
    "    tokensPequenosEliminados = 0\n",
    "    tweeAlterado = False\n",
    "    for token in tweetsTokens:\n",
    "        #print(token)\n",
    "        for item in token:\n",
    "            if len(item) < 3:\n",
    "                tweeAlterado = True\n",
    "                token.remove(item)\n",
    "        if tweeAlterado == True:\n",
    "            tokensPequenosEliminados += 1\n",
    "            tweeAlterado = False\n",
    "    #print(tokensPequenosEliminados)\n",
    "\n",
    "#Elimina as stopwords presentes no array stopWords\n",
    "def elimiarStopWords():\n",
    "    stopWordsEliminadas = 0\n",
    "    tweeAlterado = False\n",
    "    stopWords = ['que', 'para', 'com',  'não',  'uma', 'por',  'mais',  'dos',  'como',  'mas',  'foi', 'ele',  'das',  'tem', 'seu',  'sua', 'ser',  'quando',  'muito', 'nos', 'está', 'também', 'pelo',  'pela',  'até',  'isso',  'ela',  'entre',  'era',  'depois',  'sem',  'mesmo',  'aos',  'ter',  'seus',  'quem',  'nas',  'esse',  'eles',  'estão',  'você',  'tinha',  'foram',  'essa',  'num',  'nem',  'suas',  'meu', 'minha',  'têm',  'numa',  'pelos',  'elas',  'havia',  'seja',  'qual',  'será',  'nós',  'tenho',  'lhe',  'deles',  'essas',  'esses',  'pelas',  'este',  'fosse',  'dele', 'vocês',  'vos',  'lhes',  'meus',  'minhas',  'teu',  'tua',  'teus',  'tuas',  'nosso',  'nossa',  'nossos',  'nossas',  'dela',  'delas',  'esta',  'estes',  'estas',  'aquele',  'aquela',  'aqueles',  'aquelas',  'isto',  'aquilo',  'estou',  'está',  'estamos',  'estão',  'estive',  'esteve',  'estivemos',  'estiveram',  'estava',  'estávamos',  'estavam',  'estivera',  'estivéramos',  'esteja',  'estejamos',  'estejam',  'estivesse',  'estivéssemos',  'estivessem',  'estiver',  'estivermos',  'estiverem',  'hei', 'havemos',  'hão',  'houve',  'houvemos',  'houveram',  'houvera',  'houvéramos',  'haja',  'hajamos',  'hajam',  'houvesse',  'houvéssemos',  'houvessem',  'houver',  'houvermos',  'houverem',  'houverei',  'houverá',  'houveremos',  'houverão',  'houveria',  'houveríamos',  'houveriam',  'sou',  'somos',  'são',  'era',  'éramos',  'eram',  'fui',  'foi',  'fomos',  'foram',  'fora',  'fôramos',  'seja',  'sejamos',  'sejam',  'fosse',  'fôssemos',  'fossem',  'for',  'formos',  'forem',  'serei',  'será',  'seremos',  'serão',  'seria',  'seríamos',  'seriam',  'tenho',  'tem',  'temos',  'tém',  'tinha',  'tínhamos',  'tinham',  'tive',  'teve',  'tivemos',  'tiveram',  'tivera',  'tivéramos',  'tenha',  'tenhamos',  'tenham',  'tivesse',  'tivéssemos',  'tivessem',  'tiver',  'tivermos',  'tiverem',  'terei',  'terá',  'teremos',  'terão',  'teria',  'teríamos',  'teriam']\n",
    "    #print(len(stopWords))\n",
    "    for token in tweetsTokens:\n",
    "        for item in token:\n",
    "            for word in stopWords:\n",
    "                if item == word:\n",
    "                    try:\n",
    "                        tweeAlterado = True\n",
    "                        token.remove(item)\n",
    "                    except:\n",
    "                        continue\n",
    "        if tweeAlterado == True:\n",
    "            stopWordsEliminadas += 1\n",
    "            tweeAlterado = False\n",
    "    #print(stopWordsEliminadas)\n",
    "#Elimia os tokens vazios, len(token) == 0\n",
    "def eliminarTokensVazios():\n",
    "    for token in tweetsTokens:\n",
    "        if len(token) == 0:\n",
    "            tweetsTokens.remove(token)\n",
    "\n",
    "def tokenizacao():\n",
    "    criarTokens()\n",
    "    eliminarTokensEPequenos()\n",
    "    elimiarStopWords()\n",
    "    eliminarTokensVazios()\n",
    "tokenizacao()\n",
    "#print(tweetsTokens)"
   ]
  },
  {
   "cell_type": "code",
   "execution_count": null,
   "id": "9895d834-98e1-4447-a858-1b563de2dbb5",
   "metadata": {},
   "outputs": [],
   "source": []
  },
  {
   "cell_type": "code",
   "execution_count": 9,
   "id": "1d66fda6-fa16-40e9-b399-c6c928d79bd3",
   "metadata": {},
   "outputs": [],
   "source": [
    "#Lematização, ainda em produção\n",
    "#Lematização com NLPyPort\n",
    "'''\n",
    "options = {\n",
    "\t\t\t\"tokenizer\" : True,\n",
    "\t\t\t\"pos_tagger\" : True,\n",
    "\t\t\t\"lemmatizer\" : True,\n",
    "\t\t\t\"entity_recognition\" : True,\n",
    "\t\t\t\"np_chunking\" : True,\n",
    "\t\t\t\"pre_load\" : False,\n",
    "\t\t\t\"string_or_array\" : False\n",
    "}\n",
    "input_file=\"input_sample.txt\"\n",
    "\n",
    "text=new_full_pipe(input_file,options=options)\n",
    "if(text!=0):\n",
    "\t\ttext.print_conll()\n",
    "'''\n",
    "#Eliminar tokens vazios\n",
    "\n",
    "#Lematização com spacy\n",
    "def lematizar():\n",
    "    nlp = spy.load(\"pt_core_news_sm\")\n",
    "    #print(nlp(tweetsTokens[0][0]))\n",
    "    for num in range(len(tweetsTokens)):\n",
    "        #print(nlp(tweetsTokens[num]))\n",
    "       for item in range(len(tweetsTokens[num])):\n",
    "           tokenItem = nlp(tweetsTokens[num][item])\n",
    "           tweetsTokens[num][item] = tokenItem[0].lemma_"
   ]
  },
  {
   "cell_type": "code",
   "execution_count": null,
   "id": "278a23c9-a02f-4451-ba9a-3d079963e4c9",
   "metadata": {},
   "outputs": [],
   "source": [
    "print(tweetsTokens)"
   ]
  },
  {
   "cell_type": "code",
   "execution_count": 11,
   "id": "2972547c-3c9e-4082-82cf-f1d17a2620a6",
   "metadata": {},
   "outputs": [
    {
     "name": "stdout",
     "output_type": "stream",
     "text": [
      "06-Feb-24 18:44:17 - adding document #0 to Dictionary<0 unique tokens: []>\n",
      "06-Feb-24 18:44:17 - built Dictionary<11371 unique tokens: ['Ministério', 'assédio', 'campanha', 'contra', 'denúncia']...> from 8886 documents (total 89736 corpus positions)\n",
      "06-Feb-24 18:44:17 - Dictionary lifecycle event {'msg': \"built Dictionary<11371 unique tokens: ['Ministério', 'assédio', 'campanha', 'contra', 'denúncia']...> from 8886 documents (total 89736 corpus positions)\", 'datetime': '2024-02-06T18:44:17.568133', 'gensim': '4.3.2', 'python': '3.10.13 (main, Aug 25 2023, 13:20:03) [GCC 9.4.0]', 'platform': 'Linux-5.4.0-169-generic-x86_64-with-glibc2.31', 'event': 'created'}\n"
     ]
    }
   ],
   "source": [
    "dictionary = corpora.Dictionary(tweetsTokens)"
   ]
  },
  {
   "cell_type": "code",
   "execution_count": 13,
   "id": "adcf7a99-f0e4-4fd2-aeed-9791fb2a1a9e",
   "metadata": {},
   "outputs": [
    {
     "name": "stdout",
     "output_type": "stream",
     "text": [
      "06-Feb-24 18:45:05 - using symmetric alpha at 0.1\n",
      "06-Feb-24 18:45:05 - using symmetric eta at 0.1\n",
      "06-Feb-24 18:45:05 - using serial LDA version on this node\n",
      "06-Feb-24 18:45:05 - running online (multi-pass) LDA training, 10 topics, 5 passes over the supplied corpus of 8886 documents, updating model once every 2000 documents, evaluating perplexity every 8886 documents, iterating 50x with a convergence threshold of 0.001000\n",
      "06-Feb-24 18:45:05 - PROGRESS: pass 0, at document #2000/8886\n",
      "06-Feb-24 18:45:06 - merging changes from 2000 documents into a model of 8886 documents\n",
      "06-Feb-24 18:45:06 - topic #6 (0.100): 0.057*\"trabalho\" + 0.056*\"bullying\" + 0.034*\"fazer\" + 0.016*\"sobre\" + 0.015*\"emprego\" + 0.014*\"sofrer\" + 0.014*\"assédio\" + 0.012*\"muito\" + 0.010*\"poder\" + 0.009*\"colega\"\n",
      "06-Feb-24 18:45:06 - topic #8 (0.100): 0.042*\"trabalho\" + 0.037*\"bullying\" + 0.019*\"emprego\" + 0.017*\"ser\" + 0.014*\"assédio\" + 0.013*\"mulher\" + 0.013*\"sofrer\" + 0.011*\"falar\" + 0.010*\"todo\" + 0.010*\"sofro\"\n",
      "06-Feb-24 18:45:06 - topic #2 (0.100): 0.064*\"trabalho\" + 0.063*\"bullying\" + 0.024*\"fazer\" + 0.017*\"emprego\" + 0.017*\"assédio\" + 0.013*\"sobre\" + 0.013*\"sofrer\" + 0.011*\"\"\" + 0.010*\"ir\" + 0.010*\"o\"\n",
      "06-Feb-24 18:45:06 - topic #5 (0.100): 0.045*\"trabalho\" + 0.044*\"bullying\" + 0.028*\"assédio\" + 0.025*\"emprego\" + 0.023*\"sofrer\" + 0.012*\"fazer\" + 0.010*\"não\" + 0.008*\"moral\" + 0.008*\"ir\" + 0.008*\"pessoa\"\n",
      "06-Feb-24 18:45:06 - topic #1 (0.100): 0.042*\"emprego\" + 0.038*\"assédio\" + 0.018*\"trabalho\" + 0.016*\"sofrer\" + 0.015*\"bullying\" + 0.013*\"pra\" + 0.013*\"moral\" + 0.012*\"mulher\" + 0.011*\"perder\" + 0.008*\"\"\"\n",
      "06-Feb-24 18:45:06 - topic diff=9.073351, rho=1.000000\n",
      "06-Feb-24 18:45:06 - PROGRESS: pass 0, at document #4000/8886\n",
      "06-Feb-24 18:45:06 - merging changes from 2000 documents into a model of 8886 documents\n",
      "06-Feb-24 18:45:06 - topic #6 (0.100): 0.072*\"trabalho\" + 0.051*\"bullying\" + 0.044*\"fazer\" + 0.018*\"sobre\" + 0.016*\"assédio\" + 0.014*\"colega\" + 0.011*\"sofrer\" + 0.010*\"muito\" + 0.008*\"moral\" + 0.008*\"poder\"\n",
      "06-Feb-24 18:45:06 - topic #5 (0.100): 0.072*\"trabalho\" + 0.042*\"assédio\" + 0.038*\"bullying\" + 0.032*\"moral\" + 0.017*\"ambiente\" + 0.017*\"sofrer\" + 0.012*\"fazer\" + 0.010*\"não\" + 0.010*\"pessoa\" + 0.009*\"emprego\"\n",
      "06-Feb-24 18:45:06 - topic #0 (0.100): 0.050*\"trabalho\" + 0.037*\"bullying\" + 0.027*\"assédio\" + 0.017*\"saber\" + 0.013*\"vítima\" + 0.011*\"emprego\" + 0.011*\"fazer\" + 0.011*\"muito\" + 0.010*\"usar\" + 0.010*\"...\"\n",
      "06-Feb-24 18:45:06 - topic #3 (0.100): 0.102*\"trabalho\" + 0.084*\"bullying\" + 0.024*\"sobre\" + 0.020*\"sofrer\" + 0.018*\"assédio\" + 0.015*\"fazer\" + 0.011*\"moral\" + 0.009*\"ambiente\" + 0.009*\"falar\" + 0.008*\"hoje\"\n",
      "06-Feb-24 18:45:06 - topic #4 (0.100): 0.037*\"trabalho\" + 0.031*\"assédio\" + 0.020*\"bullying\" + 0.018*\"moral\" + 0.014*\"emprego\" + 0.013*\"pra\" + 0.012*\"ser\" + 0.010*\"\"\" + 0.010*\"sexual\" + 0.010*\"ir\"\n",
      "06-Feb-24 18:45:06 - topic diff=0.387519, rho=0.707107\n",
      "06-Feb-24 18:45:06 - PROGRESS: pass 0, at document #6000/8886\n",
      "06-Feb-24 18:45:07 - merging changes from 2000 documents into a model of 8886 documents\n",
      "06-Feb-24 18:45:07 - topic #0 (0.100): 0.056*\"trabalho\" + 0.043*\"assédio\" + 0.019*\"bullying\" + 0.015*\"Brasil\" + 0.014*\"saber\" + 0.013*\"vítima\" + 0.010*\"moral\" + 0.009*\"trabalhador\" + 0.008*\"...\" + 0.008*\"pressão\"\n",
      "06-Feb-24 18:45:07 - topic #4 (0.100): 0.051*\"assédio\" + 0.046*\"trabalho\" + 0.024*\"moral\" + 0.019*\"sexual\" + 0.011*\"alto\" + 0.010*\"\"\" + 0.010*\"pra\" + 0.010*\"bullying\" + 0.010*\"ser\" + 0.007*\"condição\"\n",
      "06-Feb-24 18:45:07 - topic #6 (0.100): 0.071*\"trabalho\" + 0.041*\"fazer\" + 0.030*\"bullying\" + 0.024*\"assédio\" + 0.016*\"colega\" + 0.013*\"sobre\" + 0.010*\"identificar\" + 0.010*\"moral\" + 0.009*\"sofrer\" + 0.008*\"muito\"\n",
      "06-Feb-24 18:45:07 - topic #2 (0.100): 0.082*\"trabalho\" + 0.040*\"bullying\" + 0.025*\"fazer\" + 0.023*\"assédio\" + 0.016*\"sobre\" + 0.013*\"ir\" + 0.011*\"o\" + 0.011*\"pra\" + 0.010*\"eu\" + 0.010*\"um\"\n",
      "06-Feb-24 18:45:07 - topic #8 (0.100): 0.055*\"trabalho\" + 0.024*\"bullying\" + 0.015*\"ser\" + 0.013*\"todo\" + 0.012*\"assédio\" + 0.012*\"não\" + 0.012*\"falar\" + 0.010*\"mulher\" + 0.010*\"sofrer\" + 0.009*\"ação\"\n",
      "06-Feb-24 18:45:07 - topic diff=0.445069, rho=0.577350\n",
      "06-Feb-24 18:45:07 - PROGRESS: pass 0, at document #8000/8886\n",
      "06-Feb-24 18:45:07 - merging changes from 2000 documents into a model of 8886 documents\n",
      "06-Feb-24 18:45:07 - topic #2 (0.100): 0.082*\"trabalho\" + 0.031*\"assédio\" + 0.024*\"bullying\" + 0.023*\"fazer\" + 0.019*\"Mayer\" + 0.016*\"ir\" + 0.015*\"sobre\" + 0.011*\"pra\" + 0.011*\"o\" + 0.010*\"\"\"\n",
      "06-Feb-24 18:45:07 - topic #5 (0.100): 0.102*\"trabalho\" + 0.099*\"assédio\" + 0.054*\"moral\" + 0.042*\"ambiente\" + 0.027*\"local\" + 0.009*\"sofrer\" + 0.008*\"bullying\" + 0.007*\"não\" + 0.007*\"um\" + 0.007*\"projeto\"\n",
      "06-Feb-24 18:45:07 - topic #7 (0.100): 0.128*\"assédio\" + 0.100*\"trabalho\" + 0.046*\"moral\" + 0.040*\"sexual\" + 0.016*\"vítima\" + 0.015*\"caso\" + 0.014*\"denunciar\" + 0.013*\"ambiente\" + 0.012*\"sobre\" + 0.011*\"poder\"\n",
      "06-Feb-24 18:45:07 - topic #1 (0.100): 0.119*\"assédio\" + 0.076*\"trabalho\" + 0.064*\"moral\" + 0.020*\"sexual\" + 0.020*\"mulher\" + 0.016*\"sofrer\" + 0.011*\"discutir\" + 0.011*\"público\" + 0.011*\"Justiça\" + 0.010*\"cartilha\"\n",
      "06-Feb-24 18:45:07 - topic #8 (0.100): 0.051*\"trabalho\" + 0.018*\"ser\" + 0.015*\"bullying\" + 0.015*\"não\" + 0.014*\"todo\" + 0.012*\"assédio\" + 0.012*\"falar\" + 0.011*\"mulher\" + 0.009*\"assediar\" + 0.008*\"(\"\n",
      "06-Feb-24 18:45:07 - topic diff=0.343950, rho=0.500000\n",
      "06-Feb-24 18:45:07 - -9.607 per-word bound, 779.9 perplexity estimate based on a held-out corpus of 886 documents with 7611 words\n",
      "06-Feb-24 18:45:07 - PROGRESS: pass 0, at document #8886/8886\n",
      "06-Feb-24 18:45:08 - merging changes from 886 documents into a model of 8886 documents\n",
      "06-Feb-24 18:45:08 - topic #2 (0.100): 0.057*\"trabalho\" + 0.031*\"bullying\" + 0.023*\"fazer\" + 0.021*\"ir\" + 0.020*\"assédio\" + 0.016*\"emprego\" + 0.014*\"pra\" + 0.013*\"eu\" + 0.013*\"um\" + 0.012*\"\"\"\n",
      "06-Feb-24 18:45:08 - topic #7 (0.100): 0.118*\"assédio\" + 0.091*\"trabalho\" + 0.052*\"moral\" + 0.033*\"sexual\" + 0.015*\"denunciar\" + 0.014*\"poder\" + 0.013*\"caso\" + 0.012*\"vítima\" + 0.010*\"ambiente\" + 0.010*\"sobre\"\n",
      "06-Feb-24 18:45:08 - topic #5 (0.100): 0.090*\"trabalho\" + 0.085*\"assédio\" + 0.048*\"moral\" + 0.033*\"ambiente\" + 0.023*\"local\" + 0.010*\"combater\" + 0.009*\"um\" + 0.008*\"sofrer\" + 0.008*\"falta\" + 0.008*\"bullying\"\n",
      "06-Feb-24 18:45:08 - topic #3 (0.100): 0.078*\"trabalho\" + 0.035*\"bullying\" + 0.033*\"assédio\" + 0.017*\"sobre\" + 0.017*\"emprego\" + 0.013*\"fazer\" + 0.013*\"sofrer\" + 0.011*\"moral\" + 0.011*\"um\" + 0.010*\"indenizar\"\n",
      "06-Feb-24 18:45:08 - topic #6 (0.100): 0.049*\"trabalho\" + 0.034*\"fazer\" + 0.019*\"assédio\" + 0.018*\"bullying\" + 0.016*\"atendente\" + 0.015*\"José\" + 0.011*\"sobre\" + 0.011*\"identificar\" + 0.010*\"colega\" + 0.010*\"afetar\"\n",
      "06-Feb-24 18:45:08 - topic diff=0.309937, rho=0.447214\n",
      "06-Feb-24 18:45:08 - PROGRESS: pass 1, at document #2000/8886\n",
      "06-Feb-24 18:45:08 - merging changes from 2000 documents into a model of 8886 documents\n",
      "06-Feb-24 18:45:08 - topic #5 (0.100): 0.074*\"trabalho\" + 0.064*\"assédio\" + 0.034*\"moral\" + 0.026*\"ambiente\" + 0.018*\"local\" + 0.015*\"bullying\" + 0.011*\"emprego\" + 0.009*\"sofrer\" + 0.009*\"um\" + 0.008*\"não\"\n",
      "06-Feb-24 18:45:08 - topic #2 (0.100): 0.060*\"trabalho\" + 0.051*\"bullying\" + 0.027*\"fazer\" + 0.022*\"ir\" + 0.016*\"emprego\" + 0.014*\"pra\" + 0.014*\"sobre\" + 0.014*\"assédio\" + 0.013*\"eu\" + 0.012*\"\"\"\n",
      "06-Feb-24 18:45:08 - topic #9 (0.100): 0.087*\"trabalho\" + 0.072*\"bullying\" + 0.053*\"sofrer\" + 0.018*\"assédio\" + 0.011*\"metade\" + 0.011*\"profissional\" + 0.011*\"pra\" + 0.011*\"ti\" + 0.010*\"pesquisa\" + 0.010*\"colega\"\n",
      "06-Feb-24 18:45:08 - topic #0 (0.100): 0.051*\"telemarketing\" + 0.038*\"trabalho\" + 0.028*\"bullying\" + 0.025*\"assédio\" + 0.025*\"vítima\" + 0.023*\"...\" + 0.020*\"usar\" + 0.019*\"ameaçar\" + 0.019*\"chefe\" + 0.018*\"muito\"\n",
      "06-Feb-24 18:45:08 - topic #3 (0.100): 0.080*\"trabalho\" + 0.062*\"bullying\" + 0.023*\"assédio\" + 0.020*\"sobre\" + 0.019*\"emprego\" + 0.015*\"sofrer\" + 0.014*\"fazer\" + 0.009*\"hoje\" + 0.009*\"um\" + 0.008*\"ir\"\n",
      "06-Feb-24 18:45:08 - topic diff=0.358341, rho=0.393963\n",
      "06-Feb-24 18:45:08 - PROGRESS: pass 1, at document #4000/8886\n",
      "06-Feb-24 18:45:08 - merging changes from 2000 documents into a model of 8886 documents\n",
      "06-Feb-24 18:45:08 - topic #3 (0.100): 0.085*\"trabalho\" + 0.071*\"bullying\" + 0.024*\"sobre\" + 0.017*\"fazer\" + 0.017*\"assédio\" + 0.014*\"sofrer\" + 0.011*\"emprego\" + 0.010*\"hoje\" + 0.010*\"falar\" + 0.009*\"um\"\n",
      "06-Feb-24 18:45:08 - topic #6 (0.100): 0.050*\"trabalho\" + 0.045*\"fazer\" + 0.032*\"bullying\" + 0.015*\"sobre\" + 0.015*\"colega\" + 0.010*\"assédio\" + 0.008*\"muito\" + 0.007*\"contar\" + 0.007*\"identificar\" + 0.006*\"poder\"\n",
      "06-Feb-24 18:45:08 - topic #9 (0.100): 0.100*\"trabalho\" + 0.087*\"bullying\" + 0.056*\"sofrer\" + 0.015*\"assédio\" + 0.012*\"fazer\" + 0.011*\"pesquisa\" + 0.011*\"pra\" + 0.011*\"colega\" + 0.010*\"sofro\" + 0.010*\"metade\"\n",
      "06-Feb-24 18:45:08 - topic #5 (0.100): 0.086*\"trabalho\" + 0.062*\"assédio\" + 0.042*\"moral\" + 0.033*\"ambiente\" + 0.019*\"local\" + 0.017*\"bullying\" + 0.008*\"sofrer\" + 0.008*\"\"\" + 0.008*\"falta\" + 0.007*\"não\"\n",
      "06-Feb-24 18:45:08 - topic #2 (0.100): 0.065*\"trabalho\" + 0.061*\"bullying\" + 0.033*\"fazer\" + 0.022*\"ir\" + 0.018*\"sobre\" + 0.017*\"eu\" + 0.016*\"pra\" + 0.012*\"o\" + 0.010*\"\"\" + 0.010*\"um\"\n",
      "06-Feb-24 18:45:08 - topic diff=0.276034, rho=0.393963\n",
      "06-Feb-24 18:45:08 - PROGRESS: pass 1, at document #6000/8886\n",
      "06-Feb-24 18:45:09 - merging changes from 2000 documents into a model of 8886 documents\n",
      "06-Feb-24 18:45:09 - topic #4 (0.100): 0.032*\"assédio\" + 0.025*\"trabalho\" + 0.017*\"emprego\" + 0.014*\"alto\" + 0.012*\"pra\" + 0.011*\"\"\" + 0.011*\"sexual\" + 0.010*\"ser\" + 0.010*\"moral\" + 0.008*\"assediar\"\n",
      "06-Feb-24 18:45:09 - topic #0 (0.100): 0.039*\"trabalho\" + 0.027*\"telemarketing\" + 0.027*\"assédio\" + 0.018*\"vítima\" + 0.018*\"bullying\" + 0.018*\"...\" + 0.015*\"usar\" + 0.013*\"muito\" + 0.013*\"chefe\" + 0.011*\"pressão\"\n",
      "06-Feb-24 18:45:09 - topic #3 (0.100): 0.087*\"trabalho\" + 0.052*\"bullying\" + 0.023*\"assédio\" + 0.023*\"sobre\" + 0.015*\"fazer\" + 0.014*\"sofrer\" + 0.010*\"hoje\" + 0.010*\"um\" + 0.010*\"dia\" + 0.009*\"falar\"\n",
      "06-Feb-24 18:45:09 - topic #8 (0.100): 0.035*\"trabalho\" + 0.027*\"bullying\" + 0.020*\"ser\" + 0.017*\"não\" + 0.014*\"todo\" + 0.012*\"falar\" + 0.011*\"emprego\" + 0.010*\"pra\" + 0.010*\"mesmo\" + 0.009*\"mulher\"\n",
      "06-Feb-24 18:45:09 - topic #9 (0.100): 0.104*\"trabalho\" + 0.062*\"sofrer\" + 0.061*\"bullying\" + 0.031*\"assédio\" + 0.025*\"pesquisa\" + 0.024*\"metade\" + 0.020*\"brasileiro\" + 0.018*\"apontar\" + 0.010*\"colega\" + 0.010*\"fazer\"\n",
      "06-Feb-24 18:45:09 - topic diff=0.308034, rho=0.393963\n",
      "06-Feb-24 18:45:09 - PROGRESS: pass 1, at document #8000/8886\n",
      "06-Feb-24 18:45:09 - merging changes from 2000 documents into a model of 8886 documents\n",
      "06-Feb-24 18:45:09 - topic #0 (0.100): 0.035*\"trabalho\" + 0.035*\"advogar\" + 0.025*\"assédio\" + 0.025*\"desaparecer\" + 0.019*\"telemarketing\" + 0.014*\"fazer\" + 0.014*\"...\" + 0.013*\"vítima\" + 0.013*\"desconfortável\" + 0.013*\"usar\"\n",
      "06-Feb-24 18:45:09 - topic #5 (0.100): 0.104*\"trabalho\" + 0.099*\"assédio\" + 0.054*\"moral\" + 0.047*\"ambiente\" + 0.030*\"local\" + 0.012*\"combater\" + 0.010*\"projeto\" + 0.009*\"um\" + 0.007*\"falta\" + 0.007*\"processo\"\n",
      "06-Feb-24 18:45:09 - topic #2 (0.100): 0.068*\"trabalho\" + 0.032*\"bullying\" + 0.027*\"fazer\" + 0.024*\"ir\" + 0.017*\"assédio\" + 0.016*\"sobre\" + 0.015*\"pra\" + 0.014*\"Mayer\" + 0.012*\"eu\" + 0.011*\"o\"\n",
      "06-Feb-24 18:45:09 - topic #7 (0.100): 0.132*\"assédio\" + 0.106*\"trabalho\" + 0.051*\"moral\" + 0.042*\"sexual\" + 0.016*\"ambiente\" + 0.016*\"denunciar\" + 0.016*\"vítima\" + 0.015*\"caso\" + 0.013*\"poder\" + 0.013*\"sobre\"\n",
      "06-Feb-24 18:45:09 - topic #8 (0.100): 0.035*\"trabalho\" + 0.021*\"ser\" + 0.019*\"bullying\" + 0.018*\"não\" + 0.014*\"todo\" + 0.012*\"falar\" + 0.010*\"mesmo\" + 0.010*\"mulher\" + 0.009*\"pra\" + 0.008*\"emprego\"\n",
      "06-Feb-24 18:45:09 - topic diff=0.249383, rho=0.393963\n",
      "06-Feb-24 18:45:09 - -8.849 per-word bound, 461.1 perplexity estimate based on a held-out corpus of 886 documents with 7611 words\n",
      "06-Feb-24 18:45:09 - PROGRESS: pass 1, at document #8886/8886\n",
      "06-Feb-24 18:45:09 - merging changes from 886 documents into a model of 8886 documents\n",
      "06-Feb-24 18:45:09 - topic #7 (0.100): 0.126*\"assédio\" + 0.098*\"trabalho\" + 0.056*\"moral\" + 0.036*\"sexual\" + 0.016*\"poder\" + 0.016*\"denunciar\" + 0.014*\"caso\" + 0.014*\"ambiente\" + 0.012*\"vítima\" + 0.012*\"sobre\"\n",
      "06-Feb-24 18:45:09 - topic #1 (0.100): 0.120*\"assédio\" + 0.082*\"trabalho\" + 0.075*\"moral\" + 0.022*\"sexual\" + 0.018*\"novo\" + 0.017*\"mulher\" + 0.017*\"lei\" + 0.016*\"Justiça\" + 0.013*\"público\" + 0.011*\"empresa\"\n",
      "06-Feb-24 18:45:09 - topic #0 (0.100): 0.111*\"telemarketing\" + 0.027*\"assédio\" + 0.027*\"trabalho\" + 0.019*\"advogar\" + 0.019*\"bloco\" + 0.017*\"vítima\" + 0.014*\"combater\" + 0.013*\"...\" + 0.013*\"desaparecer\" + 0.013*\"bullie\"\n",
      "06-Feb-24 18:45:09 - topic #8 (0.100): 0.031*\"emprego\" + 0.028*\"bullying\" + 0.023*\"trabalho\" + 0.021*\"não\" + 0.021*\"ser\" + 0.017*\"conseguir\" + 0.012*\"todo\" + 0.011*\"pra\" + 0.010*\"falar\" + 0.010*\"mesmo\"\n",
      "06-Feb-24 18:45:09 - topic #4 (0.100): 0.027*\"emprego\" + 0.027*\"assédio\" + 0.021*\"trabalho\" + 0.017*\"arrumar\" + 0.015*\"pra\" + 0.012*\"alto\" + 0.010*\"ser\" + 0.010*\"ter\" + 0.009*\"assediar\" + 0.009*\"querer\"\n",
      "06-Feb-24 18:45:09 - topic diff=0.268561, rho=0.393963\n",
      "06-Feb-24 18:45:09 - PROGRESS: pass 2, at document #2000/8886\n",
      "06-Feb-24 18:45:10 - merging changes from 2000 documents into a model of 8886 documents\n",
      "06-Feb-24 18:45:10 - topic #3 (0.100): 0.072*\"trabalho\" + 0.062*\"bullying\" + 0.021*\"emprego\" + 0.020*\"sobre\" + 0.017*\"assédio\" + 0.015*\"sofrer\" + 0.015*\"fazer\" + 0.009*\"hoje\" + 0.009*\"um\" + 0.008*\"dia\"\n",
      "06-Feb-24 18:45:10 - topic #9 (0.100): 0.090*\"trabalho\" + 0.078*\"bullying\" + 0.060*\"sofrer\" + 0.016*\"assédio\" + 0.013*\"metade\" + 0.013*\"profissional\" + 0.012*\"ti\" + 0.011*\"pesquisa\" + 0.011*\"colega\" + 0.010*\"sofro\"\n",
      "06-Feb-24 18:45:10 - topic #0 (0.100): 0.055*\"telemarketing\" + 0.034*\"trabalho\" + 0.028*\"vítima\" + 0.026*\"...\" + 0.026*\"bullying\" + 0.023*\"chefe\" + 0.022*\"ameaçar\" + 0.022*\"usar\" + 0.021*\"assédio\" + 0.020*\"muito\"\n",
      "06-Feb-24 18:45:10 - topic #6 (0.100): 0.040*\"trabalho\" + 0.038*\"fazer\" + 0.020*\"bullying\" + 0.020*\"bully\" + 0.012*\"sobre\" + 0.010*\"colega\" + 0.010*\"atendente\" + 0.010*\"José\" + 0.008*\"muito\" + 0.008*\"assédio\"\n",
      "06-Feb-24 18:45:10 - topic #8 (0.100): 0.037*\"emprego\" + 0.030*\"bullying\" + 0.022*\"trabalho\" + 0.022*\"ser\" + 0.019*\"não\" + 0.014*\"conseguir\" + 0.013*\"todo\" + 0.011*\"mulher\" + 0.010*\"falar\" + 0.010*\"pra\"\n",
      "06-Feb-24 18:45:10 - topic diff=0.305228, rho=0.366544\n",
      "06-Feb-24 18:45:10 - PROGRESS: pass 2, at document #4000/8886\n",
      "06-Feb-24 18:45:10 - merging changes from 2000 documents into a model of 8886 documents\n",
      "06-Feb-24 18:45:10 - topic #7 (0.100): 0.109*\"assédio\" + 0.084*\"trabalho\" + 0.057*\"moral\" + 0.030*\"sexual\" + 0.014*\"poder\" + 0.013*\"vítima\" + 0.012*\"ambiente\" + 0.012*\"emprego\" + 0.012*\"denunciar\" + 0.011*\"caso\"\n",
      "06-Feb-24 18:45:10 - topic #5 (0.100): 0.090*\"trabalho\" + 0.068*\"assédio\" + 0.045*\"moral\" + 0.042*\"ambiente\" + 0.022*\"local\" + 0.010*\"bullying\" + 0.009*\"falta\" + 0.009*\"combater\" + 0.008*\"\"\" + 0.008*\"forma\"\n",
      "06-Feb-24 18:45:10 - topic #6 (0.100): 0.041*\"trabalho\" + 0.040*\"fazer\" + 0.021*\"bullying\" + 0.014*\"colega\" + 0.013*\"sobre\" + 0.013*\"bully\" + 0.009*\"muito\" + 0.008*\"identificar\" + 0.008*\"enfrentar\" + 0.008*\"José\"\n",
      "06-Feb-24 18:45:10 - topic #8 (0.100): 0.035*\"bullying\" + 0.025*\"trabalho\" + 0.022*\"emprego\" + 0.020*\"ser\" + 0.019*\"não\" + 0.014*\"todo\" + 0.011*\"pra\" + 0.011*\"falar\" + 0.011*\"conseguir\" + 0.010*\"achar\"\n",
      "06-Feb-24 18:45:10 - topic #1 (0.100): 0.103*\"assédio\" + 0.077*\"trabalho\" + 0.073*\"moral\" + 0.019*\"sexual\" + 0.015*\"mulher\" + 0.013*\"Justiça\" + 0.012*\"novo\" + 0.011*\"discutir\" + 0.011*\"público\" + 0.011*\"sofrer\"\n",
      "06-Feb-24 18:45:10 - topic diff=0.233706, rho=0.366544\n",
      "06-Feb-24 18:45:10 - PROGRESS: pass 2, at document #6000/8886\n",
      "06-Feb-24 18:45:10 - merging changes from 2000 documents into a model of 8886 documents\n",
      "06-Feb-24 18:45:10 - topic #6 (0.100): 0.040*\"fazer\" + 0.039*\"trabalho\" + 0.016*\"colega\" + 0.015*\"bullying\" + 0.014*\"identificar\" + 0.011*\"sobre\" + 0.009*\"bully\" + 0.009*\"José\" + 0.008*\"assédio\" + 0.007*\"enfrentar\"\n",
      "06-Feb-24 18:45:10 - topic #3 (0.100): 0.081*\"trabalho\" + 0.054*\"bullying\" + 0.022*\"sobre\" + 0.017*\"assédio\" + 0.016*\"fazer\" + 0.014*\"sofrer\" + 0.011*\"dia\" + 0.010*\"hoje\" + 0.010*\"falar\" + 0.010*\"um\"\n",
      "06-Feb-24 18:45:10 - topic #0 (0.100): 0.035*\"trabalho\" + 0.030*\"telemarketing\" + 0.023*\"assédio\" + 0.022*\"vítima\" + 0.021*\"...\" + 0.018*\"bullying\" + 0.018*\"usar\" + 0.016*\"chefe\" + 0.014*\"muito\" + 0.013*\"pressão\"\n",
      "06-Feb-24 18:45:10 - topic #5 (0.100): 0.100*\"trabalho\" + 0.093*\"assédio\" + 0.055*\"moral\" + 0.048*\"ambiente\" + 0.031*\"local\" + 0.009*\"combater\" + 0.009*\"falta\" + 0.008*\"forma\" + 0.008*\"um\" + 0.007*\"\"\"\n",
      "06-Feb-24 18:45:10 - topic #4 (0.100): 0.027*\"assédio\" + 0.021*\"emprego\" + 0.016*\"alto\" + 0.016*\"trabalho\" + 0.011*\"pra\" + 0.010*\"sexual\" + 0.009*\"\"\" + 0.009*\"ser\" + 0.009*\"assediar\" + 0.008*\"condição\"\n",
      "06-Feb-24 18:45:10 - topic diff=0.272067, rho=0.366544\n",
      "06-Feb-24 18:45:10 - PROGRESS: pass 2, at document #8000/8886\n",
      "06-Feb-24 18:45:10 - merging changes from 2000 documents into a model of 8886 documents\n",
      "06-Feb-24 18:45:10 - topic #6 (0.100): 0.036*\"trabalho\" + 0.032*\"fazer\" + 0.030*\"José\" + 0.016*\"afetar\" + 0.016*\"EUA\" + 0.014*\"identificar\" + 0.013*\"a\" + 0.013*\"colega\" + 0.013*\"sobre\" + 0.012*\"atrapalhar\"\n",
      "06-Feb-24 18:45:10 - topic #2 (0.100): 0.066*\"trabalho\" + 0.034*\"bullying\" + 0.029*\"fazer\" + 0.025*\"ir\" + 0.019*\"pra\" + 0.018*\"sobre\" + 0.013*\"eu\" + 0.013*\"todo\" + 0.012*\"assédio\" + 0.011*\"\"\"\n",
      "06-Feb-24 18:45:10 - topic #8 (0.100): 0.027*\"trabalho\" + 0.021*\"não\" + 0.021*\"ser\" + 0.019*\"bullying\" + 0.013*\"todo\" + 0.013*\"emprego\" + 0.011*\"falar\" + 0.011*\"achar\" + 0.011*\"pra\" + 0.010*\"mulher\"\n",
      "06-Feb-24 18:45:10 - topic #4 (0.100): 0.032*\"assédio\" + 0.016*\"trabalho\" + 0.014*\"emprego\" + 0.013*\"assediar\" + 0.013*\"alto\" + 0.011*\"pra\" + 0.011*\"diesel\" + 0.010*\"ser\" + 0.010*\"vin\" + 0.009*\"\"\"\n",
      "06-Feb-24 18:45:10 - topic #9 (0.100): 0.103*\"trabalho\" + 0.063*\"sofrer\" + 0.054*\"bullying\" + 0.033*\"assédio\" + 0.021*\"pesquisa\" + 0.020*\"metade\" + 0.017*\"brasileiro\" + 0.015*\"apontar\" + 0.011*\"colega\" + 0.008*\"fazer\"\n",
      "06-Feb-24 18:45:10 - topic diff=0.216163, rho=0.366544\n",
      "06-Feb-24 18:45:11 - -8.477 per-word bound, 356.3 perplexity estimate based on a held-out corpus of 886 documents with 7611 words\n",
      "06-Feb-24 18:45:11 - PROGRESS: pass 2, at document #8886/8886\n",
      "06-Feb-24 18:45:11 - merging changes from 886 documents into a model of 8886 documents\n",
      "06-Feb-24 18:45:11 - topic #8 (0.100): 0.034*\"emprego\" + 0.026*\"bullying\" + 0.023*\"não\" + 0.020*\"ser\" + 0.019*\"trabalho\" + 0.018*\"conseguir\" + 0.012*\"pra\" + 0.011*\"todo\" + 0.011*\"porque\" + 0.011*\"achar\"\n",
      "06-Feb-24 18:45:11 - topic #6 (0.100): 0.036*\"bully\" + 0.034*\"trabalho\" + 0.030*\"fazer\" + 0.018*\"José\" + 0.016*\"atendente\" + 0.012*\"identificar\" + 0.011*\"colega\" + 0.011*\"sobre\" + 0.011*\"afetar\" + 0.011*\"EUA\"\n",
      "06-Feb-24 18:45:11 - topic #2 (0.100): 0.053*\"trabalho\" + 0.035*\"bullying\" + 0.028*\"fazer\" + 0.026*\"ir\" + 0.021*\"pra\" + 0.017*\"bully\" + 0.015*\"eu\" + 0.015*\"emprego\" + 0.013*\"sobre\" + 0.013*\"\"\"\n",
      "06-Feb-24 18:45:11 - topic #1 (0.100): 0.124*\"assédio\" + 0.089*\"trabalho\" + 0.078*\"moral\" + 0.023*\"sexual\" + 0.018*\"novo\" + 0.017*\"lei\" + 0.017*\"Justiça\" + 0.017*\"mulher\" + 0.013*\"público\" + 0.012*\"empresa\"\n",
      "06-Feb-24 18:45:11 - topic #0 (0.100): 0.104*\"telemarketing\" + 0.026*\"assédio\" + 0.026*\"trabalho\" + 0.019*\"vítima\" + 0.019*\"advogar\" + 0.017*\"bloco\" + 0.015*\"...\" + 0.014*\"desaparecer\" + 0.013*\"combater\" + 0.012*\"bullie\"\n",
      "06-Feb-24 18:45:11 - topic diff=0.234696, rho=0.366544\n",
      "06-Feb-24 18:45:11 - PROGRESS: pass 3, at document #2000/8886\n",
      "06-Feb-24 18:45:11 - merging changes from 2000 documents into a model of 8886 documents\n",
      "06-Feb-24 18:45:11 - topic #4 (0.100): 0.040*\"emprego\" + 0.025*\"assédio\" + 0.013*\"alto\" + 0.011*\"pra\" + 0.010*\"perder\" + 0.010*\"arrumar\" + 0.009*\"ser\" + 0.009*\"\"\" + 0.009*\"trabalho\" + 0.009*\"assediar\"\n",
      "06-Feb-24 18:45:11 - topic #6 (0.100): 0.035*\"fazer\" + 0.035*\"trabalho\" + 0.023*\"bully\" + 0.015*\"bullying\" + 0.012*\"sobre\" + 0.012*\"José\" + 0.010*\"colega\" + 0.010*\"atendente\" + 0.008*\"identificar\" + 0.008*\"muito\"\n",
      "06-Feb-24 18:45:11 - topic #7 (0.100): 0.116*\"assédio\" + 0.078*\"trabalho\" + 0.048*\"moral\" + 0.035*\"sexual\" + 0.016*\"poder\" + 0.016*\"denunciar\" + 0.014*\"caso\" + 0.012*\"emprego\" + 0.012*\"ambiente\" + 0.012*\"vítima\"\n",
      "06-Feb-24 18:45:11 - topic #8 (0.100): 0.043*\"emprego\" + 0.027*\"bullying\" + 0.021*\"não\" + 0.021*\"ser\" + 0.018*\"trabalho\" + 0.017*\"conseguir\" + 0.012*\"mulher\" + 0.012*\"todo\" + 0.011*\"porque\" + 0.011*\"pra\"\n",
      "06-Feb-24 18:45:11 - topic #5 (0.100): 0.084*\"trabalho\" + 0.078*\"assédio\" + 0.042*\"ambiente\" + 0.041*\"moral\" + 0.024*\"local\" + 0.012*\"combater\" + 0.011*\"um\" + 0.010*\"situação\" + 0.010*\"falta\" + 0.008*\"projeto\"\n",
      "06-Feb-24 18:45:11 - topic diff=0.266073, rho=0.344153\n",
      "06-Feb-24 18:45:11 - PROGRESS: pass 3, at document #4000/8886\n",
      "06-Feb-24 18:45:12 - merging changes from 2000 documents into a model of 8886 documents\n",
      "06-Feb-24 18:45:12 - topic #7 (0.100): 0.113*\"assédio\" + 0.088*\"trabalho\" + 0.059*\"moral\" + 0.032*\"sexual\" + 0.015*\"poder\" + 0.014*\"ambiente\" + 0.013*\"vítima\" + 0.012*\"caso\" + 0.012*\"denunciar\" + 0.012*\"sobre\"\n",
      "06-Feb-24 18:45:12 - topic #6 (0.100): 0.037*\"fazer\" + 0.035*\"trabalho\" + 0.015*\"bullying\" + 0.015*\"bully\" + 0.015*\"colega\" + 0.013*\"sobre\" + 0.009*\"José\" + 0.008*\"muito\" + 0.008*\"identificar\" + 0.008*\"enfrentar\"\n",
      "06-Feb-24 18:45:12 - topic #5 (0.100): 0.092*\"trabalho\" + 0.072*\"assédio\" + 0.049*\"ambiente\" + 0.046*\"moral\" + 0.024*\"local\" + 0.010*\"combater\" + 0.010*\"falta\" + 0.009*\"projeto\" + 0.008*\"forma\" + 0.008*\"um\"\n",
      "06-Feb-24 18:45:12 - topic #1 (0.100): 0.109*\"assédio\" + 0.082*\"trabalho\" + 0.076*\"moral\" + 0.019*\"sexual\" + 0.015*\"mulher\" + 0.014*\"novo\" + 0.014*\"Justiça\" + 0.011*\"público\" + 0.011*\"lei\" + 0.011*\"discutir\"\n",
      "06-Feb-24 18:45:12 - topic #9 (0.100): 0.105*\"trabalho\" + 0.095*\"bullying\" + 0.067*\"sofrer\" + 0.014*\"assédio\" + 0.013*\"sofro\" + 0.013*\"colega\" + 0.012*\"pesquisa\" + 0.012*\"metade\" + 0.010*\"brasileiro\" + 0.009*\"profissional\"\n",
      "06-Feb-24 18:45:12 - topic diff=0.207668, rho=0.344153\n",
      "06-Feb-24 18:45:12 - PROGRESS: pass 3, at document #6000/8886\n",
      "06-Feb-24 18:45:12 - merging changes from 2000 documents into a model of 8886 documents\n",
      "06-Feb-24 18:45:12 - topic #0 (0.100): 0.034*\"trabalho\" + 0.032*\"telemarketing\" + 0.023*\"vítima\" + 0.022*\"...\" + 0.022*\"assédio\" + 0.019*\"usar\" + 0.018*\"bullying\" + 0.018*\"chefe\" + 0.014*\"muito\" + 0.013*\"ameaçar\"\n",
      "06-Feb-24 18:45:12 - topic #5 (0.100): 0.101*\"trabalho\" + 0.095*\"assédio\" + 0.056*\"moral\" + 0.053*\"ambiente\" + 0.032*\"local\" + 0.010*\"combater\" + 0.009*\"falta\" + 0.008*\"forma\" + 0.008*\"um\" + 0.008*\"situação\"\n",
      "06-Feb-24 18:45:12 - topic #4 (0.100): 0.026*\"assédio\" + 0.021*\"emprego\" + 0.017*\"alto\" + 0.010*\"trabalho\" + 0.010*\"sexual\" + 0.010*\"durante\" + 0.009*\"assediar\" + 0.009*\"pra\" + 0.008*\"\"\" + 0.007*\"hierárquico\"\n",
      "06-Feb-24 18:45:12 - topic #8 (0.100): 0.023*\"bullying\" + 0.022*\"trabalho\" + 0.021*\"não\" + 0.021*\"emprego\" + 0.019*\"ser\" + 0.012*\"todo\" + 0.012*\"porque\" + 0.011*\"pra\" + 0.011*\"achar\" + 0.011*\"mulher\"\n",
      "06-Feb-24 18:45:12 - topic #7 (0.100): 0.131*\"assédio\" + 0.102*\"trabalho\" + 0.062*\"moral\" + 0.046*\"sexual\" + 0.017*\"ambiente\" + 0.015*\"poder\" + 0.014*\"vítima\" + 0.014*\"sobre\" + 0.012*\"caso\" + 0.012*\"denunciar\"\n",
      "06-Feb-24 18:45:12 - topic diff=0.246763, rho=0.344153\n",
      "06-Feb-24 18:45:12 - PROGRESS: pass 3, at document #8000/8886\n",
      "06-Feb-24 18:45:12 - merging changes from 2000 documents into a model of 8886 documents\n",
      "06-Feb-24 18:45:12 - topic #2 (0.100): 0.065*\"trabalho\" + 0.036*\"bullying\" + 0.030*\"fazer\" + 0.026*\"ir\" + 0.020*\"pra\" + 0.018*\"sobre\" + 0.013*\"eu\" + 0.013*\"todo\" + 0.012*\"\"\" + 0.011*\"ser\"\n",
      "06-Feb-24 18:45:12 - topic #1 (0.100): 0.132*\"assédio\" + 0.100*\"trabalho\" + 0.076*\"moral\" + 0.025*\"sexual\" + 0.019*\"mulher\" + 0.018*\"Justiça\" + 0.013*\"público\" + 0.013*\"lei\" + 0.012*\"cartilha\" + 0.011*\"discutir\"\n",
      "06-Feb-24 18:45:12 - topic #6 (0.100): 0.031*\"trabalho\" + 0.031*\"José\" + 0.030*\"fazer\" + 0.020*\"EUA\" + 0.019*\"afetar\" + 0.016*\"a\" + 0.014*\"identificar\" + 0.013*\"sobre\" + 0.013*\"colega\" + 0.011*\"atrapalhar\"\n",
      "06-Feb-24 18:45:12 - topic #5 (0.100): 0.106*\"trabalho\" + 0.104*\"assédio\" + 0.056*\"ambiente\" + 0.055*\"moral\" + 0.033*\"local\" + 0.015*\"combater\" + 0.011*\"projeto\" + 0.010*\"um\" + 0.008*\"falta\" + 0.008*\"situação\"\n",
      "06-Feb-24 18:45:12 - topic #3 (0.100): 0.079*\"trabalho\" + 0.043*\"bullying\" + 0.020*\"sobre\" + 0.019*\"assédio\" + 0.015*\"fazer\" + 0.014*\"sofrer\" + 0.012*\"dia\" + 0.011*\"falar\" + 0.011*\"hoje\" + 0.009*\"um\"\n",
      "06-Feb-24 18:45:12 - topic diff=0.195885, rho=0.344153\n",
      "06-Feb-24 18:45:12 - -8.213 per-word bound, 296.6 perplexity estimate based on a held-out corpus of 886 documents with 7611 words\n",
      "06-Feb-24 18:45:12 - PROGRESS: pass 3, at document #8886/8886\n",
      "06-Feb-24 18:45:12 - merging changes from 886 documents into a model of 8886 documents\n",
      "06-Feb-24 18:45:12 - topic #8 (0.100): 0.036*\"emprego\" + 0.024*\"bullying\" + 0.023*\"não\" + 0.019*\"ser\" + 0.018*\"conseguir\" + 0.016*\"trabalho\" + 0.012*\"pra\" + 0.012*\"porque\" + 0.011*\"ter\" + 0.011*\"achar\"\n",
      "06-Feb-24 18:45:12 - topic #0 (0.100): 0.098*\"telemarketing\" + 0.026*\"assédio\" + 0.026*\"trabalho\" + 0.020*\"vítima\" + 0.018*\"advogar\" + 0.016*\"bloco\" + 0.016*\"...\" + 0.013*\"desaparecer\" + 0.013*\"combater\" + 0.011*\"chefe\"\n",
      "06-Feb-24 18:45:12 - topic #2 (0.100): 0.053*\"trabalho\" + 0.036*\"bullying\" + 0.029*\"fazer\" + 0.026*\"ir\" + 0.022*\"pra\" + 0.016*\"bully\" + 0.015*\"eu\" + 0.014*\"sobre\" + 0.014*\"emprego\" + 0.013*\"\"\"\n",
      "06-Feb-24 18:45:12 - topic #5 (0.100): 0.097*\"trabalho\" + 0.096*\"assédio\" + 0.053*\"moral\" + 0.047*\"ambiente\" + 0.029*\"local\" + 0.016*\"combater\" + 0.011*\"um\" + 0.010*\"falta\" + 0.010*\"projeto\" + 0.009*\"situação\"\n",
      "06-Feb-24 18:45:12 - topic #4 (0.100): 0.025*\"assédio\" + 0.024*\"emprego\" + 0.016*\"arrumar\" + 0.014*\"alto\" + 0.011*\"querer\" + 0.010*\"assediar\" + 0.010*\"pra\" + 0.009*\"trabalho\" + 0.008*\"tomar\" + 0.008*\"diesel\"\n",
      "06-Feb-24 18:45:12 - topic diff=0.206935, rho=0.344153\n",
      "06-Feb-24 18:45:12 - PROGRESS: pass 4, at document #2000/8886\n",
      "06-Feb-24 18:45:13 - merging changes from 2000 documents into a model of 8886 documents\n",
      "06-Feb-24 18:45:13 - topic #4 (0.100): 0.037*\"emprego\" + 0.025*\"assédio\" + 0.013*\"alto\" + 0.011*\"perder\" + 0.010*\"arrumar\" + 0.010*\"assediar\" + 0.009*\"pra\" + 0.009*\"alguém\" + 0.008*\"sexual\" + 0.008*\"querer\"\n",
      "06-Feb-24 18:45:13 - topic #6 (0.100): 0.033*\"fazer\" + 0.031*\"trabalho\" + 0.023*\"bully\" + 0.013*\"José\" + 0.012*\"sobre\" + 0.011*\"colega\" + 0.011*\"bullying\" + 0.010*\"atendente\" + 0.010*\"EUA\" + 0.009*\"a\"\n",
      "06-Feb-24 18:45:13 - topic #9 (0.100): 0.096*\"trabalho\" + 0.082*\"bullying\" + 0.067*\"sofrer\" + 0.017*\"assédio\" + 0.014*\"metade\" + 0.014*\"profissional\" + 0.013*\"pesquisa\" + 0.012*\"colega\" + 0.012*\"sofro\" + 0.012*\"ti\"\n",
      "06-Feb-24 18:45:13 - topic #2 (0.100): 0.057*\"trabalho\" + 0.050*\"bullying\" + 0.032*\"fazer\" + 0.026*\"ir\" + 0.021*\"pra\" + 0.017*\"sobre\" + 0.015*\"eu\" + 0.015*\"emprego\" + 0.014*\"\"\" + 0.012*\"ser\"\n",
      "06-Feb-24 18:45:13 - topic #1 (0.100): 0.113*\"assédio\" + 0.075*\"trabalho\" + 0.069*\"moral\" + 0.020*\"sexual\" + 0.018*\"novo\" + 0.017*\"mulher\" + 0.016*\"Justiça\" + 0.015*\"lei\" + 0.012*\"público\" + 0.011*\"empresa\"\n",
      "06-Feb-24 18:45:13 - topic diff=0.236909, rho=0.325421\n",
      "06-Feb-24 18:45:13 - PROGRESS: pass 4, at document #4000/8886\n",
      "06-Feb-24 18:45:13 - merging changes from 2000 documents into a model of 8886 documents\n",
      "06-Feb-24 18:45:13 - topic #8 (0.100): 0.031*\"emprego\" + 0.028*\"bullying\" + 0.021*\"não\" + 0.019*\"ser\" + 0.018*\"trabalho\" + 0.013*\"conseguir\" + 0.012*\"todo\" + 0.012*\"pra\" + 0.011*\"porque\" + 0.011*\"achar\"\n",
      "06-Feb-24 18:45:13 - topic #3 (0.100): 0.075*\"trabalho\" + 0.069*\"bullying\" + 0.022*\"sobre\" + 0.017*\"fazer\" + 0.015*\"sofrer\" + 0.015*\"emprego\" + 0.011*\"dia\" + 0.010*\"falar\" + 0.010*\"assédio\" + 0.010*\"hoje\"\n",
      "06-Feb-24 18:45:13 - topic #0 (0.100): 0.043*\"telemarketing\" + 0.034*\"trabalho\" + 0.026*\"...\" + 0.025*\"vítima\" + 0.024*\"bullying\" + 0.022*\"chefe\" + 0.021*\"usar\" + 0.021*\"assédio\" + 0.018*\"ameaçar\" + 0.018*\"muito\"\n",
      "06-Feb-24 18:45:13 - topic #6 (0.100): 0.033*\"fazer\" + 0.031*\"trabalho\" + 0.016*\"bully\" + 0.015*\"colega\" + 0.013*\"sobre\" + 0.011*\"bullying\" + 0.010*\"José\" + 0.009*\"a\" + 0.009*\"identificar\" + 0.008*\"enfrentar\"\n",
      "06-Feb-24 18:45:13 - topic #4 (0.100): 0.028*\"emprego\" + 0.023*\"assédio\" + 0.015*\"alto\" + 0.009*\"sexual\" + 0.008*\"pra\" + 0.008*\"arrumar\" + 0.008*\"assediar\" + 0.008*\"tomar\" + 0.008*\"perder\" + 0.008*\"hora\"\n",
      "06-Feb-24 18:45:13 - topic diff=0.189420, rho=0.325421\n",
      "06-Feb-24 18:45:13 - PROGRESS: pass 4, at document #6000/8886\n",
      "06-Feb-24 18:45:13 - merging changes from 2000 documents into a model of 8886 documents\n",
      "06-Feb-24 18:45:13 - topic #4 (0.100): 0.026*\"assédio\" + 0.021*\"emprego\" + 0.017*\"alto\" + 0.012*\"durante\" + 0.010*\"assediar\" + 0.010*\"sexual\" + 0.008*\"tomar\" + 0.008*\"hierárquico\" + 0.007*\"pra\" + 0.007*\"querer\"\n",
      "06-Feb-24 18:45:13 - topic #0 (0.100): 0.033*\"trabalho\" + 0.033*\"telemarketing\" + 0.024*\"vítima\" + 0.023*\"...\" + 0.022*\"assédio\" + 0.019*\"usar\" + 0.018*\"bullying\" + 0.018*\"chefe\" + 0.014*\"muito\" + 0.014*\"ameaçar\"\n",
      "06-Feb-24 18:45:13 - topic #6 (0.100): 0.035*\"fazer\" + 0.030*\"trabalho\" + 0.017*\"colega\" + 0.014*\"identificar\" + 0.011*\"bully\" + 0.011*\"sobre\" + 0.011*\"José\" + 0.008*\"bullying\" + 0.008*\"amig\" + 0.008*\"enfrentar\"\n",
      "06-Feb-24 18:45:13 - topic #1 (0.100): 0.125*\"assédio\" + 0.095*\"trabalho\" + 0.081*\"moral\" + 0.024*\"sexual\" + 0.020*\"mulher\" + 0.013*\"lei\" + 0.013*\"novo\" + 0.013*\"Justiça\" + 0.012*\"público\" + 0.011*\"discutir\"\n",
      "06-Feb-24 18:45:13 - topic #5 (0.100): 0.101*\"trabalho\" + 0.096*\"assédio\" + 0.056*\"moral\" + 0.055*\"ambiente\" + 0.032*\"local\" + 0.011*\"combater\" + 0.009*\"falta\" + 0.009*\"forma\" + 0.009*\"situação\" + 0.008*\"um\"\n",
      "06-Feb-24 18:45:13 - topic diff=0.228406, rho=0.325421\n",
      "06-Feb-24 18:45:13 - PROGRESS: pass 4, at document #8000/8886\n",
      "06-Feb-24 18:45:14 - merging changes from 2000 documents into a model of 8886 documents\n",
      "06-Feb-24 18:45:14 - topic #1 (0.100): 0.129*\"assédio\" + 0.099*\"trabalho\" + 0.075*\"moral\" + 0.023*\"sexual\" + 0.018*\"mulher\" + 0.018*\"Justiça\" + 0.013*\"público\" + 0.013*\"lei\" + 0.012*\"cartilha\" + 0.011*\"novo\"\n",
      "06-Feb-24 18:45:14 - topic #6 (0.100): 0.031*\"José\" + 0.028*\"trabalho\" + 0.027*\"fazer\" + 0.021*\"EUA\" + 0.020*\"afetar\" + 0.017*\"a\" + 0.014*\"identificar\" + 0.014*\"sobre\" + 0.013*\"colega\" + 0.012*\"dizer\"\n",
      "06-Feb-24 18:45:14 - topic #9 (0.100): 0.106*\"trabalho\" + 0.067*\"sofrer\" + 0.059*\"bullying\" + 0.033*\"assédio\" + 0.022*\"pesquisa\" + 0.021*\"metade\" + 0.019*\"brasileiro\" + 0.016*\"apontar\" + 0.012*\"colega\" + 0.009*\"sofro\"\n",
      "06-Feb-24 18:45:14 - topic #0 (0.100): 0.031*\"trabalho\" + 0.030*\"advogar\" + 0.025*\"telemarketing\" + 0.023*\"desaparecer\" + 0.021*\"assédio\" + 0.019*\"...\" + 0.018*\"vítima\" + 0.017*\"usar\" + 0.015*\"chefe\" + 0.014*\"bullying\"\n",
      "06-Feb-24 18:45:14 - topic #2 (0.100): 0.065*\"trabalho\" + 0.037*\"bullying\" + 0.031*\"fazer\" + 0.026*\"ir\" + 0.021*\"pra\" + 0.018*\"sobre\" + 0.014*\"eu\" + 0.013*\"\"\" + 0.012*\"ser\" + 0.012*\"todo\"\n",
      "06-Feb-24 18:45:14 - topic diff=0.179824, rho=0.325421\n",
      "06-Feb-24 18:45:14 - -7.975 per-word bound, 251.5 perplexity estimate based on a held-out corpus of 886 documents with 7611 words\n",
      "06-Feb-24 18:45:14 - PROGRESS: pass 4, at document #8886/8886\n",
      "06-Feb-24 18:45:14 - merging changes from 886 documents into a model of 8886 documents\n",
      "06-Feb-24 18:45:14 - topic #8 (0.100): 0.037*\"emprego\" + 0.024*\"não\" + 0.023*\"bullying\" + 0.018*\"ser\" + 0.017*\"conseguir\" + 0.015*\"trabalho\" + 0.012*\"porque\" + 0.012*\"pra\" + 0.011*\"ter\" + 0.011*\"mulher\"\n",
      "06-Feb-24 18:45:14 - topic #4 (0.100): 0.025*\"assédio\" + 0.023*\"emprego\" + 0.015*\"arrumar\" + 0.014*\"alto\" + 0.011*\"querer\" + 0.010*\"assediar\" + 0.008*\"tomar\" + 0.008*\"diesel\" + 0.008*\"pra\" + 0.008*\"durante\"\n",
      "06-Feb-24 18:45:14 - topic #0 (0.100): 0.094*\"telemarketing\" + 0.026*\"assédio\" + 0.026*\"trabalho\" + 0.020*\"vítima\" + 0.018*\"advogar\" + 0.016*\"...\" + 0.016*\"bloco\" + 0.013*\"desaparecer\" + 0.012*\"combater\" + 0.012*\"usar\"\n",
      "06-Feb-24 18:45:14 - topic #6 (0.100): 0.031*\"bully\" + 0.028*\"trabalho\" + 0.025*\"fazer\" + 0.020*\"José\" + 0.015*\"atendente\" + 0.014*\"EUA\" + 0.014*\"afetar\" + 0.013*\"a\" + 0.012*\"dizer\" + 0.012*\"identificar\"\n",
      "06-Feb-24 18:45:14 - topic #7 (0.100): 0.135*\"assédio\" + 0.104*\"trabalho\" + 0.061*\"moral\" + 0.040*\"sexual\" + 0.017*\"poder\" + 0.017*\"ambiente\" + 0.016*\"denunciar\" + 0.015*\"caso\" + 0.014*\"sobre\" + 0.013*\"vítima\"\n",
      "06-Feb-24 18:45:14 - topic diff=0.180200, rho=0.325421\n",
      "06-Feb-24 18:45:14 - LdaModel lifecycle event {'msg': 'trained LdaModel<num_terms=11371, num_topics=10, decay=0.5, chunksize=2000> in 8.85s', 'datetime': '2024-02-06T18:45:14.470726', 'gensim': '4.3.2', 'python': '3.10.13 (main, Aug 25 2023, 13:20:03) [GCC 9.4.0]', 'platform': 'Linux-5.4.0-169-generic-x86_64-with-glibc2.31', 'event': 'created'}\n"
     ]
    }
   ],
   "source": [
    "corpus = [dictionary.doc2bow(textos) for textos in tweetsTokens]\n",
    "ldamodel = gs.models.LdaModel(corpus, num_topics=10, id2word=dictionary, passes=5)"
   ]
  },
  {
   "cell_type": "code",
   "execution_count": 14,
   "id": "14ed291a-9eb2-4dc5-beba-64eb00a52a27",
   "metadata": {},
   "outputs": [
    {
     "name": "stdout",
     "output_type": "stream",
     "text": [
      "06-Feb-24 18:45:33 - topic #2 (0.100): 0.054*\"trabalho\" + 0.036*\"bullying\" + 0.029*\"fazer\"\n",
      "06-Feb-24 18:45:33 - topic #6 (0.100): 0.031*\"bully\" + 0.028*\"trabalho\" + 0.025*\"fazer\"\n",
      "06-Feb-24 18:45:33 - topic #9 (0.100): 0.088*\"trabalho\" + 0.063*\"sofrer\" + 0.055*\"bullying\"\n",
      "06-Feb-24 18:45:33 - topic #3 (0.100): 0.063*\"trabalho\" + 0.043*\"bullying\" + 0.019*\"emprego\"\n",
      "06-Feb-24 18:45:33 - topic #1 (0.100): 0.121*\"assédio\" + 0.089*\"trabalho\" + 0.075*\"moral\"\n",
      "06-Feb-24 18:45:33 - topic #5 (0.100): 0.097*\"trabalho\" + 0.096*\"assédio\" + 0.053*\"moral\"\n"
     ]
    }
   ],
   "source": [
    "topics = ldamodel.print_topics(num_topics=2, num_words=3)"
   ]
  },
  {
   "cell_type": "code",
   "execution_count": null,
   "id": "c0292a35-f4d6-4000-b90e-94fbdf40e335",
   "metadata": {},
   "outputs": [],
   "source": [
    "topics = ldamodel.print_topics(num_topics=4, num_words=3)"
   ]
  },
  {
   "cell_type": "code",
   "execution_count": null,
   "id": "e5a839b2-d031-441f-92f8-a7d7d9e8352a",
   "metadata": {},
   "outputs": [],
   "source": [
    "topics = ldamodel.print_topics(num_topics=6, num_words=3)"
   ]
  }
 ],
 "metadata": {
  "kernelspec": {
   "display_name": "Python 3 (ipykernel)",
   "language": "python",
   "name": "python3"
  },
  "language_info": {
   "codemirror_mode": {
    "name": "ipython",
    "version": 3
   },
   "file_extension": ".py",
   "mimetype": "text/x-python",
   "name": "python",
   "nbconvert_exporter": "python",
   "pygments_lexer": "ipython3",
   "version": "3.10.13"
  }
 },
 "nbformat": 4,
 "nbformat_minor": 5
}
