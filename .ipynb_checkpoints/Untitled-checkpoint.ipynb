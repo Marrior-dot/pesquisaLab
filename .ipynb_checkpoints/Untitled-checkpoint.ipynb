{
 "cells": [
  {
   "cell_type": "code",
   "execution_count": 4,
   "id": "563c6edf-9a2e-4507-8786-0706538566da",
   "metadata": {
    "editable": true,
    "slideshow": {
     "slide_type": ""
    },
    "tags": []
   },
   "outputs": [],
   "source": [
    "import pandas as pd\n",
    "from ntscraper import Nitter\n",
    "import os\n",
    "import re\n",
    "import nltk \n",
    "from NLPyPort.FullPipeline import *\n",
    "import sys\n",
    "import traceback\n",
    "\n",
    "#nltk.download('floresta')"
   ]
  },
  {
   "cell_type": "code",
   "execution_count": null,
   "id": "1812fe40-3dea-471c-9a43-61f145d82d3e",
   "metadata": {
    "scrolled": true
   },
   "outputs": [],
   "source": [
    "scrap = Nitter()"
   ]
  },
  {
   "cell_type": "code",
   "execution_count": null,
   "id": "5859c465-6dc2-40c9-b5b7-f3acf92d302d",
   "metadata": {},
   "outputs": [],
   "source": [
    "def search_bully(terms, ano):\n",
    "    final_tweets = []\n",
    "    bully = scrap.get_tweets(terms, mode=\"term\", number=1000, language=\"pt\",since=f\"{ano}-01-01\", until=f\"{ano}-12-31\")\n",
    "    print(\"Termos pequisados:\"+terms+\"\\n\"+\"Ano pesquisado:\"+f\"{ano}\")\n",
    "    for twt in bully['tweets']:\n",
    "        print(twt['text']+\"\\n\"+\"\\n\")\n",
    "        thetwt = [twt['text'], ano]\n",
    "        final_tweets.append(thetwt)\n",
    "        print(\"-------Proximo twt---------\")\n",
    "    csvtweets = pd.DataFrame(final_tweets, columns=['tweets', 'ano'])\n",
    "    csvtweets.to_csv(f\"{terms}tweets{ano}.csv\")\n",
    "\n",
    "        "
   ]
  },
  {
   "cell_type": "code",
   "execution_count": null,
   "id": "7751d90d-ed77-4f7b-b073-7917f2f31957",
   "metadata": {},
   "outputs": [],
   "source": [
    "#Não funcionou muito bem\n",
    "'''\n",
    "def search_bully2():\n",
    "    final_tweets = []\n",
    "    ano = 2015\n",
    "    terms = ['bully trabalho',\"Bullying trabalho\",\"assedio trabalho\",\n",
    "            'bully emprego', 'Bullying emprego', 'bullyng emprego', 'assedio emprego',\n",
    "            'assedio callcenter', 'Bullying callcenter', 'assedio telemarketing', \n",
    "            'Bullying telemarketing']\n",
    "    for term in terms:\n",
    "        while ano <= 2018:\n",
    "            bully = scrap.get_tweets(term, mode=\"term\", number=10000, language=\"pt\",since=f\"{ano}-01-01\", until=f\"{ano}-12-31\")\n",
    "            for twt in bully['tweets']:\n",
    "                print(twt['text']+\"\\n\"+\"\\n\")\n",
    "                thetwt = [twt['text'], ano]\n",
    "                final_tweets.append(thetwt)\n",
    "                print(\"-------Proximo twt---------\")\n",
    "            csvtweets = pd.DataFrame(final_tweets, columns=['tweets', 'ano'])\n",
    "            ano = ano + 1\n",
    "         csvtweets.to_csv(f\"{term}tweets.csv\")\n",
    "'''\n",
    "                                     \n",
    "        \n",
    "                "
   ]
  },
  {
   "cell_type": "code",
   "execution_count": null,
   "id": "236ee592-973c-4c2a-b453-f86aade5efa6",
   "metadata": {
    "scrolled": true
   },
   "outputs": [],
   "source": [
    "#search_bully2() / Segunda Tentativa / Não funcionou muito bem"
   ]
  },
  {
   "cell_type": "code",
   "execution_count": null,
   "id": "b62cb926-5484-41cd-95ac-99e2ab24fea3",
   "metadata": {
    "scrolled": true
   },
   "outputs": [],
   "source": [
    "search_bully('bully trabalho', 2015) #Terceira Tentativa"
   ]
  },
  {
   "cell_type": "code",
   "execution_count": null,
   "id": "c9686ca1-bfc5-43dd-8681-ac77737343ea",
   "metadata": {
    "scrolled": true
   },
   "outputs": [],
   "source": [
    "search_bully('bully trabalho', 2016)#Terceira Tentativa"
   ]
  },
  {
   "cell_type": "code",
   "execution_count": null,
   "id": "c38b9dcf-bba3-44c0-8888-ebf40267b6f0",
   "metadata": {
    "scrolled": true
   },
   "outputs": [],
   "source": [
    "search_bully('bully trabalho', 2017)#Terceira Tentativa"
   ]
  },
  {
   "cell_type": "code",
   "execution_count": null,
   "id": "7ac36669-5692-4453-9d08-88f7fcdb0de1",
   "metadata": {
    "scrolled": true
   },
   "outputs": [],
   "source": [
    "search_bully('bully trabalho', 2018)#Terceira Tentativa"
   ]
  },
  {
   "cell_type": "code",
   "execution_count": null,
   "id": "9a35af00-3a76-451d-a872-1f8b4fc861ab",
   "metadata": {
    "scrolled": true
   },
   "outputs": [],
   "source": [
    "search_bully('Bullying trabalho', 2015)#Terceira Tentativa"
   ]
  },
  {
   "cell_type": "code",
   "execution_count": null,
   "id": "60dbd787-c882-4d87-a207-50ef66262b57",
   "metadata": {
    "scrolled": true
   },
   "outputs": [],
   "source": [
    "search_bully('Bullying trabalho', 2016)#Terceira Tentativa"
   ]
  },
  {
   "cell_type": "code",
   "execution_count": null,
   "id": "99bcab92-415a-4a8f-ae64-4cf01ab38df0",
   "metadata": {
    "scrolled": true
   },
   "outputs": [],
   "source": [
    "search_bully('Bullying trabalho', 2017)#Terceira Tentativa"
   ]
  },
  {
   "cell_type": "code",
   "execution_count": null,
   "id": "e30e82b3-8a03-4313-beb6-d6b622c111bc",
   "metadata": {
    "scrolled": true
   },
   "outputs": [],
   "source": [
    "search_bully('Bullying trabalho', 2018)#Terceira Tentativa"
   ]
  },
  {
   "cell_type": "code",
   "execution_count": null,
   "id": "cb2bee4f-a10a-46a4-bea5-b11df706e55e",
   "metadata": {},
   "outputs": [],
   "source": [
    "search_bully('assedio trabalho', 2015)#Terceira Tentativa"
   ]
  },
  {
   "cell_type": "code",
   "execution_count": null,
   "id": "5119dee4-c499-4f8d-9406-47a34ec50691",
   "metadata": {},
   "outputs": [],
   "source": [
    "search_bully('assedio trabalho', 2016)#Terceira Tentativa"
   ]
  },
  {
   "cell_type": "code",
   "execution_count": null,
   "id": "330c5480-4083-49c1-a0a7-4525704111b9",
   "metadata": {},
   "outputs": [],
   "source": [
    "search_bully('assedio trabalho', 2017)#Terceira Tentativa"
   ]
  },
  {
   "cell_type": "code",
   "execution_count": null,
   "id": "d61b02f1-2c19-4251-b36b-244e23583fdf",
   "metadata": {},
   "outputs": [],
   "source": [
    "search_bully('assedio trabalho', 2018)#Terceira Tentativa"
   ]
  },
  {
   "cell_type": "code",
   "execution_count": null,
   "id": "5a76d33b-6d42-4661-acd0-73b8def99dc9",
   "metadata": {},
   "outputs": [],
   "source": [
    "search_bully('bully emprego', 2015)#Terceira Tentativa"
   ]
  },
  {
   "cell_type": "code",
   "execution_count": null,
   "id": "c122823b-c458-4fa9-99bc-859b0bc6274f",
   "metadata": {},
   "outputs": [],
   "source": [
    "search_bully('bully emprego', 2016)#Terceira Tentativa"
   ]
  },
  {
   "cell_type": "code",
   "execution_count": null,
   "id": "5fb37e98-4f2d-49b6-b159-100fb0edd91a",
   "metadata": {},
   "outputs": [],
   "source": [
    "search_bully('bully emprego', 2017)#Terceira Tentativa"
   ]
  },
  {
   "cell_type": "code",
   "execution_count": null,
   "id": "ade85b9e-f7f1-416a-a832-ddf004266ba6",
   "metadata": {},
   "outputs": [],
   "source": [
    "search_bully('bully emprego', 2018)#Terceira Tentativa"
   ]
  },
  {
   "cell_type": "code",
   "execution_count": null,
   "id": "9d53636b-0524-4c89-96b6-c400fecd29fc",
   "metadata": {},
   "outputs": [],
   "source": [
    "search_bully('Bullying emprego', 2015)#Terceira Tentativa"
   ]
  },
  {
   "cell_type": "code",
   "execution_count": null,
   "id": "67c6b398-89a6-4af5-ae68-1c5ce9fde039",
   "metadata": {},
   "outputs": [],
   "source": [
    "search_bully('Bullying emprego', 2016)#Terceira Tentativa"
   ]
  },
  {
   "cell_type": "code",
   "execution_count": null,
   "id": "dc941a5e-81e2-42bf-9660-14d1a1d011a9",
   "metadata": {},
   "outputs": [],
   "source": [
    "search_bully('Bullying emprego', 2017)#Terceira Tentativa"
   ]
  },
  {
   "cell_type": "code",
   "execution_count": null,
   "id": "c678e4f1-95e9-4fc2-ae0c-c6cf6b4f7ca4",
   "metadata": {},
   "outputs": [],
   "source": [
    "search_bully('Bullying emprego', 2018)#Terceira Tentativa"
   ]
  },
  {
   "cell_type": "code",
   "execution_count": null,
   "id": "d3005aef-814a-47eb-ba06-e5ac36d861fc",
   "metadata": {},
   "outputs": [],
   "source": [
    "search_bully('bullyng emprego', 2015)#Terceira Tentativa"
   ]
  },
  {
   "cell_type": "code",
   "execution_count": null,
   "id": "4c23cba7-9532-464b-802d-fd21cef5c48f",
   "metadata": {},
   "outputs": [],
   "source": [
    "search_bully('bullyng emprego', 2016)#Terceira Tentativa"
   ]
  },
  {
   "cell_type": "code",
   "execution_count": null,
   "id": "e09f77a8-ff80-4951-970c-6f062ebda53d",
   "metadata": {},
   "outputs": [],
   "source": [
    "search_bully('bullyng emprego', 2017)#Terceira Tentativa"
   ]
  },
  {
   "cell_type": "code",
   "execution_count": null,
   "id": "15293206-0a2a-4f3e-88e9-7da5a1a918d0",
   "metadata": {},
   "outputs": [],
   "source": [
    "search_bully('bullyng emprego', 2018)#Terceira Tentativa"
   ]
  },
  {
   "cell_type": "code",
   "execution_count": null,
   "id": "4011cd53-3525-4f3f-8f6c-5a9557388617",
   "metadata": {
    "scrolled": true
   },
   "outputs": [],
   "source": [
    "search_bully('assedio emprego', 2015)#Terceira Tentativa"
   ]
  },
  {
   "cell_type": "code",
   "execution_count": null,
   "id": "c412cd4f-e7d5-45f7-ad66-6a7df6e01cdd",
   "metadata": {},
   "outputs": [],
   "source": [
    "search_bully('assedio emprego', 2016)#Terceira Tentativa"
   ]
  },
  {
   "cell_type": "code",
   "execution_count": null,
   "id": "c9c6019d-e106-485f-8d6b-99eb9b619a6d",
   "metadata": {},
   "outputs": [],
   "source": [
    "search_bully('assedio emprego', 2017)#Terceira Tentativa"
   ]
  },
  {
   "cell_type": "code",
   "execution_count": null,
   "id": "1c975f52-3916-4510-aae9-da5fd7c75288",
   "metadata": {},
   "outputs": [],
   "source": [
    "search_bully('assedio emprego', 2018)#Terceira Tentativa"
   ]
  },
  {
   "cell_type": "code",
   "execution_count": null,
   "id": "0950e78a-68af-4aa1-bcc6-00f3652a30e7",
   "metadata": {},
   "outputs": [],
   "source": [
    "search_bully('assedio callcenter', 2015)#Terceira Tentativa"
   ]
  },
  {
   "cell_type": "code",
   "execution_count": null,
   "id": "a865c3ea-8be4-466c-9eed-7a839848e617",
   "metadata": {},
   "outputs": [],
   "source": [
    "search_bully('assedio callcenter', 2016)#Terceira Tentativa"
   ]
  },
  {
   "cell_type": "code",
   "execution_count": null,
   "id": "e52a8818-1948-4fe8-841a-57674c6733b3",
   "metadata": {},
   "outputs": [],
   "source": [
    "search_bully('assedio callcenter', 2017)#Terceira Tentativa"
   ]
  },
  {
   "cell_type": "code",
   "execution_count": null,
   "id": "4895853a-a55b-47cf-ac6c-b22a0ce3db28",
   "metadata": {},
   "outputs": [],
   "source": [
    "search_bully('assedio callcenter', 2018)#Terceira Tentativa"
   ]
  },
  {
   "cell_type": "code",
   "execution_count": null,
   "id": "e920e05e-b16b-4f1a-9dda-5eb02ed0de19",
   "metadata": {},
   "outputs": [],
   "source": [
    "search_bully('Bullying callcenter', 2015)#Terceira Tentativa"
   ]
  },
  {
   "cell_type": "code",
   "execution_count": null,
   "id": "ec1ae4af-82b6-4353-98b3-98933b889b96",
   "metadata": {},
   "outputs": [],
   "source": [
    "search_bully('Bullying callcenter', 2016)#Terceira Tentativa"
   ]
  },
  {
   "cell_type": "code",
   "execution_count": null,
   "id": "8f1dc104-b182-4b76-9793-020b896843a2",
   "metadata": {},
   "outputs": [],
   "source": [
    "search_bully('Bullying callcenter', 2017)#Terceira Tentativa"
   ]
  },
  {
   "cell_type": "code",
   "execution_count": null,
   "id": "56f31894-0de2-441f-92a5-10c20bd33544",
   "metadata": {},
   "outputs": [],
   "source": [
    "search_bully('Bullying callcenter', 2018)#Terceira Tentativa"
   ]
  },
  {
   "cell_type": "code",
   "execution_count": null,
   "id": "551ce819-164a-4fd9-8f2d-349422788537",
   "metadata": {},
   "outputs": [],
   "source": [
    "search_bully('assedio telemarketing', 2015)#Terceira Tentativa"
   ]
  },
  {
   "cell_type": "code",
   "execution_count": null,
   "id": "238d5ced-8514-4fc2-b141-6f6d7c5d1c23",
   "metadata": {},
   "outputs": [],
   "source": [
    "search_bully('assedio telemarketing', 2016)#Terceira Tentativa"
   ]
  },
  {
   "cell_type": "code",
   "execution_count": null,
   "id": "3902d3ab-ee55-4b65-ab16-889b0da76a27",
   "metadata": {},
   "outputs": [],
   "source": [
    "search_bully('assedio telemarketing', 2017)#Terceira Tentativa"
   ]
  },
  {
   "cell_type": "code",
   "execution_count": null,
   "id": "d18ca268-51ec-41ea-9d08-0f9f9e451711",
   "metadata": {},
   "outputs": [],
   "source": [
    "search_bully('assedio telemarketing', 2018)#Terceira Tentativa"
   ]
  },
  {
   "cell_type": "code",
   "execution_count": null,
   "id": "67ca23b1-cfc2-4d4b-95ec-edc34b6e3a90",
   "metadata": {},
   "outputs": [],
   "source": [
    "search_bully('Bullying telemarketing', 2015)#Terceira Tentativa"
   ]
  },
  {
   "cell_type": "code",
   "execution_count": null,
   "id": "c2c17ca3-1daf-4458-8ed0-10eff604dfc0",
   "metadata": {},
   "outputs": [],
   "source": [
    "search_bully('Bullying telemarketing', 2016)#Terceira Tentativa"
   ]
  },
  {
   "cell_type": "code",
   "execution_count": null,
   "id": "da08e8ec-68a3-4112-ad26-87d75704f1bc",
   "metadata": {},
   "outputs": [],
   "source": [
    "search_bully('Bullying telemarketing', 2017)#Terceira Tentativa"
   ]
  },
  {
   "cell_type": "code",
   "execution_count": null,
   "id": "b5896128-9781-4f8f-b47f-b4c0408dd525",
   "metadata": {
    "jupyter": {
     "source_hidden": true
    }
   },
   "outputs": [],
   "source": [
    "search_bully('Bullying telemarketing', 2018)#Terceira Tentativa"
   ]
  },
  {
   "cell_type": "code",
   "execution_count": 95,
   "id": "7ecf9a02-a8f6-40b5-ab46-5df20e9924ea",
   "metadata": {},
   "outputs": [
    {
     "name": "stdout",
     "output_type": "stream",
     "text": [
      "                   Termos  2015  2016  2017  2018\n",
      "0          assedioemprego   138     0   295   457\n",
      "1        Bullyingtrabalho  1080   803   738  1192\n",
      "2         assediotrabalho  2300   744  3343     0\n",
      "3       assediocallcenter     0     1     0     0\n",
      "4   Bullyingtelemarketing     4     1     1     2\n",
      "5            bullyemprego     3     3     0     5\n",
      "6    assediotelemarketing    71    28    32    29\n",
      "7        bullytrabalhocsv    26    21    47    61\n",
      "8      Bullyingcallcenter     1     0     1     0\n",
      "9         bullyempregocsv     1     4     6     0\n",
      "10       Bullyingremprego    60    33    55   105\n"
     ]
    }
   ],
   "source": [
    "def pandasRead(folder):\n",
    "    read = pd.read_csv(folder)\n",
    "    return len(read)\n",
    "def coletaDeTweets():\n",
    "    directory = './'\n",
    "    folders = []\n",
    "    folder2015=[]\n",
    "    folder2016=[]\n",
    "    folder2017=[]\n",
    "    folder2018=[]\n",
    "\n",
    "    for filename in os.listdir(directory):\n",
    "        if filename != \".git\" and filename != \"main.py\" and filename != \".ipynb_checkpoints\" and filename != \"Untitled.ipynb\" and filename != \"documentacaoErros\" and filename != \"Primeiratentativa\" and filename != \"Segundatentativa\":\n",
    "            folders.append(filename)\n",
    "    for csvfolder in folders:\n",
    "        for csvs in os.listdir(csvfolder):\n",
    "            if csvs != \".ipynb_checkpoints\" and csvs != \".obsidian\" and csvs !=\"Erros.md\":\n",
    "                pass\n",
    "            if csvs[-5] == '5':\n",
    "                folder2015.append(pandasRead(\"./\"+csvfolder+\"/\"+csvs))\n",
    "            elif csvs[-5] == '6':\n",
    "                folder2016.append(pandasRead(\"./\"+csvfolder+\"/\"+csvs))\n",
    "            elif csvs[-5] == '7':\n",
    "                folder2017.append(pandasRead(\"./\"+csvfolder+\"/\"+csvs))\n",
    "            elif csvs[-5] == '8':\n",
    "                folder2018.append(pandasRead(\"./\"+csvfolder+\"/\"+csvs))\n",
    "    termosFrame = pd.DataFrame({\"Termos\":folders, \"2015\":folder2015, \"2016\":folder2016,\n",
    "                               \"2017\":folder2017,\"2018\":folder2018,})\n",
    "    print(termosFrame)\n",
    "    \n",
    "coletaDeTweets()"
   ]
  },
  {
   "cell_type": "code",
   "execution_count": 113,
   "id": "87e42f0c-7779-4c54-a6d3-16a756128912",
   "metadata": {},
   "outputs": [],
   "source": [
    "#Tratamento de caracteres\n",
    "directory = \"./\"\n",
    "tweets=[]\n",
    "tweetsToLower=[]\n",
    "def lerFolder():\n",
    "    for filename in os.listdir(directory):\n",
    "        if filename != \".git\" and filename != \"main.py\" and filename != \".ipynb_checkpoints\" and filename != \"Untitled.ipynb\" and filename != \"documentacaoErros\" and filename != \"Primeiratentativa\" and filename != \"Segundatentativa\":\n",
    "          for csv in os.listdir(filename):\n",
    "               if csv != \".ipynb_checkpoints\" and csv != \".obsidian\" and csv !=\"Erros.md\":\n",
    "                    newCsv = pd.read_csv(\"./\"+filename+\"/\"+csv)\n",
    "                    tweets.append(newCsv['tweets'])\n",
    "\n",
    "def letrasMinusculas():\n",
    "    for array in tweets:\n",
    "        for twt in array:\n",
    "            if type(twt) == float:\n",
    "                pass\n",
    "            else:\n",
    "                tweetsToLower.append(twt.lower())\n",
    "\n",
    "def removerTweetsPoucosCaracteres(lista=tweetsToLower):\n",
    "    for item in lista:\n",
    "        if (len(item) < 5):\n",
    "            lista.remove(item)\n",
    "\n",
    "def removerLinkQuotesHashtags():  \n",
    "    #Remove links nas seguintes estruturas:\n",
    "    #https://subdom.dom.com.countrycode/urlstr\n",
    "    #https://subdom.dom.com/urlstr\n",
    "    #https://subdom.dom/urlstr\n",
    "    for item in range(len(tweetsToLower)):\n",
    "        if len(re.findall(\"https://[a-zA-Z0-9]+[.][a-zA-Z0-9]+[.][a-zA-Z0-9]+[.][a-zA-Z0-9]+[/[a-zA-Z0-9]+]*\", tweetsToLower[item])) > 0:\n",
    "            tweetsToLower[item]=re.sub(\"https://[a-zA-Z0-9]+[.][a-zA-Z0-9]+[.][a-zA-Z0-9]+[.][a-zA-Z0-9]+[/[a-zA-Z0-9]+]*\",\"\", tweetsToLower[item])\n",
    "            #print(tweetsToLower[item])\n",
    "        if len(re.findall(\"https://[a-zA-Z0-9]+[.][a-zA-Z0-9]+[.][a-zA-Z0-9]+[/[a-zA-Z0-9]+]*\", tweetsToLower[item])) > 0:\n",
    "            tweetsToLower[item]=re.sub(\"https://[a-zA-Z0-9]+[.][a-zA-Z0-9]+[.][a-zA-Z0-9]+[/[a-zA-Z0-9]+]*\",\"\", tweetsToLower[item])\n",
    "            #print(tweetsToLower[item])\n",
    "        if len(re.findall(\"https://[a-zA-Z0-9]+[.][a-zA-Z0-9]+[/[a-zA-Z0-9]+]*\", tweetsToLower[item])) > 0:\n",
    "            tweetsToLower[item]=re.sub(\"https://[a-zA-Z0-9]+[.][a-zA-Z0-9]+[/[a-zA-Z0-9]+]*\",\"\", tweetsToLower[item])\n",
    "            #print(tweetsToLower[item])\n",
    "\n",
    "    #Remove # no inicio e final de palavras\n",
    "    for item in range(len(tweetsToLower)):\n",
    "        if len(re.findall(\"#[a-zA-Z0-9]+\", tweetsToLower[item])) > 0: \n",
    "            #print(re.findall(\"#[a-zA-Z0-9]+\", tweetsToLower[item]))\n",
    "            tweetsToLower[item] = re.sub(\"#[a-zA-Z0-9]+\", \"\", tweetsToLower[item])\n",
    "\n",
    "        if len(re.findall(\"[a-zA-Z0-9]+#\", tweetsToLower[item])) > 0:\n",
    "            #print(re.findall(\"[a-zA-Z0-9]+#\", tweetsToLower[item])):\n",
    "            tweetsToLower[item] = re.sub(\"[a-zA-Z0-9]+#\", \"\", tweetsToLower[item])\n",
    "\n",
    "    #Remove caracteres não alfanuméricos, no inicio, meio e fim de sentenças\n",
    "    for item in range(len(tweetsToLower)):\n",
    "        if len(re.findall(\"[a-zA-Z0-9]+[@:!$%&*+=|]+[a-zA-Z0-9]+\", tweetsToLower[item])) > 0:\n",
    "            for iter in re.findall(\"[a-zA-Z0-9]+[@:!$%&*+=|]+[a-zA-Z0-9]+\", tweetsToLower[item]):\n",
    "                tweetsToLower[item] = re.sub(\"[a-zA-Z0-9]+[@:!$%&*+=|]+[a-zA-Z0-9]+\",\"\", iter)\n",
    "            \n",
    "        if len(re.findall(\"[@:!$%&*+=|]+[a-zA-Z0-9]+\", tweetsToLower[item])) > 0:\n",
    "            #print(re.findall(\"[@:!$%&*+=|][a-zA-Z0-9]+\", tweetsToLower[item]))\n",
    "            for iter in re.findall(\"[@:!$%&*+=|]+[a-zA-Z0-9]+\", tweetsToLower[item]):\n",
    "                tweetsToLower[item] = re.sub(\"[@:!$%&*+=|]+[a-zA-Z0-9]+\",\"\", iter)\n",
    "                \n",
    "        if len(re.findall(\"[a-zA-Z0-9]+[@:!$%&*+=|]\", tweetsToLower[item])) > 0:\n",
    "            #print(re.findall(\"[a-zA-Z0-9]+[@:!$%&*+=|]\", tweetsToLower[item]))\n",
    "            for iter in re.findall(\"[a-zA-Z0-9]+[@:!$%&*+=|]\", tweetsToLower[item]):\n",
    "                tweetsToLower[item] = re.sub(\"[a-zA-Z0-9]+[@:!$%&*+=|]\",\"\", iter)\n",
    "\n",
    "    #Voltar para fazer as abreviações\n",
    "    \n",
    "def tratarCaracteresEPalavras():\n",
    "    letrasMinusculas()\n",
    "    removerTweetsPoucosCaracteres()\n",
    "    removerLinkQuotesHashtags()\n",
    "    #print(tweetsToLower)\n",
    "lerFolder()\n",
    "tratarCaracteresEPalavras()\n"
   ]
  },
  {
   "cell_type": "code",
   "execution_count": null,
   "id": "83529350-2b92-45b0-a0f7-431f8dafd9f6",
   "metadata": {},
   "outputs": [],
   "source": [
    "#Tokenização\n",
    "tweetsTokens = []\n",
    "\n",
    "def criarTokens():\n",
    "    for item in tweetsToLower:\n",
    "        tweetsTokens.append(item.split())\n",
    "\n",
    "def eliminarTokensVaziosEPequenos():\n",
    "    for token in tweetsTokens:\n",
    "        #print(token)\n",
    "        for item in token:\n",
    "            if len(item) < 3:\n",
    "                token.remove(item)\n",
    "\n",
    "def elimiarStopWords():\n",
    "    stopWords = ['que', 'para', 'com',  'não',  'uma', 'por',  'mais',  'dos',  'como',  'mas',  'foi', 'ele',  'das',  'tem', 'seu',  'sua', 'ser',  'quando',  'muito', 'nos', 'está', 'também', 'pelo',  'pela',  'até',  'isso',  'ela',  'entre',  'era',  'depois',  'sem',  'mesmo',  'aos',  'ter',  'seus',  'quem',  'nas',  'esse',  'eles',  'estão',  'você',  'tinha',  'foram',  'essa',  'num',  'nem',  'suas',  'meu', 'minha',  'têm',  'numa',  'pelos',  'elas',  'havia',  'seja',  'qual',  'será',  'nós',  'tenho',  'lhe',  'deles',  'essas',  'esses',  'pelas',  'este',  'fosse',  'dele', 'vocês',  'vos',  'lhes',  'meus',  'minhas',  'teu',  'tua',  'teus',  'tuas',  'nosso',  'nossa',  'nossos',  'nossas',  'dela',  'delas',  'esta',  'estes',  'estas',  'aquele',  'aquela',  'aqueles',  'aquelas',  'isto',  'aquilo',  'estou',  'está',  'estamos',  'estão',  'estive',  'esteve',  'estivemos',  'estiveram',  'estava',  'estávamos',  'estavam',  'estivera',  'estivéramos',  'esteja',  'estejamos',  'estejam',  'estivesse',  'estivéssemos',  'estivessem',  'estiver',  'estivermos',  'estiverem',  'hei', 'havemos',  'hão',  'houve',  'houvemos',  'houveram',  'houvera',  'houvéramos',  'haja',  'hajamos',  'hajam',  'houvesse',  'houvéssemos',  'houvessem',  'houver',  'houvermos',  'houverem',  'houverei',  'houverá',  'houveremos',  'houverão',  'houveria',  'houveríamos',  'houveriam',  'sou',  'somos',  'são',  'era',  'éramos',  'eram',  'fui',  'foi',  'fomos',  'foram',  'fora',  'fôramos',  'seja',  'sejamos',  'sejam',  'fosse',  'fôssemos',  'fossem',  'for',  'formos',  'forem',  'serei',  'será',  'seremos',  'serão',  'seria',  'seríamos',  'seriam',  'tenho',  'tem',  'temos',  'tém',  'tinha',  'tínhamos',  'tinham',  'tive',  'teve',  'tivemos',  'tiveram',  'tivera',  'tivéramos',  'tenha',  'tenhamos',  'tenham',  'tivesse',  'tivéssemos',  'tivessem',  'tiver',  'tivermos',  'tiverem',  'terei',  'terá',  'teremos',  'terão',  'teria',  'teríamos',  'teriam']\n",
    "    for token in tweetsTokens:\n",
    "        for item in token:\n",
    "            for word in stopWords:\n",
    "                if item == word:\n",
    "                    try:\n",
    "                        token.remove(item)\n",
    "                    except:\n",
    "                        continue\n",
    "\n",
    "def tokenizacao():\n",
    "    criarTokens()\n",
    "    eliminarTokensVaziosEPequenos()\n",
    "    elimiarStopWords()\n",
    "tokenizacao()\n",
    "print(tweetsTokens)"
   ]
  },
  {
   "cell_type": "code",
   "execution_count": null,
   "id": "9895d834-98e1-4447-a858-1b563de2dbb5",
   "metadata": {},
   "outputs": [],
   "source": [
    "nltk.download(\"floresta\")"
   ]
  },
  {
   "cell_type": "code",
   "execution_count": null,
   "id": "1d66fda6-fa16-40e9-b399-c6c928d79bd3",
   "metadata": {},
   "outputs": [],
   "source": [
    "#Lematização\n"
   ]
  }
 ],
 "metadata": {
  "kernelspec": {
   "display_name": "Python 3 (ipykernel)",
   "language": "python",
   "name": "python3"
  },
  "language_info": {
   "codemirror_mode": {
    "name": "ipython",
    "version": 3
   },
   "file_extension": ".py",
   "mimetype": "text/x-python",
   "name": "python",
   "nbconvert_exporter": "python",
   "pygments_lexer": "ipython3",
   "version": "3.10.13"
  }
 },
 "nbformat": 4,
 "nbformat_minor": 5
}
