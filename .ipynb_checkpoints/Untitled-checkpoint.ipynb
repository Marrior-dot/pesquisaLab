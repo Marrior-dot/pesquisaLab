{
 "cells": [
  {
   "cell_type": "code",
   "execution_count": 66,
   "id": "563c6edf-9a2e-4507-8786-0706538566da",
   "metadata": {
    "editable": true,
    "slideshow": {
     "slide_type": ""
    },
    "tags": []
   },
   "outputs": [],
   "source": [
    "import pandas as pd\n",
    "from ntscraper import Nitter\n",
    "import os\n",
    "from pathlib import Path"
   ]
  },
  {
   "cell_type": "code",
   "execution_count": null,
   "id": "1812fe40-3dea-471c-9a43-61f145d82d3e",
   "metadata": {
    "scrolled": true
   },
   "outputs": [],
   "source": [
    "scrap = Nitter()"
   ]
  },
  {
   "cell_type": "code",
   "execution_count": null,
   "id": "5859c465-6dc2-40c9-b5b7-f3acf92d302d",
   "metadata": {},
   "outputs": [],
   "source": [
    "def search_bully(terms, ano):\n",
    "    final_tweets = []\n",
    "    bully = scrap.get_tweets(terms, mode=\"term\", number=1000, language=\"pt\",since=f\"{ano}-01-01\", until=f\"{ano}-12-31\")\n",
    "    print(\"Termos pequisados:\"+terms+\"\\n\"+\"Ano pesquisado:\"+f\"{ano}\")\n",
    "    for twt in bully['tweets']:\n",
    "        print(twt['text']+\"\\n\"+\"\\n\")\n",
    "        thetwt = [twt['text'], ano]\n",
    "        final_tweets.append(thetwt)\n",
    "        print(\"-------Proximo twt---------\")\n",
    "    csvtweets = pd.DataFrame(final_tweets, columns=['tweets', 'ano'])\n",
    "    csvtweets.to_csv(f\"{terms}tweets{ano}.csv\")\n",
    "\n",
    "        "
   ]
  },
  {
   "cell_type": "code",
   "execution_count": null,
   "id": "7751d90d-ed77-4f7b-b073-7917f2f31957",
   "metadata": {},
   "outputs": [],
   "source": [
    "#Não funcionou muito bem\n",
    "'''\n",
    "def search_bully2():\n",
    "    final_tweets = []\n",
    "    ano = 2015\n",
    "    terms = ['bully trabalho',\"Bullying trabalho\",\"assedio trabalho\",\n",
    "            'bully emprego', 'Bullying emprego', 'bullyng emprego', 'assedio emprego',\n",
    "            'assedio callcenter', 'Bullying callcenter', 'assedio telemarketing', \n",
    "            'Bullying telemarketing']\n",
    "    for term in terms:\n",
    "        while ano <= 2018:\n",
    "            bully = scrap.get_tweets(term, mode=\"term\", number=10000, language=\"pt\",since=f\"{ano}-01-01\", until=f\"{ano}-12-31\")\n",
    "            for twt in bully['tweets']:\n",
    "                print(twt['text']+\"\\n\"+\"\\n\")\n",
    "                thetwt = [twt['text'], ano]\n",
    "                final_tweets.append(thetwt)\n",
    "                print(\"-------Proximo twt---------\")\n",
    "            csvtweets = pd.DataFrame(final_tweets, columns=['tweets', 'ano'])\n",
    "            ano = ano + 1\n",
    "         csvtweets.to_csv(f\"{term}tweets.csv\")\n",
    "'''\n",
    "                                     \n",
    "        \n",
    "                "
   ]
  },
  {
   "cell_type": "code",
   "execution_count": null,
   "id": "236ee592-973c-4c2a-b453-f86aade5efa6",
   "metadata": {
    "scrolled": true
   },
   "outputs": [],
   "source": [
    "#search_bully2() / Segunda Tentativa / Não funcionou muito bem"
   ]
  },
  {
   "cell_type": "code",
   "execution_count": null,
   "id": "b62cb926-5484-41cd-95ac-99e2ab24fea3",
   "metadata": {
    "scrolled": true
   },
   "outputs": [],
   "source": [
    "search_bully('bully trabalho', 2015) #Terceira Tentativa"
   ]
  },
  {
   "cell_type": "code",
   "execution_count": null,
   "id": "c9686ca1-bfc5-43dd-8681-ac77737343ea",
   "metadata": {
    "scrolled": true
   },
   "outputs": [],
   "source": [
    "search_bully('bully trabalho', 2016)#Terceira Tentativa"
   ]
  },
  {
   "cell_type": "code",
   "execution_count": null,
   "id": "c38b9dcf-bba3-44c0-8888-ebf40267b6f0",
   "metadata": {
    "scrolled": true
   },
   "outputs": [],
   "source": [
    "search_bully('bully trabalho', 2017)#Terceira Tentativa"
   ]
  },
  {
   "cell_type": "code",
   "execution_count": null,
   "id": "7ac36669-5692-4453-9d08-88f7fcdb0de1",
   "metadata": {
    "scrolled": true
   },
   "outputs": [],
   "source": [
    "search_bully('bully trabalho', 2018)#Terceira Tentativa"
   ]
  },
  {
   "cell_type": "code",
   "execution_count": null,
   "id": "9a35af00-3a76-451d-a872-1f8b4fc861ab",
   "metadata": {
    "scrolled": true
   },
   "outputs": [],
   "source": [
    "search_bully('Bullying trabalho', 2015)#Terceira Tentativa"
   ]
  },
  {
   "cell_type": "code",
   "execution_count": null,
   "id": "60dbd787-c882-4d87-a207-50ef66262b57",
   "metadata": {
    "scrolled": true
   },
   "outputs": [],
   "source": [
    "search_bully('Bullying trabalho', 2016)#Terceira Tentativa"
   ]
  },
  {
   "cell_type": "code",
   "execution_count": null,
   "id": "99bcab92-415a-4a8f-ae64-4cf01ab38df0",
   "metadata": {
    "scrolled": true
   },
   "outputs": [],
   "source": [
    "search_bully('Bullying trabalho', 2017)#Terceira Tentativa"
   ]
  },
  {
   "cell_type": "code",
   "execution_count": null,
   "id": "e30e82b3-8a03-4313-beb6-d6b622c111bc",
   "metadata": {
    "scrolled": true
   },
   "outputs": [],
   "source": [
    "search_bully('Bullying trabalho', 2018)#Terceira Tentativa"
   ]
  },
  {
   "cell_type": "code",
   "execution_count": null,
   "id": "cb2bee4f-a10a-46a4-bea5-b11df706e55e",
   "metadata": {},
   "outputs": [],
   "source": [
    "search_bully('assedio trabalho', 2015)#Terceira Tentativa"
   ]
  },
  {
   "cell_type": "code",
   "execution_count": null,
   "id": "5119dee4-c499-4f8d-9406-47a34ec50691",
   "metadata": {},
   "outputs": [],
   "source": [
    "search_bully('assedio trabalho', 2016)#Terceira Tentativa"
   ]
  },
  {
   "cell_type": "code",
   "execution_count": null,
   "id": "330c5480-4083-49c1-a0a7-4525704111b9",
   "metadata": {},
   "outputs": [],
   "source": [
    "search_bully('assedio trabalho', 2017)#Terceira Tentativa"
   ]
  },
  {
   "cell_type": "code",
   "execution_count": null,
   "id": "d61b02f1-2c19-4251-b36b-244e23583fdf",
   "metadata": {},
   "outputs": [],
   "source": [
    "search_bully('assedio trabalho', 2018)#Terceira Tentativa"
   ]
  },
  {
   "cell_type": "code",
   "execution_count": null,
   "id": "5a76d33b-6d42-4661-acd0-73b8def99dc9",
   "metadata": {},
   "outputs": [],
   "source": [
    "search_bully('bully emprego', 2015)#Terceira Tentativa"
   ]
  },
  {
   "cell_type": "code",
   "execution_count": null,
   "id": "c122823b-c458-4fa9-99bc-859b0bc6274f",
   "metadata": {},
   "outputs": [],
   "source": [
    "search_bully('bully emprego', 2016)#Terceira Tentativa"
   ]
  },
  {
   "cell_type": "code",
   "execution_count": null,
   "id": "5fb37e98-4f2d-49b6-b159-100fb0edd91a",
   "metadata": {},
   "outputs": [],
   "source": [
    "search_bully('bully emprego', 2017)#Terceira Tentativa"
   ]
  },
  {
   "cell_type": "code",
   "execution_count": null,
   "id": "ade85b9e-f7f1-416a-a832-ddf004266ba6",
   "metadata": {},
   "outputs": [],
   "source": [
    "search_bully('bully emprego', 2018)#Terceira Tentativa"
   ]
  },
  {
   "cell_type": "code",
   "execution_count": null,
   "id": "9d53636b-0524-4c89-96b6-c400fecd29fc",
   "metadata": {},
   "outputs": [],
   "source": [
    "search_bully('Bullying emprego', 2015)#Terceira Tentativa"
   ]
  },
  {
   "cell_type": "code",
   "execution_count": null,
   "id": "67c6b398-89a6-4af5-ae68-1c5ce9fde039",
   "metadata": {},
   "outputs": [],
   "source": [
    "search_bully('Bullying emprego', 2016)#Terceira Tentativa"
   ]
  },
  {
   "cell_type": "code",
   "execution_count": null,
   "id": "dc941a5e-81e2-42bf-9660-14d1a1d011a9",
   "metadata": {},
   "outputs": [],
   "source": [
    "search_bully('Bullying emprego', 2017)#Terceira Tentativa"
   ]
  },
  {
   "cell_type": "code",
   "execution_count": null,
   "id": "c678e4f1-95e9-4fc2-ae0c-c6cf6b4f7ca4",
   "metadata": {},
   "outputs": [],
   "source": [
    "search_bully('Bullying emprego', 2018)#Terceira Tentativa"
   ]
  },
  {
   "cell_type": "code",
   "execution_count": null,
   "id": "d3005aef-814a-47eb-ba06-e5ac36d861fc",
   "metadata": {},
   "outputs": [],
   "source": [
    "search_bully('bullyng emprego', 2015)#Terceira Tentativa"
   ]
  },
  {
   "cell_type": "code",
   "execution_count": null,
   "id": "4c23cba7-9532-464b-802d-fd21cef5c48f",
   "metadata": {},
   "outputs": [],
   "source": [
    "search_bully('bullyng emprego', 2016)#Terceira Tentativa"
   ]
  },
  {
   "cell_type": "code",
   "execution_count": null,
   "id": "e09f77a8-ff80-4951-970c-6f062ebda53d",
   "metadata": {},
   "outputs": [],
   "source": [
    "search_bully('bullyng emprego', 2017)#Terceira Tentativa"
   ]
  },
  {
   "cell_type": "code",
   "execution_count": null,
   "id": "15293206-0a2a-4f3e-88e9-7da5a1a918d0",
   "metadata": {},
   "outputs": [],
   "source": [
    "search_bully('bullyng emprego', 2018)#Terceira Tentativa"
   ]
  },
  {
   "cell_type": "code",
   "execution_count": null,
   "id": "4011cd53-3525-4f3f-8f6c-5a9557388617",
   "metadata": {
    "scrolled": true
   },
   "outputs": [],
   "source": [
    "search_bully('assedio emprego', 2015)#Terceira Tentativa"
   ]
  },
  {
   "cell_type": "code",
   "execution_count": null,
   "id": "c412cd4f-e7d5-45f7-ad66-6a7df6e01cdd",
   "metadata": {},
   "outputs": [],
   "source": [
    "search_bully('assedio emprego', 2016)#Terceira Tentativa"
   ]
  },
  {
   "cell_type": "code",
   "execution_count": null,
   "id": "c9c6019d-e106-485f-8d6b-99eb9b619a6d",
   "metadata": {},
   "outputs": [],
   "source": [
    "search_bully('assedio emprego', 2017)#Terceira Tentativa"
   ]
  },
  {
   "cell_type": "code",
   "execution_count": null,
   "id": "1c975f52-3916-4510-aae9-da5fd7c75288",
   "metadata": {},
   "outputs": [],
   "source": [
    "search_bully('assedio emprego', 2018)#Terceira Tentativa"
   ]
  },
  {
   "cell_type": "code",
   "execution_count": null,
   "id": "0950e78a-68af-4aa1-bcc6-00f3652a30e7",
   "metadata": {},
   "outputs": [],
   "source": [
    "search_bully('assedio callcenter', 2015)#Terceira Tentativa"
   ]
  },
  {
   "cell_type": "code",
   "execution_count": null,
   "id": "a865c3ea-8be4-466c-9eed-7a839848e617",
   "metadata": {},
   "outputs": [],
   "source": [
    "search_bully('assedio callcenter', 2016)#Terceira Tentativa"
   ]
  },
  {
   "cell_type": "code",
   "execution_count": null,
   "id": "e52a8818-1948-4fe8-841a-57674c6733b3",
   "metadata": {},
   "outputs": [],
   "source": [
    "search_bully('assedio callcenter', 2017)#Terceira Tentativa"
   ]
  },
  {
   "cell_type": "code",
   "execution_count": null,
   "id": "4895853a-a55b-47cf-ac6c-b22a0ce3db28",
   "metadata": {},
   "outputs": [],
   "source": [
    "search_bully('assedio callcenter', 2018)#Terceira Tentativa"
   ]
  },
  {
   "cell_type": "code",
   "execution_count": null,
   "id": "e920e05e-b16b-4f1a-9dda-5eb02ed0de19",
   "metadata": {},
   "outputs": [],
   "source": [
    "search_bully('Bullying callcenter', 2015)#Terceira Tentativa"
   ]
  },
  {
   "cell_type": "code",
   "execution_count": null,
   "id": "ec1ae4af-82b6-4353-98b3-98933b889b96",
   "metadata": {},
   "outputs": [],
   "source": [
    "search_bully('Bullying callcenter', 2016)#Terceira Tentativa"
   ]
  },
  {
   "cell_type": "code",
   "execution_count": null,
   "id": "8f1dc104-b182-4b76-9793-020b896843a2",
   "metadata": {},
   "outputs": [],
   "source": [
    "search_bully('Bullying callcenter', 2017)#Terceira Tentativa"
   ]
  },
  {
   "cell_type": "code",
   "execution_count": null,
   "id": "56f31894-0de2-441f-92a5-10c20bd33544",
   "metadata": {},
   "outputs": [],
   "source": [
    "search_bully('Bullying callcenter', 2018)#Terceira Tentativa"
   ]
  },
  {
   "cell_type": "code",
   "execution_count": null,
   "id": "551ce819-164a-4fd9-8f2d-349422788537",
   "metadata": {},
   "outputs": [],
   "source": [
    "search_bully('assedio telemarketing', 2015)#Terceira Tentativa"
   ]
  },
  {
   "cell_type": "code",
   "execution_count": null,
   "id": "238d5ced-8514-4fc2-b141-6f6d7c5d1c23",
   "metadata": {},
   "outputs": [],
   "source": [
    "search_bully('assedio telemarketing', 2016)#Terceira Tentativa"
   ]
  },
  {
   "cell_type": "code",
   "execution_count": null,
   "id": "3902d3ab-ee55-4b65-ab16-889b0da76a27",
   "metadata": {},
   "outputs": [],
   "source": [
    "search_bully('assedio telemarketing', 2017)#Terceira Tentativa"
   ]
  },
  {
   "cell_type": "code",
   "execution_count": null,
   "id": "d18ca268-51ec-41ea-9d08-0f9f9e451711",
   "metadata": {},
   "outputs": [],
   "source": [
    "search_bully('assedio telemarketing', 2018)#Terceira Tentativa"
   ]
  },
  {
   "cell_type": "code",
   "execution_count": null,
   "id": "67ca23b1-cfc2-4d4b-95ec-edc34b6e3a90",
   "metadata": {},
   "outputs": [],
   "source": [
    "search_bully('Bullying telemarketing', 2015)#Terceira Tentativa"
   ]
  },
  {
   "cell_type": "code",
   "execution_count": null,
   "id": "c2c17ca3-1daf-4458-8ed0-10eff604dfc0",
   "metadata": {},
   "outputs": [],
   "source": [
    "search_bully('Bullying telemarketing', 2016)#Terceira Tentativa"
   ]
  },
  {
   "cell_type": "code",
   "execution_count": null,
   "id": "da08e8ec-68a3-4112-ad26-87d75704f1bc",
   "metadata": {},
   "outputs": [],
   "source": [
    "search_bully('Bullying telemarketing', 2017)#Terceira Tentativa"
   ]
  },
  {
   "cell_type": "code",
   "execution_count": null,
   "id": "b5896128-9781-4f8f-b47f-b4c0408dd525",
   "metadata": {
    "jupyter": {
     "source_hidden": true
    }
   },
   "outputs": [],
   "source": [
    "search_bully('Bullying telemarketing', 2018)#Terceira Tentativa"
   ]
  },
  {
   "cell_type": "code",
   "execution_count": 95,
   "id": "7ecf9a02-a8f6-40b5-ab46-5df20e9924ea",
   "metadata": {},
   "outputs": [
    {
     "name": "stdout",
     "output_type": "stream",
     "text": [
      "                   Termos  2015  2016  2017  2018\n",
      "0          assedioemprego   138     0   295   457\n",
      "1        Bullyingtrabalho  1080   803   738  1192\n",
      "2         assediotrabalho  2300   744  3343     0\n",
      "3       assediocallcenter     0     1     0     0\n",
      "4   Bullyingtelemarketing     4     1     1     2\n",
      "5            bullyemprego     3     3     0     5\n",
      "6    assediotelemarketing    71    28    32    29\n",
      "7        bullytrabalhocsv    26    21    47    61\n",
      "8      Bullyingcallcenter     1     0     1     0\n",
      "9         bullyempregocsv     1     4     6     0\n",
      "10       Bullyingremprego    60    33    55   105\n"
     ]
    }
   ],
   "source": [
    "def pandasRead(folder):\n",
    "    read = pd.read_csv(folder)\n",
    "    return len(read)\n",
    "def coletaDeTweets():\n",
    "    directory = './'\n",
    "    folders = []\n",
    "    folder2015=[]\n",
    "    folder2016=[]\n",
    "    folder2017=[]\n",
    "    folder2018=[]\n",
    "\n",
    "    for filename in os.listdir(directory):\n",
    "        if filename != \".git\" and filename != \"main.py\" and filename != \".ipynb_checkpoints\" and filename != \"Untitled.ipynb\" and filename != \"documentacaoErros\" and filename != \"Primeiratentativa\" and filename != \"Segundatentativa\":\n",
    "            folders.append(filename)\n",
    "    for csvfolder in folders:\n",
    "        for csvs in os.listdir(csvfolder):\n",
    "            if csvs != \".ipynb_checkpoints\" and csvs != \".obsidian\" and csvs !=\"Erros.md\":\n",
    "                pass\n",
    "            if csvs[-5] == '5':\n",
    "                folder2015.append(pandasRead(\"./\"+csvfolder+\"/\"+csvs))\n",
    "            elif csvs[-5] == '6':\n",
    "                folder2016.append(pandasRead(\"./\"+csvfolder+\"/\"+csvs))\n",
    "            elif csvs[-5] == '7':\n",
    "                folder2017.append(pandasRead(\"./\"+csvfolder+\"/\"+csvs))\n",
    "            elif csvs[-5] == '8':\n",
    "                folder2018.append(pandasRead(\"./\"+csvfolder+\"/\"+csvs))\n",
    "    termosFrame = pd.DataFrame({\"Termos\":folders, \"2015\":folder2015, \"2016\":folder2016,\n",
    "                               \"2017\":folder2017,\"2018\":folder2018,})\n",
    "    print(termosFrame)\n",
    "    \n",
    "coletaDeTweets()"
   ]
  },
  {
   "cell_type": "code",
   "execution_count": 103,
   "id": "87e42f0c-7779-4c54-a6d3-16a756128912",
   "metadata": {},
   "outputs": [
    {
     "name": "stdout",
     "output_type": "stream",
     "text": [
      "0      Campanha do Ministério do Trabalho e Emprego i...\n",
      "1      Saiba identificar assédio moral no trabalho e ...\n",
      "2      @zh_esportes @Dryzinho_praero então se o cara ...\n",
      "3      @Eduardocsilvaa a moça do cafezinho vai engoli...\n",
      "4      @marcellaVEVO NOSSA VC PRECISA dps vc fala q f...\n",
      "                             ...                        \n",
      "133    Mulher denuncia assédio sexual em troca de opo...\n",
      "134    MG: Sindicato cobra fim do assédio moral e gar...\n",
      "135    Em Goiás, mulher denuncia assédio sexual em tr...\n",
      "136    GO: Mulher denuncia assédio sexual em troca de...\n",
      "137    Mulher denuncia assédio sexual em troca de opo...\n",
      "Name: tweets, Length: 138, dtype: object\n",
      "0      Eu não volto pro Brasil nem FODENDO!! Assédio ...\n",
      "1      Meu vizinho coxinha ganhava 2500 antes do golp...\n",
      "2      A Globo gosta de um sensacionalismo barato. Só...\n",
      "3      Tava vendo com a minha mãe uma reportagem sobr...\n",
      "4      Eu acho é que a gente não precisa se submeter ...\n",
      "                             ...                        \n",
      "290    Uma busca de emprego na OLX virou um assédio s...\n",
      "291    Como uma busca de emprego na OLX virou um assé...\n",
      "292    descobriu meu segredo, eu minto sobre meu empr...\n",
      "293    - E pq saiu do último emprego? - Fui demitido ...\n",
      "294    Não basta o salário baixo, o assédio moral e a...\n",
      "Name: tweets, Length: 295, dtype: object\n",
      "0      Vc está enganada, tem muito homem que deixa em...\n",
      "1      Não sei vcs mas eu achei super digno o José Ma...\n",
      "2      nunca sofreu assedio nesse teu emprego não? — ...\n",
      "3      Quando eu sai do meu trampo, em fevereiro, eu ...\n",
      "4      + eu fiquei quieta porque eu não queria perder...\n",
      "                             ...                        \n",
      "452    Como assim? Ano passado foi só homens perdendo...\n",
      "453    Como sofri assédio de um vagabundo no passado,...\n",
      "454    Ali foi prostituição. O caso da camareira da g...\n",
      "455    quem acha susse se fantasiar de ~negao da piro...\n",
      "456    e pelo fato de serem mulheres é tudo muito mai...\n",
      "Name: tweets, Length: 457, dtype: object\n",
      "Series([], Name: tweets, dtype: object)\n",
      "0      To andando muito feio e to sofrendo bullying n...\n",
      "1      A pessoa sofre bullying de todos os seus coleg...\n",
      "2      Assédio Moral &#038; Bullying no trabalho -  n...\n",
      "3      Isso do bullying é mentira mas de resto até ac...\n",
      "4      Se engana quem acredita que bullying é feito a...\n",
      "                             ...                        \n",
      "733    a gay do bullying tao bonitinha fazendo um tra...\n",
      "734    Pros baba-ovo de Japão: - pornografia infantil...\n",
      "735       Hoje eu sofri mto bullying lá no trabalho, aff\n",
      "736    Registro aqui novamente o bullying que sofro n...\n",
      "737    Os que fazem bullying na escola, puxarão tapet...\n",
      "Name: tweets, Length: 738, dtype: object\n",
      "0       Conclusão do trabalho de mentalidades medievai...\n",
      "1       Muito bullying eu não estar de férias e estar ...\n",
      "2       as pessoas olham pra mim e perguntam se eu to ...\n",
      "3       posso apenas dizer q o 5sos ta fznd um ótimo t...\n",
      "4       - Trabalho num escritório de engenharia civil....\n",
      "                              ...                        \n",
      "1075    Exclusão no trabalho é pior que bullying, afir...\n",
      "1076    no momento sofrendo bullying do pessoal do tra...\n",
      "1077    qual dieta Daniel Nascimento usou para deixar ...\n",
      "1078    Exclusão no trabalho é pior que bullying, afir...\n",
      "1079    Hj só não é preconceito e bullying quando é a ...\n",
      "Name: tweets, Length: 1080, dtype: object\n",
      "0      Vim a casa de uma amiga fazer o trabalho, tao ...\n",
      "1      Nois já sofre bullying no mercado de trabalho ...\n",
      "2                   Terminei o trabalho do bullying hehe\n",
      "3      ODEIA E FAZ VC SOFRER COM TRABALHO ESCRAVO E A...\n",
      "4      Depois de ser acusado injustamente de praticar...\n",
      "                             ...                        \n",
      "798    Siga @CanaisTvOnline Bullying no trabalho moti...\n",
      "799    Siga @CanaisTvOnline Bullying no trabalho moti...\n",
      "800    Siga @CanaisTvOnline Bullying no trabalho moti...\n",
      "801    Siga @CanaisTvOnline Bullying no trabalho moti...\n",
      "802    Siga @CanaisTvOnline Bullying no trabalho moti...\n",
      "Name: tweets, Length: 803, dtype: object\n",
      "0       Eu também pretendo abordar de forma diferente ...\n",
      "1       li um texto tão triste de uma bolsista prouni ...\n",
      "2       Leo colocou pão dentro da minha calça, até no ...\n",
      "3       Tentei me afastar na adolescência e foi sofrid...\n",
      "4       to lendo uma fic q o jooheon faz bullying todo...\n",
      "                              ...                        \n",
      "1187    Concordo mas eu amei a estética :) Eu pensei t...\n",
      "1188          além de chifruda sofre bullying no trabalho\n",
      "1189    Deus queira que eu não sofra bullying no traba...\n",
      "1190    Sei que ele nuuuuunca vai ver isso mas sério M...\n",
      "1191    -Ñ DIRIJA BÊBADO, ISSO PODE ESTRAGAR UMA FAMÍL...\n",
      "Name: tweets, Length: 1192, dtype: object\n",
      "0       5- 525, vila velha, porta retrato quebrado, fk...\n",
      "1       “Isso é assédio moral!”: um tipo de violência ...\n",
      "2       Como Evitar o Assédio Moral no local de trabal...\n",
      "3       Como Evitar o Assédio Moral no local de trabal...\n",
      "4       Desqualificar funcionários no ambiente de trab...\n",
      "                              ...                        \n",
      "2295    Assédio moral: já passou por constrangimento o...\n",
      "2296    Racismo e assédio moral no trabalho: saiba com...\n",
      "2297    O Bullying e Assédio Moral No Ambiente De Trab...\n",
      "2298    @GloboNews A classe médica o escambau, eu trab...\n",
      "2299    Equipe médica que atende índios evita falar so...\n",
      "Name: tweets, Length: 2300, dtype: object\n",
      "Series([], Name: tweets, dtype: object)\n",
      "0       eu achei massa abordar assédio moral no trabal...\n",
      "1       Pra mim deixou o rolê Star Trek com cara de to...\n",
      "2       Um total desrespeito a globo não mostrar algo ...\n",
      "3       Essa questão é muito maior do que a Lava Jato....\n",
      "4       Mulher transgênero alega ter sido demitida apó...\n",
      "                              ...                        \n",
      "3338    Mano, isso é romantizar assedio sexual no trab...\n",
      "3339    Justiça do Trabalho Mineira rejeita pedido de ...\n",
      "3340    Justiça do Trabalho Mineira rejeita pedido de ...\n",
      "3341    queria voltar pro trabalho de uber já que eu t...\n",
      "3342    Gostei de um vídeo @YouTube de @ojeanluca yout...\n",
      "Name: tweets, Length: 3343, dtype: object\n",
      "0      Gostei de um vídeo @YouTube de @canalpoenaroda...\n",
      "1                              Assédio moral no trabalho\n",
      "2      Relação de Trabalho e o Assédio Moral - Isso n...\n",
      "3      Repórter brasileira fica desconfortável após a...\n",
      "4      Gostei de um vídeo @YouTube de @ojeanluca yout...\n",
      "                             ...                        \n",
      "739    Covardia? Assédio moral no trabalho em pessoa ...\n",
      "740    Sônia me ajude no local que trabalho sofremos ...\n",
      "741    Nenhuma mulher deveria sentir medo ou cogitar ...\n",
      "742    Jovem revela assédio sexual de dom Aldo em dep...\n",
      "743    Se estuprador é vítima nesse país... Você acha...\n",
      "Name: tweets, Length: 744, dtype: object\n",
      "Series([], Name: tweets, dtype: object)\n",
      "Series([], Name: tweets, dtype: object)\n",
      "0    #marketing #telefonico, assedio dei #callcente...\n",
      "Name: tweets, dtype: object\n",
      "Series([], Name: tweets, dtype: object)\n",
      "0    Não há quem sofra mais bullying do que operado...\n",
      "1    As vezes essas pessoas que você citou, princip...\n",
      "Name: tweets, dtype: object\n",
      "0    @NEToficial eu, minha mulher e minha mãe estam...\n",
      "1             Sofro bullying de telemarketing de banco\n",
      "2    sofro bullying pelo meu nome até por telemarke...\n",
      "3    é assim ô: \"Babi quantos kg vc pesa? Agora ja ...\n",
      "Name: tweets, dtype: object\n",
      "0    Nunca mas Nunca mesmo brigue com nenhum atende...\n",
      "Name: tweets, dtype: object\n",
      "0    Empresas de telemarketing gozam de completo an...\n",
      "Name: tweets, dtype: object\n",
      "0    daí vc descobre que aquela bully idiota que tr...\n",
      "1    #Emprego O seu colega é um bully? Aprenda a de...\n",
      "2    @MissMadFerIt Paulista é o bully do colégio qu...\n",
      "Name: tweets, dtype: object\n",
      "0    a rory quer bully o cara para conseguir um emp...\n",
      "1    @justincloser dear bully, mesmo vc falando o q...\n",
      "2    Gostei de um vídeo @YouTube de @canaldonose yo...\n",
      "Name: tweets, dtype: object\n",
      "Series([], Name: tweets, dtype: object)\n",
      "0    bro what the actual fuck. Bro era das pessoas ...\n",
      "1    Por viverem num apartamento ou msm numa vivend...\n",
      "2    Qual é o seu emprego dos sonhos? 👩‍🌾👨🏻‍🚀 — Qua...\n",
      "3                     Necessito de um emprego na moral\n",
      "4    é realmente simples: é tudo gente frustrada co...\n",
      "Name: tweets, dtype: object\n",
      "0     @itau e ai Itau, Até quando vcs vão contratar ...\n",
      "1     trabalhei por 3 anos com telemarketing, o sald...\n",
      "2     Eu trabalho como telemarketing tem 3 anos e re...\n",
      "3     Telemarketing é foda ;-; Seria bom usarem tran...\n",
      "4     A @skybrasil chega ao nível de assédio, ligand...\n",
      "5     Sofri muito assédio no meu segundo emprego. Me...\n",
      "6     #CONSUMIDOR | Você já recebeu ligações de tele...\n",
      "7     #CONSUMIDOR | Você já recebeu ligações de tele...\n",
      "8     Curioso o #Fantástico fazer uma matéria sobre ...\n",
      "9     Se vc assedia as minas do telemarketing, vc é ...\n",
      "10    Em celular o impacto também é parecido. As pes...\n",
      "11    A gente nem consegue fazer pesquisa eleitoral ...\n",
      "12    O filme nem estreou no Brasil, mas eu já quero...\n",
      "13    Trabalho com call center, mas desde o ocorrido...\n",
      "14    O @proconspoficial e a @proteste deveriam agir...\n",
      "15    Operadora de telemarketing é indenizada por as...\n",
      "16    Moço, entra no site ou liga para o PROCON do s...\n",
      "17    MPT4: Empresa de telemarketing firma TAC sobre...\n",
      "18    Empresa de telemarketing firma TAC sobre asséd...\n",
      "19    Serviços de telemarketing deviam ser processad...\n",
      "20    O assédio - substantivo - é qualquer pessoa q ...\n",
      "21    O sistema de telemarketing no Brasil é brutal,...\n",
      "22    Muito obrigado. Irei recorrer sim e ajuizar ac...\n",
      "23    O \"depois do não é tudo assédio\" deveria valer...\n",
      "24    Como fazer para o telemarketing do @Itau parar...\n",
      "25    \"Não é não\" é uma excelente campanha, mas deve...\n",
      "26    Depois do não é tudo assédio, ouviram?  atende...\n",
      "27    pessoal, o que vocês fariam se suas colegas de...\n",
      "28    Não vai demorar muito e até desejar um bom dia...\n",
      "Name: tweets, dtype: object\n",
      "0     AUDIÊNCIA PÚBLICA PARA DISCUSSÃO DO ASSÉDIO MO...\n",
      "1     @programacentral fico constrangido com o asséd...\n",
      "2     Hoje, o Ministério Público do Trabalho discute...\n",
      "3     SP: MPT em Campinas mira assédio moral a funci...\n",
      "4     Audiência pública debate o assédio moral no se...\n",
      "                            ...                        \n",
      "66    Justiça determina indenização à operadora de t...\n",
      "67    Justiça determina indenização à operadora de t...\n",
      "68    michelgomesvinagre.jur.adv.b…, Justiça determi...\n",
      "69    DF: Justiça determina indenização à operadora ...\n",
      "70    TRT 10ª Região: \"Justiça determina indenização...\n",
      "Name: tweets, Length: 71, dtype: object\n",
      "0     vc ta no trabalho e o telemarketing te ligando...\n",
      "1     Bancos e telefônicas são acusados de assédio a...\n",
      "2     Bancos e telefônicas são acusados de assédio a...\n",
      "3     Bancos e telefônicas são acusados de assédio a...\n",
      "4     Bancos e telefônicas são acusados de assédio a...\n",
      "5     Bancos e telefônicas são acusados de assédio a...\n",
      "6     Bancos e telefônicas são acusados de assédio a...\n",
      "7     Bancos e telefônicas são acusados de assédio a...\n",
      "8     Bancos e telefônicas são acusados de assédio a...\n",
      "9     Bancos e telefônicas são acusados de assédio a...\n",
      "10    Bancos e telefônicas são acusados de assédio a...\n",
      "11    RTUOLNoticias: Bancos e telefônicas são acusad...\n",
      "12    Bancos e telefônicas são acusados de assédio a...\n",
      "13    Bancos e telefônicas são acusados de assédio a...\n",
      "14    #TST Operadora de telemarketing da LBV receber...\n",
      "15    Paraná: LBV  é condenada a pagar indenização d...\n",
      "16    Setor de telemarketing reúne grande número de ...\n",
      "17    Empresa indenizará por assédio sexual de super...\n",
      "18    Empresa indenizará por assédio sexual de super...\n",
      "19    Empresa indenizará operadora de telemarketing ...\n",
      "20    Empresa indenizará operadora de telemarketing ...\n",
      "21    Empresa indenizará por assédio sexual de super...\n",
      "22    Empresa indenizará por assédio sexual de super...\n",
      "23    Empresa indenizará por assédio sexual de super...\n",
      "24    Empresa indenizará por assédio sexual de super...\n",
      "25    Pensa num serviço pau no cu, estressante e q p...\n",
      "26    Setor de telemarketing: Mulheres de até 24 ano...\n",
      "27    @CNJ_oficial gostaria de informações sobre o r...\n",
      "Name: tweets, dtype: object\n",
      "0     Não aguento mais esses stories de promoter de ...\n",
      "1     4/5/6 chamadas ora da NOS ora da MEO por dia. ...\n",
      "2     Empresa de telemarketing é condenada a indeniz...\n",
      "3     Empresa de telemarketing é condenada a indeniz...\n",
      "4     Empresa de telemarketing é condenada a indeniz...\n",
      "5     Empresa de telemarketing é condenada a indeniz...\n",
      "6     Empresa de telemarketing é condenada a indeniz...\n",
      "7     Empresa de telemarketing é condenada a indeniz...\n",
      "8     Quando combateremos a loucura, o assédio que t...\n",
      "9     Não entendo como isso não é ilegal. É um saco ...\n",
      "10    nois pode reclamar no procon do assédio dessas...\n",
      "11    Empresa de telemarketing é condenada por asséd...\n",
      "12    Empresa de telemarketing é condenada por asséd...\n",
      "13    Não te explicaste bem no 1.º tweet. Quando li ...\n",
      "14    Tem como processar telemarketing por assédio? ...\n",
      "15    @ProfRenataOrsi professora, boa noite, pode me...\n",
      "16    @AryannaManfredi professora, boa noite, pode m...\n",
      "17    @renatosaraiva10 professor poderia me ajudar e...\n",
      "18    @marcosscalercio professor, boa noite, poderia...\n",
      "19    Professor, boa tarde, o senhor poderia falar o...\n",
      "20    21133867700. Número que se identifica como tel...\n",
      "21    existe área onde ocorra mais assedio sexual qu...\n",
      "22    MPT investiga denúncias de assédio sexual e mo...\n",
      "23    TRT22: Empresa de Telemarketing pagará R$ 10 m...\n",
      "24    @nextelbrasil bora parar c/ o telemarketing q ...\n",
      "25    O assédio da Sky recomeçou. Como a gente se li...\n",
      "26    Além disso, @Vivoemrede, avise o telemarketing...\n",
      "27    Operadora de Telemarketing denúncia Assédio Mo...\n",
      "28    Operadora de Telemarketing denúncia Assédio Mo...\n",
      "29    Operadora de Telemarketing denúncia Assédio Mo...\n",
      "30    Empresa de telemarketing assume compromisso de...\n",
      "31    Empresa de telemarketing assume compromisso de...\n",
      "Name: tweets, dtype: object\n",
      "0     Minha ficha ainda não caiu que acabei meus est...\n",
      "1     A Rita Pereira facilitou muito o trabalho dos ...\n",
      "2     Ah, um ou outro já apareceu aqui por causa de ...\n",
      "3     Olha quem veio passear hoje no trabalho  da ma...\n",
      "4     Primeira vez hoje Que não Sofro Bully no Trabalho\n",
      "                            ...                        \n",
      "56    É um bully. Não merece respeito. Sim, o trabal...\n",
      "57    Sora virou bully agora o Mike tem q atirar ser...\n",
      "58    Começo de um novo trabalho #youtube #youtuber ...\n",
      "59    Alison Parker (refém) Ela é gringa ela  A ovel...\n",
      "60    Quando o bully \"pede\" para você colocar o nome...\n",
      "Name: tweets, Length: 61, dtype: object\n",
      "0     Hj lá no trabalho foi uma filhote de American ...\n",
      "1     A vitoria de trump simboliza tao mais que uma ...\n",
      "2     Obviamente não vou encerrar esta conta de Twit...\n",
      "3     Eu to sofrendo bully no trabalho, pq eu me dro...\n",
      "4           Sofro bully no trabalho por ser paulista /:\n",
      "5     Todos já passamos por isto. Todos já tivemos p...\n",
      "6     O último trabalho de #Bully no #Playstation 4 ...\n",
      "7     Seguimos os detonados de #Bully. Desta vez, mo...\n",
      "8     Acabou de sair novo episódio de BULLY !!! Pare...\n",
      "9     qnd tinha 15, fiz um guri humilhar uma menina ...\n",
      "10    bora começar um trabalho de tradução para o vi...\n",
      "11    A stora de português disse para o trabalho do ...\n",
      "12    lidar com esse bully no trabalho é tão  normal...\n",
      "13    dear bully eu não preciso dizer nada, existe a...\n",
      "14    dear bully se tem uma coisa que to agora eh de...\n",
      "15    @birdmad a capa desse é ben gay e eu sofro bul...\n",
      "16    @PobreElitizada @jefferraro @Dri_Caldeira trab...\n",
      "17    @BRKsEDU Tu é mito :D  seu fã desde game play ...\n",
      "18    @HONG95JISOO @95FUCOUPS Só estou fazendo o meu...\n",
      "19    saindo do trabalho agora, niver do bully.. vms...\n",
      "20    ser vítima de bully no trabalho e chegar em ca...\n",
      "Name: tweets, dtype: object\n",
      "0                e quando o bully é dentro do trabalho?\n",
      "1     Estou sofrendo bully por causa da barba no tra...\n",
      "2     Sofro bully no trabalho porque falo palavras p...\n",
      "3     nem sei porque é que ainda me dou ao trabalho ...\n",
      "4     @Hawk_Gameplays sobre a cidade do futuro escol...\n",
      "5     Bully no trabalho 👏👏👏👏  #tragico #instagood #i...\n",
      "6     era pra eu ter começado o trabalho de sociolog...\n",
      "7     @BRKsEDU Edu, Na Moral eu Sei que aquela sua s...\n",
      "8     @wuantt Wuant, tudo bem? Gostava de te pergunt...\n",
      "9     #Davis Galera oque vocês acham do meu trabalho...\n",
      "10    ... mano tava saindo do trabalho e tals ne , a...\n",
      "11    sinto mto facul n vai dar para fazer os trabal...\n",
      "12    Olá galera, a página vem informar que um de no...\n",
      "13    Olá galera, viemos parabenizar um cdc da PÁGIN...\n",
      "14    Hoje uns da minha turma disseram para eu ser u...\n",
      "15    Eu achava que ia sofrer bully no trabalho por ...\n",
      "16    Eu espero que vcs se fodam, enquanto vao pra e...\n",
      "17    Tentando fazer o trabalho da pós, mas tem algu...\n",
      "18    Com certos colegas de trabalho você tem que li...\n",
      "19    + trabalho sobre o bully que é pra fzr uma peç...\n",
      "20    Tem um trabalho sobre o bully que é pra fzr um...\n",
      "21    5 tipos de idiotas no trabalho. 1.O “Sabe-tudo...\n",
      "22    Eu que fiz um trabalho sobre marco civil da in...\n",
      "23    Esse vídeo de bully deu um pouco de trabalho d...\n",
      "24    @Cardoso cadê toneladas de diplomacia pra reso...\n",
      "25    E mais um gibi foda... BULLY do parcerão Julio...\n",
      "Name: tweets, dtype: object\n",
      "0        Janaína fez um trabalho lindo! KKKKLLLKKKKKKKK\n",
      "1     tema esta bem relevante, infelizmente. saiu no...\n",
      "2     Não sei pq vcs n gostam do ensino médio, sim, ...\n",
      "3                      Sem talento não rola trabalho !!\n",
      "4     A No Bully resolve cerca de 90% dos casos de b...\n",
      "5     Falei que não ia baixar jogo no notebook que a...\n",
      "6     Os bullies podem prejudicar e comprometer um l...\n",
      "7     A mãe, 100% estressada, precisa faltar no trab...\n",
      "8     eu sofro bullying fazem 9 anos (contando com o...\n",
      "9     MEU TRABALHO TÁ LÁ! TÃO LINDO AQUELE CARTAZ DO...\n",
      "10                    Não existe Vitória sem trabalho !\n",
      "11    a parada que mais gosto no meu trabalho é que ...\n",
      "12    Que vontade de largar esses trabalho e ir plat...\n",
      "13    Aulas de pt vão render pó bully fazer o seu tr...\n",
      "14    não estás a fazer o teu trabalho correctamente...\n",
      "15                   Como vou fazer o trabalho do curso\n",
      "16    boa noite pra quem teve um surto no trabalho e...\n",
      "17    eu tenho uns poucos pelos tipo bem poucos e ni...\n",
      "18    \" As ofensas são virtual mas as consequências ...\n",
      "19              isso que eu faço no meu trabalho, bully\n",
      "20    já não basta o trabalho, ainda meu pai me trat...\n",
      "21                         bully no trabalho disse isso\n",
      "22    tas a fazer o trabalho todo por mim... és tipo...\n",
      "23    Epa! Eu era a pessoa de quem os bullies tinham...\n",
      "24    Não só Bully, GTA 3, GTA San Andreas, fora as ...\n",
      "25    Carai Shazam .. vou gravar essa porra quando c...\n",
      "26    amanhã tenho trabalho e eu comecei a chorar po...\n",
      "27    To aqui fazendo um trabalho sobre bully e proc...\n",
      "28                                 Só trabalho com pprt\n",
      "29    É do Crossfit. Qualquer dia mete-se com o gajo...\n",
      "30    As coisas que uso só é sucesso na internet e r...\n",
      "31    Mano eu tava dormindo  Agr tenho q terminar o ...\n",
      "32    Eles fazem um trabalho bem feito né?! Bully fo...\n",
      "33                                  Trabalho no circo ?\n",
      "34    To enviando o Bully agora.. aff... maior agoni...\n",
      "35    Como fazer o download do jogo Android BULLY Ap...\n",
      "36    Vc viu q ele tem processo nas costas por danos...\n",
      "37    Vídeo especial do Bully saindo daqui a pouco.....\n",
      "38               Acordei cedo pra fazer o trabalho logo\n",
      "39    Vem piranha brota na base do Bully que tu vai ...\n",
      "40    Qem n jogou Bully na play 2 pode entrar na min...\n",
      "41    é legal ver como eyeshield faz um trabalho de ...\n",
      "42    Porra eu, th, rafa, Bully entramos na mente da...\n",
      "43    ⚡ Justiça do Trabalho 'nem deveria existir', d...\n",
      "44    Meu dia nas férias universitárias: Acordo, tra...\n",
      "45    já passei na lojinha, comprei Bully p jogar, s...\n",
      "46    sofrendo bully no trabalho por usar winamp ski...\n",
      "Name: tweets, dtype: object\n",
      "0    Eu acho bem ok trabalhar em Callcenter. Em emp...\n",
      "Name: tweets, dtype: object\n",
      "0    @MARCIASALLES @boninho @bbb Aqui é o  callcent...\n",
      "Name: tweets, dtype: object\n",
      "Series([], Name: tweets, dtype: object)\n",
      "Series([], Name: tweets, dtype: object)\n",
      "0    Satisfação é receber o currículo do cara que c...\n",
      "1    Até minha irma acho que conseguiu emprego.. Ag...\n",
      "2    Não é hora de discutir sobre bullyng É hora de...\n",
      "3    Fui trabalhar hoje só para comer bolo e fazer ...\n",
      "Name: tweets, dtype: object\n",
      "0    eu era tipo o chris da casa o pretinho que sof...\n",
      "1    A justiça de Deus tarda mas não falha. Eu cons...\n",
      "2    eu to sofrendo bullyng lá no meu trabalho, não...\n",
      "3    O jovem teresinense vive num eterno bullyng d ...\n",
      "4    Os que faziam bullyng agradeceram por ter salv...\n",
      "5    MINHA PRIMA FOI NUMA ENTREVISTA DE EMPREGO A M...\n",
      "Name: tweets, dtype: object\n",
      "Series([], Name: tweets, dtype: object)\n",
      "0    @_Extraviou @Juanaah sim aqueles mlk q escuta ...\n",
      "Name: tweets, dtype: object\n",
      "0                 eu sofro bullying por nao ter emprego\n",
      "1              eu sofro bullying por nao ter um emprego\n",
      "2     eu fico com medo da galera que fiz bullying na...\n",
      "3     aqui em casa as pessoas tudo me zoando pois na...\n",
      "4     jornalista. mas acho que no primeiro bullying ...\n",
      "5     Arrumou um emprego no time da RGT pela alta ca...\n",
      "6     coitada da pessoa branca que perde emprego por...\n",
      "7     porrada em mim por ter denunciado o tal bullyi...\n",
      "8     Dica de hoje: quando vocês quiserem um estágio...\n",
      "9       o pessoal do meu emprego ta me fazendo bullying\n",
      "10    tenho emprego, conta corrente, conta poupança ...\n",
      "11    isso é bullying contra uma pessoa que acabou d...\n",
      "12    Tenho um amigo que reprovou no psicotécnico pr...\n",
      "13    O bullying trabalhista já começa quando no anú...\n",
      "14    ESTOU SOFRENDO BULLYING COM MEU NOVO EMPREGO D...\n",
      "15    querida olha o bullying!!!! so vou trocar de c...\n",
      "16    Bullying no emprego, uma horrível tendência em...\n",
      "17    to praticando bullying com a chefe, rçrç perco...\n",
      "18    Isto é preocupante: bullying no emprego, uma h...\n",
      "19    Quem me fez bullying está hoje me pedindo empr...\n",
      "20    @JSnotario Foi bullying. Não resultou. Há que ...\n",
      "21    lembra daquele robô bonzinho que sofria bullyi...\n",
      "22    lembra do robô bonzinho que sofria bullying?  ...\n",
      "23    Pode ser q bullying o pessoal da esq seja o je...\n",
      "24    aí volto, depois de horas fora, e encontro jor...\n",
      "25    Ibra fazendo o bom e velho bullying corporativ...\n",
      "26    O que eu sempre digo tá passando no JN agora. ...\n",
      "27    Não sei se deixo meu Twitter aberto, já sofri ...\n",
      "28    @sheilarmeyer Nos dias que correm, até ter um ...\n",
      "29    A maioria que fazia bullying em forum de jogui...\n",
      "30    @uelituxxx ta jogando na cara q vc tem um empr...\n",
      "31    @bittersteel01 Veja o caso do cara de San Bern...\n",
      "32    Oferta de emprego: Experto &quot;Bullying&quot...\n",
      "Name: tweets, dtype: object\n",
      "0     Kkkkkkkwual o bullying? É um emprego!! A palav...\n",
      "1     E assim foi a história do primeiro emprego do ...\n",
      "2     Tu próprio te fazes bullying, assim perco o em...\n",
      "3     Ah eh pior Dívida, faculdade, emprego em tempo...\n",
      "4     Todo dia eu vejo isso que o Paulo Antunes falo...\n",
      "5     #SuaPiadaMata entendam: racismo reverso não ex...\n",
      "6     Campanha contra racismo oferece vaga de empreg...\n",
      "7     é isso, miga. sabe o mais louco? na adolescênc...\n",
      "8     justin nasceu pobre, a pattie trabalhava em ma...\n",
      "9     agora um ping pong rápido aqui   infância? bul...\n",
      "10    Que trabalheira tratar as pessoas com mais emp...\n",
      "11    Tava tendo aquele \"bate bola jogo rapido de um...\n",
      "12    ah já sofri bullying, no último emprego que eu...\n",
      "13    Sofreu bullying e resolveu matar? E quando ess...\n",
      "14    Ele é um idiota. Vc viu q ele expôs um jornali...\n",
      "15    Quem questiona sobre pedofilia ou bullying per...\n",
      "16    O “bullying” afeta a saúde mental da criança; ...\n",
      "17    Prints do grupo criado pelos fãs da @ xingando...\n",
      "18    Nessa crise de hoje, bullying é perguntar se a...\n",
      "19    Foi dificil eu cheguei perder emprego por cont...\n",
      "20    sim mas quando eu arrumar emprego ninguém me s...\n",
      "21    “Bullying” associado a problemas com alimentaç...\n",
      "22    Noooooossa, realmente um apelido é a mesma coi...\n",
      "23    É errado ver gente que fez bullying contigo no...\n",
      "24    emprego, namoradinhas, meu peso, minha barba, ...\n",
      "25    já sofri bullying na escola preconceito todo d...\n",
      "26    KATHY GRIFFIN VAI PROCESSAR TRUMP POR BULLYING...\n",
      "27    eu não fui criada a base de leite nan terminei...\n",
      "28    É tão bom ver quem fazia bullying contigo num ...\n",
      "29    Um pai abandona o emprego para montar um servi...\n",
      "30    “Bullying” na infância pode afetar a saúde na ...\n",
      "31    O #bullying, no trabalho, pode tornar o melhor...\n",
      "32    enquanto você vai trabalhar em um emprego péss...\n",
      "33    #MeteoroSdvContraOBullying conheço pessoas bri...\n",
      "34    os idiotas que faziam bullying comigo continua...\n",
      "35    Sofro mto pra arrumar emprego por causa de ser...\n",
      "36    Os jovens estudaram 10 anos na escola, acordan...\n",
      "37    Eu sofri no primeiro emprego porque tinha muit...\n",
      "38    Por incrível que pareça, só sofri bullying no ...\n",
      "39    eu ja vi pessoas sofrerem bullying por tudo, m...\n",
      "40    Érika... Isso é muito grave,é bullying,ele pod...\n",
      "41    Bullying na infância e o risco de doenças crón...\n",
      "42    E mais fácil o pessoal do DH ir visitar o Gole...\n",
      "43    Artigo revela que um chefe ruim pode adoecer o...\n",
      "44    não duvido nada! A moda é fazer anúncios de em...\n",
      "45    o pai d vcs também da um emprego p um escroto ...\n",
      "46    Eu fazia bullying no cara que vai arrumar um e...\n",
      "47    Essas \"crianças\" que se traumatizam com td, td...\n",
      "48    Sim! Não dá pra dizer que alguém muito magro n...\n",
      "49    É normal a capa da carteira de trabalho da pes...\n",
      "50    Gesto solidário: Zendaya oferece emprego a fã ...\n",
      "51    Gesto solidário: Zendaya oferece emprego a fã ...\n",
      "52    Gesto solidário: Zendaya oferece emprego a fã ...\n",
      "53    sobre sofrer bullying na família por n fazer f...\n",
      "54    pessoa q depende dele, cumprir com o seu verda...\n",
      "Name: tweets, dtype: object\n",
      "0     @Gabpaiva_ isso é bullying sabia? Não pode ame...\n",
      "1     @MelissaTamye E não mudou muito até hoje. Cria...\n",
      "2     \"Ai meu filho sofre bullying meu deus\". Pronto...\n",
      "3     Sabia que a Lea ia ter alguma coisa importante...\n",
      "4     bullying e preconceito, só porque ele tinha ac...\n",
      "5     tava na delegacia hoje e um cara entrou lá pra...\n",
      "6     Tudo errado. \"@o_colecionador: A invenção do c...\n",
      "7     A invenção do conceito de \"bullying\" garantirá...\n",
      "8     @leftnevermore só isso que você sabe fazer?  B...\n",
      "9     @badgabri @pinkishmermaid eu até hoje não sei ...\n",
      "10    @pqpvial @yokugekin @_GuiiR saksopakskask vamo...\n",
      "11    Ah pára! Quer dizer que hetero tá sendo espanc...\n",
      "12    @wtenshi  É a história de um teen panda que a ...\n",
      "13    🎬 Brincadeiras inconvenientes e abuso de poder...\n",
      "14    N acredito q esse praticador de bullying tem u...\n",
      "15    @dangli_ @brozx @bebtch a pessoa magra vai sof...\n",
      "16    a vida se baseia em sofrer bullying, estudar, ...\n",
      "17    Porque vocês vivem mandando eu arruma um empre...\n",
      "18    Bullying no ambiente de trabalho, e agora? zip...\n",
      "19    O moço que fazia bullying com o pequeno Gabu a...\n",
      "20    o boy que praticava bullying comigo veio pedir...\n",
      "21    @hahatommo eeeeeh vc vai pagar? pq eu sou pobr...\n",
      "22    Não ingresso no Youtube por causa das conseque...\n",
      "23    @DREWXAVECAO @EXFLOP Laura Green diz ter aband...\n",
      "24    RT Laura Green diz ter abandonado a faculdade ...\n",
      "25    Dai vc arruma um emprego, tem q levar marmita,...\n",
      "26    @HeelIgor problemas na sociedade como o bullyi...\n",
      "27    minha faculdade é uma gloria: me deixa cansada...\n",
      "28    @gamaleth nunca foram seguidas no shopping , n...\n",
      "29    Bullying na adolescência associado à depressão...\n",
      "30    O carinha da sala q zoava todo mundo, não estu...\n",
      "31    To achando que é bullying comigo pq ninguém me...\n",
      "32                sofrendo bullying por não ter emprego\n",
      "33             O bullying é algo sem fim nesse emprego.\n",
      "34    (Noticias ao minuto) Quis dar uma lição sobre ...\n",
      "35    Quis dar uma lição sobre bullying, acabou sem ...\n",
      "36    Quase 3 semanas no novo emprego e já sofro bul...\n",
      "37    Vaga de emprego. Pra meninas. Maiores do que 1...\n",
      "38    Momento Bullying Arte alvo: professora italian...\n",
      "39    Procurar emprego para ficar triste e deprimida...\n",
      "40    procura-se um emprego no qual eu não sofra bul...\n",
      "41    procura-se um emprego no qual eu não sofra bul...\n",
      "42    HUMORISTAS TUCANOS PERDENDO EMPREGO EM MASSA V...\n",
      "43    Professora perde emprego depois de fazer bully...\n",
      "44    MANDOU MAL! Professora perde emprego após faze...\n",
      "45    MANDOU MAL! Professora perde emprego após faze...\n",
      "46    Professora perde emprego depois de fazer bully...\n",
      "47    MANDOU MAL! Professora perde emprego após faze...\n",
      "48    Arianny Celeste reclama de bullying e Ronda re...\n",
      "49    Acusada de bullying, Ronda detona ring girl do...\n",
      "50    Acusada de bullying, Ronda detona ring girl do...\n",
      "51    Acusada de bullying, Ronda detona ring girl do...\n",
      "52    @rkofgrey queria ir até o 8 ou 10 pq daí dá pr...\n",
      "53    ja perdi vaga em emprego por causa do tamanho ...\n",
      "54    Quem aí sofreu bullying no primeiro emprego? S...\n",
      "55    @Dan_Quevedo @ThiSartto procurar emprego na no...\n",
      "56    Quando eu acho emprego pra minha área de forma...\n",
      "57    O jogador falar que nunca ganhou título por um...\n",
      "58    se eu conseguir bolsa no cursinho ou um empreg...\n",
      "59    \"@NossoPresenteLS: LUAN É MUITO ZOERA QOWODKXK...\n",
      "Name: tweets, dtype: object\n",
      "0      não disse que não sofre, mas em lugar nenhum d...\n",
      "1      Branco sofre bullying e não racismo! Em nenhum...\n",
      "2      enfim2, o modo que ela superou esses ocorridos...\n",
      "3      Concordo q ele fez bullying a toa. Mas assim: ...\n",
      "4      Eu fiquei uns 2-3 dias. Primeiro q era um grup...\n",
      "                             ...                        \n",
      "100    confesso que fico feliz quando vejo a galera q...\n",
      "101    Voce que sofreu bullying no EM: 23 anos é a id...\n",
      "102    eu: apenas histórias profundas me emocionam  *...\n",
      "103    #EstouDeSacoCheioDe bullying do futuro fulano ...\n",
      "104    Bullying que meus filhos vão sofrer: — “E a tu...\n",
      "Name: tweets, Length: 105, dtype: object\n"
     ]
    }
   ],
   "source": [
    "#\n",
    "directory = \"./\"\n",
    "tweets = []\n",
    "def lerFolder():\n",
    "    for filename in os.listdir(directory):\n",
    "        if filename != \".git\" and filename != \"main.py\" and filename != \".ipynb_checkpoints\" and filename != \"Untitled.ipynb\" and filename != \"documentacaoErros\" and filename != \"Primeiratentativa\" and filename != \"Segundatentativa\":\n",
    "          for csv in os.listdir(filename):\n",
    "               if csv != \".ipynb_checkpoints\" and csv != \".obsidian\" and csv !=\"Erros.md\":\n",
    "                    newCsv = pd.read_csv(\"./\"+filename+\"/\"+csv)\n",
    "                    tweets.append(newCsv['tweets'])\n",
    "def tratarCaracteresEPalavras\n",
    "    \n",
    "    #print(len(tweets))\n",
    "lerFolder()"
   ]
  },
  {
   "cell_type": "code",
   "execution_count": null,
   "id": "83529350-2b92-45b0-a0f7-431f8dafd9f6",
   "metadata": {},
   "outputs": [],
   "source": []
  }
 ],
 "metadata": {
  "kernelspec": {
   "display_name": "Python 3 (ipykernel)",
   "language": "python",
   "name": "python3"
  },
  "language_info": {
   "codemirror_mode": {
    "name": "ipython",
    "version": 3
   },
   "file_extension": ".py",
   "mimetype": "text/x-python",
   "name": "python",
   "nbconvert_exporter": "python",
   "pygments_lexer": "ipython3",
   "version": "3.10.13"
  }
 },
 "nbformat": 4,
 "nbformat_minor": 5
}
