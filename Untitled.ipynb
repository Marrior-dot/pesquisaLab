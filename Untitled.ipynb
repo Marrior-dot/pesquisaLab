{
 "cells": [
  {
   "cell_type": "code",
   "execution_count": 39,
   "id": "b6be79dc-deb5-4996-8a6f-399a89526213",
   "metadata": {
    "editable": true,
    "slideshow": {
     "slide_type": ""
    },
    "tags": []
   },
   "outputs": [],
   "source": [
    "#Descrição de cada Biblioteca:\n",
    "#Pandas, utilizada para a organização dos dados em tabelas\n",
    "#https://nbconvert.readthedocs.io/en/latest/install.html#installing-tex.\n",
    "import pandas as pd\n",
    "\n",
    "#ntscrapper, biblioteca utilizada neste tutorial para extrair uma base de dados, no caso da biblioteca, do twitter\n",
    "from ntscraper import Nitter\n",
    "\n",
    "#os, utilizada para ler arquivos no diretório que sirvam como banco de dados, no caso deste trabalho, foram utilizados arquivos .csv\n",
    "import os\n",
    "\n",
    "#re, biblioteca para uso de expressões regulares\n",
    "import re\n",
    "\n",
    "#spacy, biblioteca de processamento de linguagem natural\n",
    "import spacy as spy\n",
    "#simport sys\n",
    "\n",
    "#gensim, biblioteca utilizada para implementação do método para criação do vocabulário, modelagem de tópicos LDA\n",
    "from gensim import corpora\n",
    "import gensim as gs"
   ]
  },
  {
   "cell_type": "markdown",
   "id": "6594792a-9d4e-4bf6-b775-7460b49424f4",
   "metadata": {},
   "source": [
    "# Coleta de Dados\n",
    "Primeira etapa do projeto, consiste procurar pelos dados brutos a serem analisados, neste exemplo será utilizada a biblioteca ntScrapper que extrai *tweets*. \n",
    "\n",
    "## search_bully\n",
    "* A variável scrap amarzena o método Nitter() da biblioteca\n",
    "* O método **search_bully** toma dois parâmetros o termo a ser buscado e o ano, busca média de 1000 tweets correspondentes e guarda-os no final em uma tabela da biblioteca, gerando um CSV com os dados"
   ]
  },
  {
   "cell_type": "code",
   "execution_count": 40,
   "id": "5859c465-6dc2-40c9-b5b7-f3acf92d302d",
   "metadata": {},
   "outputs": [
    {
     "name": "stderr",
     "output_type": "stream",
     "text": [
      "Testing instances: 100%|████████████████████████| 77/77 [02:32<00:00,  1.98s/it]\n"
     ]
    }
   ],
   "source": [
    "#Primeira Parte do Exemplo\n",
    "scrap = Nitter()\n",
    "def search_bully(terms, ano):\n",
    "    final_tweets = []\n",
    "    bully = scrap.get_tweets(terms, mode=\"term\", number=1000, language=\"pt\",since=f\"{ano}-01-01\", until=f\"{ano}-12-31\")\n",
    "    print(\"Termos pequisados:\"+terms+\"\\n\"+\"Ano pesquisado:\"+f\"{ano}\")\n",
    "    for twt in bully['tweets']:\n",
    "        print(twt['text']+\"\\n\"+\"\\n\")\n",
    "        thetwt = [twt['text'], ano]\n",
    "        final_tweets.append(thetwt)\n",
    "        print(\"-------Proximo twt---------\")\n",
    "    csvtweets = pd.DataFrame(final_tweets, columns=['tweets', 'ano'])\n",
    "    csvtweets.to_csv(f\"{terms}tweets{ano}.csv\")        "
   ]
  },
  {
   "cell_type": "markdown",
   "id": "0a1d1a7a-24fa-4bfc-9e9c-93c9a3aad416",
   "metadata": {},
   "source": [
    "## Exemplo de execução do método\n",
    "* O exeemplo utiliza o mesmo termo e anos diferentes para busca\n",
    "* Cada um deve gerar um csv com o título 'bully trabalho201x.csv'"
   ]
  },
  {
   "cell_type": "code",
   "execution_count": 41,
   "id": "b62cb926-5484-41cd-95ac-99e2ab24fea3",
   "metadata": {
    "scrolled": true
   },
   "outputs": [
    {
     "name": "stdout",
     "output_type": "stream",
     "text": [
      "28-Feb-24 09:22:47 - No instance specified, using random instance https://nitter.us.projectsegfau.lt\n",
      "28-Feb-24 09:22:49 - Empty page on https://nitter.us.projectsegfau.lt\n",
      "Termos pequisados:bully trabalho\n",
      "Ano pesquisado:2015\n",
      "28-Feb-24 09:22:51 - No instance specified, using random instance https://nitter.privacydev.net\n",
      "28-Feb-24 09:22:53 - Fetching error: Instance has been rate limited.Use another instance or try again later.\n",
      "Termos pequisados:bully trabalho\n",
      "Ano pesquisado:2016\n",
      "28-Feb-24 09:22:55 - No instance specified, using random instance https://nitter.privacydev.net\n",
      "28-Feb-24 09:22:57 - Fetching error: Instance has been rate limited.Use another instance or try again later.\n",
      "Termos pequisados:bully trabalho\n",
      "Ano pesquisado:2017\n",
      "28-Feb-24 09:22:59 - No instance specified, using random instance https://nitter.privacydev.net\n",
      "28-Feb-24 09:23:00 - Fetching error: Instance has been rate limited.Use another instance or try again later.\n",
      "Termos pequisados:bully trabalho\n",
      "Ano pesquisado:2018\n"
     ]
    }
   ],
   "source": [
    "#Exemplo de execução do método\n",
    "search_bully('bully trabalho', 2015) \n",
    "search_bully('bully trabalho', 2016)\n",
    "search_bully('bully trabalho', 2017)\n",
    "search_bully('bully trabalho', 2018) "
   ]
  },
  {
   "cell_type": "markdown",
   "id": "ce4b6ade-8d52-4e03-9b95-fc45b95cd2d8",
   "metadata": {},
   "source": [
    "## Observação:\n",
    "A célula abaixo não é esencial para o vocabulário, mas mostra as quantidade de termos em cada ano"
   ]
  },
  {
   "cell_type": "markdown",
   "id": "e546879c-fe7c-40c7-aa77-41d6171d659e",
   "metadata": {},
   "source": [
    "### pandasRead\n",
    "toma como parâmetro o arquivo csv a ser lido e retorna o seu tamanho\n",
    "\n",
    "### coletaDeTweets\n",
    "* Coleta os tweets dos arquvios baseados em cada ano de busca\n",
    "* Itera sobre os arquivos do diretório atual e adiciona em 'folders' somente os arquivos diferentes de '.git', 'main.py', 'Untitled.ipynb\n",
    "* Para cada arquivo dentro de folder, será filtrado a qual ano pertence, dessa forma os arquivos são postos dentro de arrays e após isso dentro de dataFrames do pandas"
   ]
  },
  {
   "cell_type": "code",
   "execution_count": 24,
   "id": "7ecf9a02-a8f6-40b5-ab46-5df20e9924ea",
   "metadata": {},
   "outputs": [
    {
     "name": "stdout",
     "output_type": "stream",
     "text": [
      "           Termos  2015  2016  2017  2018\n",
      "0  bully_trabalho    26    21    47    61\n"
     ]
    }
   ],
   "source": [
    "#Método que retorna o tamanho do arquivos csv\n",
    "def pandasRead(folder):\n",
    "    read = pd.read_csv(folder)\n",
    "    return len(read)\n",
    "\n",
    "#Coleta os tweets dos arquvios baseados em cada ano de busca\n",
    "def coletaDeTweets():\n",
    "    directory = './'\n",
    "    folders = []\n",
    "    folder2015=[]\n",
    "    folder2016=[]\n",
    "    folder2017=[]\n",
    "    folder2018=[]\n",
    "\n",
    "    #itera sobre os arquivos do diretório atual e adiciona em 'folders' somente os arquivos diferentes de '.git', 'main.py', 'Untitled.ipynb', 'documentacaoErros/', 'Primeiratentativa/', 'Segundatentativa/''\n",
    "    for filename in os.listdir(directory):\n",
    "        if filename != \".git\" and  filename != \".ipynb_checkpoints\" and filename != \"Untitled.ipynb\":\n",
    "            folders.append(filename)\n",
    "    #itera sobre os arquivos dentro de folders\n",
    "    for csvfolder in folders:\n",
    "        #Para cada arquivo dentro de folder, será filtrado a qual ano pertence, dessa forma os arquivos\n",
    "        #São postos dentro de arrays e após isso dentro de dataFrames do pandas\n",
    "        for csvs in os.listdir(csvfolder):\n",
    "            if csvs != \".ipynb_checkpoints\" and csvs != \".obsidian\" and csvs !=\"Erros.md\":\n",
    "                pass\n",
    "            if csvs[-5] == '5':\n",
    "                folder2015.append(pandasRead(\"./\"+csvfolder+\"/\"+csvs))\n",
    "            elif csvs[-5] == '6':\n",
    "                folder2016.append(pandasRead(\"./\"+csvfolder+\"/\"+csvs))\n",
    "            elif csvs[-5] == '7':\n",
    "                folder2017.append(pandasRead(\"./\"+csvfolder+\"/\"+csvs))\n",
    "            elif csvs[-5] == '8':\n",
    "                folder2018.append(pandasRead(\"./\"+csvfolder+\"/\"+csvs))\n",
    "    termosFrame = pd.DataFrame({\"Termos\":folders, \"2015\":folder2015, \"2016\":folder2016,\n",
    "                               \"2017\":folder2017,\"2018\":folder2018,})\n",
    "    print(termosFrame)\n",
    "    \n",
    "coletaDeTweets()"
   ]
  },
  {
   "cell_type": "markdown",
   "id": "601e75ca-3f15-43ea-8043-892f82f0aa1a",
   "metadata": {},
   "source": [
    "# Tratamento de Caracteres\n",
    "Nesta etapa haverá o tratamento dos dados tornando todas as letras em minúsculas, removendo os *tweets* com comprimento menor que 5 e também remove *links*, citações, *hashtags* e outros símbolos \n",
    "\n",
    "## lerFolder\n",
    "Trata os termos dentro dos folders obtidos anteriormente, e os coloca dentro de um array\n",
    "\n",
    "## letrasMinúsculas\n",
    "Trata todos os textos dentro dos arquivos os transformando para minúsculo\n",
    "\n",
    "## removerTweetsPoucosCaracteres\n",
    "Remove o tweets com caracteres menores que 5\n",
    "\n",
    "## removerLinkQuotsHashtags\n",
    "Remove links, citações, hastags e caracteres que são símbolos\n",
    "\n",
    "## tratarCaracteresPalavras\n",
    "Chama, respectivamente, os métodos, letrasMinúsculas, removerTweetsPoucosCaracteres, removerLinkQuotesHashtags"
   ]
  },
  {
   "cell_type": "code",
   "execution_count": 32,
   "id": "87e42f0c-7779-4c54-a6d3-16a756128912",
   "metadata": {},
   "outputs": [
    {
     "name": "stdout",
     "output_type": "stream",
     "text": [
      "textos convertidos para minusculo: 155\n",
      "tweets menores que 5: 0\n",
      "links removidos: 10\n",
      "hashtags removidos: 15\n",
      "caracteres não alfanuméricos removidos: 30\n",
      "citacoes removidas: 10\n"
     ]
    }
   ],
   "source": [
    "#Tratamento de caracteres\n",
    "directory = \"./\"\n",
    "tweets=[]\n",
    "tweetsToLower=[]\n",
    "\n",
    "#Trata os termos dentro dos folders obtidos anteriormente, e os coloca dentro de um array\n",
    "def lerFolder():\n",
    "    for filename in os.listdir(directory):\n",
    "        if filename != \".git\" and filename != \"main.py\" and filename != \".ipynb_checkpoints\" and filename != \"Untitled.ipynb\" and filename != \"documentacaoErros\" and filename != \"Primeiratentativa\" and filename != \"Segundatentativa\":\n",
    "          for csv in os.listdir(filename):\n",
    "               if csv != \".ipynb_checkpoints\" and csv != \".obsidian\" and csv !=\"Erros.md\":\n",
    "                    newCsv = pd.read_csv(\"./\"+filename+\"/\"+csv)\n",
    "                    tweets.append(newCsv['tweets'])\n",
    "\n",
    "#Trata todos os textos dentro dos arquivos os transformando para minúsculo\n",
    "def letrasMinusculas():\n",
    "    contadorLetrasMinusculas = 0\n",
    "    for array in tweets:\n",
    "        for twt in array:\n",
    "            if type(twt) == float:\n",
    "                pass\n",
    "            else:\n",
    "                contadorLetrasMinusculas += 1\n",
    "                tweetsToLower.append(twt.lower())\n",
    "    print(\"textos convertidos para minusculo: \"+str(contadorLetrasMinusculas))\n",
    "\n",
    "#Remove o tweets com caracteres menores que 5\n",
    "def removerTweetsPoucosCaracteres(lista=tweetsToLower):\n",
    "    tweetsMenores = 0\n",
    "    for item in lista:\n",
    "        if (len(item) < 5):\n",
    "            tweetsMenores += 1\n",
    "            lista.remove(item)\n",
    "    print(\"tweets menores que 5: \"+str(tweetsMenores))\n",
    "\n",
    "#Remove links, citações, hastags e caracteres que são símbolos\n",
    "def removerLinkQuotesHashtags():  \n",
    "    contadorLinks = 0\n",
    "    contadorHashTags = 0\n",
    "    contadorCaracteres = 0\n",
    "    contadorCitacoes = 0\n",
    "    #Remove links nas seguintes estruturas:\n",
    "    #https://subdom.dom.com.countrycode/urlstr\n",
    "    #https://subdom.dom.com/urlstr\n",
    "    #https://subdom.dom/urlstr\n",
    "    for item in range(len(tweetsToLower)):\n",
    "        if len(re.findall(\"https://[a-zA-Z0-9]+[.][a-zA-Z0-9]+[.][a-zA-Z0-9]+[.][a-zA-Z0-9]+[/[a-zA-Z0-9]+]*\", tweetsToLower[item])) > 0:\n",
    "            tweetsToLower[item]=re.sub(\"https://[a-zA-Z0-9]+[.][a-zA-Z0-9]+[.][a-zA-Z0-9]+[.][a-zA-Z0-9]+[/[a-zA-Z0-9]+]*\",\"\", tweetsToLower[item])\n",
    "            #print(tweetsToLower[item])\n",
    "            contadorLinks += 1\n",
    "        if len(re.findall(\"https://[a-zA-Z0-9]+[.][a-zA-Z0-9]+[.][a-zA-Z0-9]+[/[a-zA-Z0-9]+]*\", tweetsToLower[item])) > 0:\n",
    "            tweetsToLower[item]=re.sub(\"https://[a-zA-Z0-9]+[.][a-zA-Z0-9]+[.][a-zA-Z0-9]+[/[a-zA-Z0-9]+]*\",\"\", tweetsToLower[item])\n",
    "            #print(tweetsToLower[item])\n",
    "            contadorLinks += 1\n",
    "        if len(re.findall(\"https://[a-zA-Z0-9]+[.][a-zA-Z0-9]+[/[a-zA-Z0-9]+]*\", tweetsToLower[item])) > 0:\n",
    "            tweetsToLower[item]=re.sub(\"https://[a-zA-Z0-9]+[.][a-zA-Z0-9]+[/[a-zA-Z0-9]+]*\",\"\", tweetsToLower[item])\n",
    "            contadorLinks += 1\n",
    "            #print(tweetsToLower[item])\n",
    "    \n",
    "    #Remove # no inicio e final de palavras\n",
    "    for item in range(len(tweetsToLower)):\n",
    "        if len(re.findall(\"#[a-zA-Z0-9]+\", tweetsToLower[item])) > 0: \n",
    "            #print(re.findall(\"#[a-zA-Z0-9]+\", tweetsToLower[item]))\n",
    "            tweetsToLower[item] = re.sub(\"#[a-zA-Z0-9]+\", \"\", tweetsToLower[item])\n",
    "            contadorHashTags += 1\n",
    "        if len(re.findall(\"[a-zA-Z0-9]+#\", tweetsToLower[item])) > 0:\n",
    "            #print(re.findall(\"[a-zA-Z0-9]+#\", tweetsToLower[item])):\n",
    "            tweetsToLower[item] = re.sub(\"[a-zA-Z0-9]+#\", \"\", tweetsToLower[item])\n",
    "            contadorHashTags += 1\n",
    "            \n",
    "    #Remove caracteres não alfanuméricos, no inicio, meio e fim de sentenças\n",
    "    for item in range(len(tweetsToLower)):\n",
    "        if len(re.findall(\"[a-zA-Z0-9]+[@:!$%&*+=|]+[a-zA-Z0-9]+\", tweetsToLower[item])) > 0:\n",
    "            contadorCaracteres += 1\n",
    "            for iter in re.findall(\"[a-zA-Z0-9]+[@:!$%&*+=|]+[a-zA-Z0-9]+\", tweetsToLower[item]):\n",
    "                tweetsToLower[item] = re.sub(\"[a-zA-Z0-9]+[@:!$%&*+=|]+[a-zA-Z0-9]+\",\"\", iter)\n",
    "                \n",
    "        if len(re.findall(\"[:!$%&*+=|]+[a-zA-Z0-9]+\", tweetsToLower[item])) > 0:\n",
    "            contadorCaracteres += 1\n",
    "            #print(re.findall(\"[@:!$%&*+=|][a-zA-Z0-9]+\", tweetsToLower[item]))\n",
    "            for iter in re.findall(\"[:!$%&*+=|]+[a-zA-Z0-9]+\", tweetsToLower[item]):\n",
    "                tweetsToLower[item] = re.sub(\"[:!$%&*+=|]+[a-zA-Z0-9]+\",\"\", iter)\n",
    "                \n",
    "        if len(re.findall(\"[a-zA-Z0-9]+[@:!$%&*+=|]\", tweetsToLower[item])) > 0:\n",
    "            contadorCaracteres += 1\n",
    "            #print(re.findall(\"[a-zA-Z0-9]+[@:!$%&*+=|]\", tweetsToLower[item]))\n",
    "            for iter in re.findall(\"[a-zA-Z0-9]+[@:!$%&*+=|]\", tweetsToLower[item]):\n",
    "                tweetsToLower[item] = re.sub(\"[a-zA-Z0-9]+[@:!$%&*+=|]\",\"\", iter)\n",
    "\n",
    "    #Remove citações de usuários\n",
    "    for item in range(len(tweetsToLower)):\n",
    "        if len(re.findall(\"[@]+[a-zA-Z0-9]+\", tweetsToLower[item])) > 0:\n",
    "            contadorCitacoes += 1\n",
    "            #print(re.findall(\"[@:!$%&*+=|][a-zA-Z0-9]+\", tweetsToLower[item]))\n",
    "            for iter in re.findall(\"[@]+[a-zA-Z0-9]+\", tweetsToLower[item]):\n",
    "                tweetsToLower[item] = re.sub(\"[@]+[a-zA-Z0-9]+\",\"\", iter)\n",
    "    print(\"links removidos: \"+ str(contadorLinks))\n",
    "    print(\"hashtags removidos: \"+ str(contadorHashTags))\n",
    "    print(\"caracteres não alfanuméricos removidos: \"+ str(contadorCaracteres))\n",
    "    print(\"citacoes removidas: \"+ str(contadorCitacoes))\n",
    "def tratarCaracteresEPalavras():\n",
    "    letrasMinusculas()\n",
    "    removerTweetsPoucosCaracteres()\n",
    "    removerLinkQuotesHashtags()\n",
    "    #print(tweetsToLower)\n",
    "lerFolder()\n",
    "tratarCaracteresEPalavras()"
   ]
  },
  {
   "cell_type": "markdown",
   "id": "215cd3e0-439c-4fbc-8b99-9b510b03b780",
   "metadata": {},
   "source": [
    "# Tokenização \n",
    "Nesta etapa os *tweets* vão ser divididos em listas chamadas de *tokes*, aqui serão serão eliminados *tokens* muitos pequenos, eliminação de *stop words* e *tokens* vazios\n",
    "\n",
    "## criarTokens\n",
    "divide cada *tweet* em elementos de uma lista\n",
    "\n",
    "## eliminarTokensPequenos\n",
    "ELiminar tokens pequenos com menos de 3 de comprimento\n",
    "\n",
    "## eliminarStopWords\n",
    "Elimina as stopwords presentes no array stopWords\n",
    "\n",
    "## eliminarTokensVazios\n",
    "Elimia os tokens vazios, len(token) == 0\n",
    "\n",
    "## tokenizacao\n",
    "Chama, respectivamente, os métodos na seguinte ordem criarTokens, eliminarTokensPequenos, eliminarStopWords, eliminarTokensVazios"
   ]
  },
  {
   "cell_type": "code",
   "execution_count": 33,
   "id": "83529350-2b92-45b0-a0f7-431f8dafd9f6",
   "metadata": {},
   "outputs": [
    {
     "name": "stdout",
     "output_type": "stream",
     "text": [
      "tokens pequenos eliminados: 114\n",
      "stop words eliminadas: 105\n",
      "tokens vazios eliminados: 30\n"
     ]
    }
   ],
   "source": [
    "#Tokenização\n",
    "tweetsTokens = []\n",
    "#Crias os tokens\n",
    "def criarTokens():\n",
    "    for item in tweetsToLower:\n",
    "        tweetsTokens.append(item.split())\n",
    "\n",
    "#ELiminar tokens pequenos com menos de 3 de comprimento\n",
    "def eliminarTokensEPequenos():\n",
    "    tokensPequenosEliminados = 0\n",
    "    tweeAlterado = False\n",
    "    for token in tweetsTokens:\n",
    "        #print(token)\n",
    "        for item in token:\n",
    "            if len(item) < 3:\n",
    "                tweeAlterado = True\n",
    "                token.remove(item)\n",
    "        if tweeAlterado == True:\n",
    "            tokensPequenosEliminados += 1\n",
    "            tweeAlterado = False\n",
    "    print(\"tokens pequenos eliminados: \" + str(tokensPequenosEliminados))\n",
    "\n",
    "#Elimina as stopwords presentes no array stopWords\n",
    "def elimiarStopWords():\n",
    "    stopWordsEliminadas = 0\n",
    "    tweeAlterado = False\n",
    "    stopWords = ['que', 'para', 'com',  'não',  'uma', 'por',  'mais',  'dos',  'como',  'mas',  'foi', 'ele',  'das',  'tem', 'seu',  'sua', 'ser',  'quando',  'muito', 'nos', 'está', 'também', 'pelo',  'pela',  'até',  'isso',  'ela',  'entre',  'era',  'depois',  'sem',  'mesmo',  'aos',  'ter',  'seus',  'quem',  'nas',  'esse',  'eles',  'estão',  'você',  'tinha',  'foram',  'essa',  'num',  'nem',  'suas',  'meu', 'minha',  'têm',  'numa',  'pelos',  'elas',  'havia',  'seja',  'qual',  'será',  'nós',  'tenho',  'lhe',  'deles',  'essas',  'esses',  'pelas',  'este',  'fosse',  'dele', 'vocês',  'vos',  'lhes',  'meus',  'minhas',  'teu',  'tua',  'teus',  'tuas',  'nosso',  'nossa',  'nossos',  'nossas',  'dela',  'delas',  'esta',  'estes',  'estas',  'aquele',  'aquela',  'aqueles',  'aquelas',  'isto',  'aquilo',  'estou',  'está',  'estamos',  'estão',  'estive',  'esteve',  'estivemos',  'estiveram',  'estava',  'estávamos',  'estavam',  'estivera',  'estivéramos',  'esteja',  'estejamos',  'estejam',  'estivesse',  'estivéssemos',  'estivessem',  'estiver',  'estivermos',  'estiverem',  'hei', 'havemos',  'hão',  'houve',  'houvemos',  'houveram',  'houvera',  'houvéramos',  'haja',  'hajamos',  'hajam',  'houvesse',  'houvéssemos',  'houvessem',  'houver',  'houvermos',  'houverem',  'houverei',  'houverá',  'houveremos',  'houverão',  'houveria',  'houveríamos',  'houveriam',  'sou',  'somos',  'são',  'era',  'éramos',  'eram',  'fui',  'foi',  'fomos',  'foram',  'fora',  'fôramos',  'seja',  'sejamos',  'sejam',  'fosse',  'fôssemos',  'fossem',  'for',  'formos',  'forem',  'serei',  'será',  'seremos',  'serão',  'seria',  'seríamos',  'seriam',  'tenho',  'tem',  'temos',  'tém',  'tinha',  'tínhamos',  'tinham',  'tive',  'teve',  'tivemos',  'tiveram',  'tivera',  'tivéramos',  'tenha',  'tenhamos',  'tenham',  'tivesse',  'tivéssemos',  'tivessem',  'tiver',  'tivermos',  'tiverem',  'terei',  'terá',  'teremos',  'terão',  'teria',  'teríamos',  'teriam']\n",
    "    for token in tweetsTokens:\n",
    "        for item in token:\n",
    "            for word in stopWords:\n",
    "                if item == word:\n",
    "                    try:\n",
    "                        tweeAlterado = True\n",
    "                        token.remove(item)\n",
    "                    except:\n",
    "                        continue\n",
    "        if tweeAlterado == True:\n",
    "            stopWordsEliminadas += 1\n",
    "            tweeAlterado = False\n",
    "    print(\"stop words eliminadas: \"+str(stopWordsEliminadas))\n",
    "            \n",
    "#Elimia os tokens vazios, len(token) == 0\n",
    "def eliminarTokensVazios():\n",
    "    tokensVazios = 0\n",
    "    for token in tweetsTokens:\n",
    "        if len(token) == 0:\n",
    "            tokensVazios += 1\n",
    "            tweetsTokens.remove(token)\n",
    "    print(\"tokens vazios eliminados: \"+str(tokensVazios))\n",
    "\n",
    "def tokenizacao():\n",
    "    criarTokens()\n",
    "    eliminarTokensEPequenos()\n",
    "    elimiarStopWords()\n",
    "    eliminarTokensVazios()\n",
    "tokenizacao()\n",
    "#print(tweetsTokens)"
   ]
  },
  {
   "cell_type": "markdown",
   "id": "cadac82b-7d42-44d8-8d95-51019a713385",
   "metadata": {},
   "source": [
    "# Lematização\n",
    "Nesta etapa cada palavra dentro *tweetsTokens* passará pelo processo lematização, o processo consiste de normalizar cada uma das palavras para o seu formato singular masculino\n",
    "\n",
    "## lematizar() \n",
    "A função começa carregando o modelo em português da biblioteca *spacy*, em seguida, são feitas iterações dentro de cada lista em *tweets tokens*, assim como são atribuídos novos valores após a lematização desses"
   ]
  },
  {
   "cell_type": "code",
   "execution_count": 34,
   "id": "1d66fda6-fa16-40e9-b399-c6c928d79bd3",
   "metadata": {},
   "outputs": [
    {
     "name": "stdout",
     "output_type": "stream",
     "text": [
      "lematizações: 1471\n"
     ]
    }
   ],
   "source": [
    "#Lematização com spacy\n",
    "#Para utilizar a biblioteca, é necessário baixar o modelo para a lingua portuguesa\n",
    "#python -m spacy download pt_core_news_sm\n",
    "def lematizar():\n",
    "    lematizacoes = 0\n",
    "    #Carregamento do modelo\n",
    "    nlp = spy.load(\"pt_core_news_sm\")\n",
    "    for num in range(len(tweetsTokens)):\n",
    "       for item in range(len(tweetsTokens[num])):\n",
    "           #Processo de lematização de cada palavra presente em ttweetsTokens\n",
    "           tokenItem = nlp(tweetsTokens[num][item])\n",
    "           tweetsTokens[num][item] = tokenItem[0].lemma_\n",
    "           lematizacoes += 1\n",
    "    print(\"lematizações: \"+str(lematizacoes))\n",
    "lematizar()"
   ]
  },
  {
   "cell_type": "markdown",
   "id": "b6ae0218-5507-4c33-9b30-925095664e86",
   "metadata": {},
   "source": [
    "# Modelagem de tópicos LDA\n",
    "Em primeiro lugar a modelagem de tópcos consiste de extrair de um texto palavras que representem tópicos daquele texto. O LDA se baseia em extrair K tópicos baseados em N palavras presentes em M documentos, sendo que os tópicos são conjuntos de palavras e os documentos conjuntos de tópicos.quanto maior a quantidade de tópicos de uma documento maior a sua especificidade, quanto maior a quantidade de palavras por tópico maior a especificidade daquele tópico.\n",
    "\n",
    "## dictionary\n",
    "Cria dicinários para cada palavra, o dicionário consiste de cada palavra ser a chave para o valor da sua posição\n",
    "\n",
    "## corpus\n",
    "transforma os tokens em *bag of words*, conjunto de tuplas que em listas que indicam quantas vezes uma palavra aparece de acordo com o valor da sua posição.\n",
    "\n",
    "## ldamodel\n",
    "No caso desse trabalho, o lda entregará apenas os tópicos, os quais serão utilizados como vocabulário, dado que possuímos apenas um documento, a varíável irá entregar quais palavras possuem maior probabilidade de estarem relacionadas ao documento."
   ]
  },
  {
   "cell_type": "code",
   "execution_count": 35,
   "id": "adcf7a99-f0e4-4fd2-aeed-9791fb2a1a9e",
   "metadata": {},
   "outputs": [],
   "source": [
    "#Inicio do processo de modelagem de tópicos LDA\n",
    "dictionary = corpora.Dictionary(tweetsTokens)\n",
    "corpus = [dictionary.doc2bow(textos) for textos in tweetsTokens]\n",
    "ldamodel = gs.models.LdaModel(corpus, num_topics=10, id2word=dictionary, passes=5)"
   ]
  },
  {
   "cell_type": "markdown",
   "id": "302e6bcc-ab42-432e-9b20-c67f34f675ce",
   "metadata": {},
   "source": [
    "# Limpeza dos tópicos\n",
    "Processo para retirar apenas as palavras dos tópicos\n",
    "\n",
    "## limparTopicos()\n",
    "Tira as probabiliades e o sinal de '*'\n",
    "\n",
    "## limparVocabulario\n",
    "Tira as aspas duplas e o sinal de '+'\n",
    "\n",
    "## dividirArray()\n",
    "Para cada tópico são dívididas as suas palavras.\n",
    "\n",
    "## dataFrameVocab()\n",
    "Insere as plavras de clenaedVocab dentro de um DataFrame e o retorna por fim"
   ]
  },
  {
   "cell_type": "code",
   "execution_count": 36,
   "id": "e5a839b2-d031-441f-92f8-a7d7d9e8352a",
   "metadata": {
    "scrolled": true
   },
   "outputs": [],
   "source": [
    "#Limpeza dos dados obtidos pelo LDA\n",
    "topics3 = ldamodel.print_topics(num_topics=6, num_words=3)\n",
    "cleanedVocab = []\n",
    "\n",
    "#Tira as probabilidade e e o sinal de '*'\n",
    "def limparTopicos():\n",
    "    for tuple in topics3:\n",
    "        for element in range(len(tuple)):\n",
    "            if tuple[element] == tuple[0]:\n",
    "                continue\n",
    "            if re.match(\"0[.0-9][0-9][0-9*]\",tuple[element]):\n",
    "                cleanedVocab.append(re.sub(\"0[.0-9][0-9][0-9][0-9][*]\",\"\",tuple[element]))\n",
    "\n",
    "#Tira as aspas duplas e o sinal de '+'\n",
    "def limparVocabulario():    \n",
    "    for element in range(len(cleanedVocab)):\n",
    "            if re.findall(r'[\"]', cleanedVocab[element]):\n",
    "                cleanedVocab[element] = re.sub(r'[\"]',\"\", cleanedVocab[element])\n",
    "            if re.findall(\"[/s+/s]\", cleanedVocab[element]):\n",
    "                cleanedVocab[element] = re.sub(r'[+]',\"\", cleanedVocab[element])\n",
    "                \n",
    "#Divide os tópicos de cada elemento do array, baseado nos espaços entre os tópicos \n",
    "def dividirArray():\n",
    "    for element in range(len(cleanedVocab)):\n",
    "        cleanedVocab[element] = cleanedVocab[element].split(\" \")\n",
    "\n",
    "#Por fim retorna o dataFrame com o vocabulário\n",
    "def dataFrameVocab():\n",
    "    vocab = []\n",
    "    #Esta variável serve para monitorar se existem repetições de palavras achadas pelo LDA\n",
    "    vocabAdd = True\n",
    "    for array in cleanedVocab:\n",
    "        for element in array:\n",
    "            #Caso a iteração ache um '', este não é adicionado\n",
    "            if element == '':\n",
    "                continue\n",
    "                \n",
    "            for item in vocab:\n",
    "                if item == element:\n",
    "                    vocabAdd = False\n",
    "                    break\n",
    "            #Se vocabAdd = True adicionar o dito elemento\n",
    "            if vocabAdd == True:\n",
    "                vocab.append(element)\n",
    "            else:\n",
    "                pass\n",
    "    dataFrameVocab = pd.DataFrame(vocab, columns=[\"Vocabulário\"])\n",
    "    return dataFrameVocab    "
   ]
  },
  {
   "cell_type": "code",
   "execution_count": 37,
   "id": "514a2538-68e3-4f34-8c46-ea7678d5cebd",
   "metadata": {},
   "outputs": [
    {
     "data": {
      "text/html": [
       "<div>\n",
       "<style scoped>\n",
       "    .dataframe tbody tr th:only-of-type {\n",
       "        vertical-align: middle;\n",
       "    }\n",
       "\n",
       "    .dataframe tbody tr th {\n",
       "        vertical-align: top;\n",
       "    }\n",
       "\n",
       "    .dataframe thead th {\n",
       "        text-align: right;\n",
       "    }\n",
       "</style>\n",
       "<table border=\"1\" class=\"dataframe\">\n",
       "  <thead>\n",
       "    <tr style=\"text-align: right;\">\n",
       "      <th></th>\n",
       "      <th>Vocabulário</th>\n",
       "    </tr>\n",
       "  </thead>\n",
       "  <tbody>\n",
       "    <tr>\n",
       "      <th>0</th>\n",
       "      <td>trabalho</td>\n",
       "    </tr>\n",
       "    <tr>\n",
       "      <th>1</th>\n",
       "      <td>bully</td>\n",
       "    </tr>\n",
       "    <tr>\n",
       "      <th>2</th>\n",
       "      <td>ir</td>\n",
       "    </tr>\n",
       "  </tbody>\n",
       "</table>\n",
       "</div>"
      ],
      "text/plain": [
       "  Vocabulário\n",
       "0    trabalho\n",
       "1       bully\n",
       "2          ir"
      ]
     },
     "execution_count": 37,
     "metadata": {},
     "output_type": "execute_result"
    }
   ],
   "source": [
    "#Criação do vocabulário\n",
    "limparTopicos()\n",
    "limparVocabulario()\n",
    "dividirArray()\n",
    "dataFrameVocab()"
   ]
  },
  {
   "cell_type": "code",
   "execution_count": null,
   "id": "6063c098-0071-49df-a202-a95b985dd786",
   "metadata": {},
   "outputs": [],
   "source": []
  }
 ],
 "metadata": {
  "kernelspec": {
   "display_name": "Python 3 (ipykernel)",
   "language": "python",
   "name": "python3"
  },
  "language_info": {
   "codemirror_mode": {
    "name": "ipython",
    "version": 3
   },
   "file_extension": ".py",
   "mimetype": "text/x-python",
   "name": "python",
   "nbconvert_exporter": "python",
   "pygments_lexer": "ipython3",
   "version": "3.10.12"
  }
 },
 "nbformat": 4,
 "nbformat_minor": 5
}
